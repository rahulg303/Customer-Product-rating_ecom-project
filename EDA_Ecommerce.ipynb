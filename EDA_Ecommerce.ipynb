{
 "cells": [
  {
   "cell_type": "markdown",
   "id": "7e8e68ff-f87e-4a22-b590-cad7d0993a49",
   "metadata": {},
   "source": [
    "# EDA : E-commerce"
   ]
  },
  {
   "cell_type": "code",
   "execution_count": 1,
   "id": "1598e31a-8040-4710-a497-ccb537141f73",
   "metadata": {},
   "outputs": [],
   "source": [
    "import pandas as pd\n",
    "import warnings\n",
    "import numpy as np\n",
    "import seaborn as sns\n",
    "import matplotlib.pyplot as plt\n",
    "%matplotlib inline\n",
    "warnings.filterwarnings('ignore')"
   ]
  },
  {
   "cell_type": "code",
   "execution_count": 4,
   "id": "36108ec5-a6d3-492f-9f8e-6318dcf88f02",
   "metadata": {},
   "outputs": [
    {
     "data": {
      "text/plain": [
       "'C:\\\\Users\\\\rahul.goyal\\\\Desktop\\\\Data Science\\\\Machine Learning\\\\Projects'"
      ]
     },
     "execution_count": 4,
     "metadata": {},
     "output_type": "execute_result"
    }
   ],
   "source": [
    "import os\n",
    "os.getcwd()"
   ]
  },
  {
   "cell_type": "code",
   "execution_count": 5,
   "id": "937b799f-9e29-4f08-bff3-1ecf5284b822",
   "metadata": {},
   "outputs": [],
   "source": [
    "customers =  pd.read_csv('olist_customers_dataset.csv')\n",
    "geolocation = pd.read_csv('olist_geolocation_dataset.csv')\n",
    "reviews = pd.read_csv('olist_order_reviews_dataset.csv')\n",
    "payments = pd.read_csv('olist_order_payments_dataset.csv')\n",
    "items = pd.read_csv('olist_order_items_dataset.csv')\n",
    "orders = pd.read_csv('olist_orders_dataset.csv')\n",
    "products = pd.read_csv('olist_products_dataset.csv')\n",
    "sellers = pd.read_csv('olist_sellers_dataset.csv')"
   ]
  },
  {
   "cell_type": "code",
   "execution_count": null,
   "id": "f71264d8-80c4-4a9d-95dd-51b2639d79bd",
   "metadata": {},
   "outputs": [],
   "source": [
    "### Hypothesis\n",
    "1. With the analysis of the dataset we could answer, which product have the highest rating\n",
    "2. Which location have the highest sale\n",
    "3. Which products are getting low reviews\n",
    "4. Basis on the ratings, sale of that product increses or not\n",
    "5. How negative rating impact the product sales"
   ]
  },
  {
   "cell_type": "code",
   "execution_count": 6,
   "id": "4afe75f6-f9c0-4927-b94d-b2fef1107665",
   "metadata": {},
   "outputs": [
    {
     "data": {
      "text/html": [
       "<div>\n",
       "<style scoped>\n",
       "    .dataframe tbody tr th:only-of-type {\n",
       "        vertical-align: middle;\n",
       "    }\n",
       "\n",
       "    .dataframe tbody tr th {\n",
       "        vertical-align: top;\n",
       "    }\n",
       "\n",
       "    .dataframe thead th {\n",
       "        text-align: right;\n",
       "    }\n",
       "</style>\n",
       "<table border=\"1\" class=\"dataframe\">\n",
       "  <thead>\n",
       "    <tr style=\"text-align: right;\">\n",
       "      <th></th>\n",
       "      <th>review_id</th>\n",
       "      <th>order_id</th>\n",
       "      <th>review_score</th>\n",
       "      <th>review_comment_title</th>\n",
       "      <th>review_comment_message</th>\n",
       "      <th>review_creation_date</th>\n",
       "      <th>review_answer_timestamp</th>\n",
       "    </tr>\n",
       "  </thead>\n",
       "  <tbody>\n",
       "    <tr>\n",
       "      <th>0</th>\n",
       "      <td>7bc2406110b926393aa56f80a40eba40</td>\n",
       "      <td>73fc7af87114b39712e6da79b0a377eb</td>\n",
       "      <td>4</td>\n",
       "      <td>NaN</td>\n",
       "      <td>NaN</td>\n",
       "      <td>2018-01-18 00:00:00</td>\n",
       "      <td>2018-01-18 21:46:59</td>\n",
       "    </tr>\n",
       "    <tr>\n",
       "      <th>1</th>\n",
       "      <td>80e641a11e56f04c1ad469d5645fdfde</td>\n",
       "      <td>a548910a1c6147796b98fdf73dbeba33</td>\n",
       "      <td>5</td>\n",
       "      <td>NaN</td>\n",
       "      <td>NaN</td>\n",
       "      <td>2018-03-10 00:00:00</td>\n",
       "      <td>2018-03-11 03:05:13</td>\n",
       "    </tr>\n",
       "    <tr>\n",
       "      <th>2</th>\n",
       "      <td>228ce5500dc1d8e020d8d1322874b6f0</td>\n",
       "      <td>f9e4b658b201a9f2ecdecbb34bed034b</td>\n",
       "      <td>5</td>\n",
       "      <td>NaN</td>\n",
       "      <td>NaN</td>\n",
       "      <td>2018-02-17 00:00:00</td>\n",
       "      <td>2018-02-18 14:36:24</td>\n",
       "    </tr>\n",
       "    <tr>\n",
       "      <th>3</th>\n",
       "      <td>e64fb393e7b32834bb789ff8bb30750e</td>\n",
       "      <td>658677c97b385a9be170737859d3511b</td>\n",
       "      <td>5</td>\n",
       "      <td>NaN</td>\n",
       "      <td>Recebi bem antes do prazo estipulado.</td>\n",
       "      <td>2017-04-21 00:00:00</td>\n",
       "      <td>2017-04-21 22:02:06</td>\n",
       "    </tr>\n",
       "    <tr>\n",
       "      <th>4</th>\n",
       "      <td>f7c4243c7fe1938f181bec41a392bdeb</td>\n",
       "      <td>8e6bfb81e283fa7e4f11123a3fb894f1</td>\n",
       "      <td>5</td>\n",
       "      <td>NaN</td>\n",
       "      <td>Parabéns lojas lannister adorei comprar pela I...</td>\n",
       "      <td>2018-03-01 00:00:00</td>\n",
       "      <td>2018-03-02 10:26:53</td>\n",
       "    </tr>\n",
       "  </tbody>\n",
       "</table>\n",
       "</div>"
      ],
      "text/plain": [
       "                          review_id                          order_id  \\\n",
       "0  7bc2406110b926393aa56f80a40eba40  73fc7af87114b39712e6da79b0a377eb   \n",
       "1  80e641a11e56f04c1ad469d5645fdfde  a548910a1c6147796b98fdf73dbeba33   \n",
       "2  228ce5500dc1d8e020d8d1322874b6f0  f9e4b658b201a9f2ecdecbb34bed034b   \n",
       "3  e64fb393e7b32834bb789ff8bb30750e  658677c97b385a9be170737859d3511b   \n",
       "4  f7c4243c7fe1938f181bec41a392bdeb  8e6bfb81e283fa7e4f11123a3fb894f1   \n",
       "\n",
       "   review_score review_comment_title  \\\n",
       "0             4                  NaN   \n",
       "1             5                  NaN   \n",
       "2             5                  NaN   \n",
       "3             5                  NaN   \n",
       "4             5                  NaN   \n",
       "\n",
       "                              review_comment_message review_creation_date  \\\n",
       "0                                                NaN  2018-01-18 00:00:00   \n",
       "1                                                NaN  2018-03-10 00:00:00   \n",
       "2                                                NaN  2018-02-17 00:00:00   \n",
       "3              Recebi bem antes do prazo estipulado.  2017-04-21 00:00:00   \n",
       "4  Parabéns lojas lannister adorei comprar pela I...  2018-03-01 00:00:00   \n",
       "\n",
       "  review_answer_timestamp  \n",
       "0     2018-01-18 21:46:59  \n",
       "1     2018-03-11 03:05:13  \n",
       "2     2018-02-18 14:36:24  \n",
       "3     2017-04-21 22:02:06  \n",
       "4     2018-03-02 10:26:53  "
      ]
     },
     "execution_count": 6,
     "metadata": {},
     "output_type": "execute_result"
    }
   ],
   "source": [
    "reviews.head()"
   ]
  },
  {
   "cell_type": "code",
   "execution_count": 7,
   "id": "01c9d7de-dcbd-4376-9124-16ed85c89b0d",
   "metadata": {},
   "outputs": [
    {
     "data": {
      "text/plain": [
       "(99224, 7)"
      ]
     },
     "execution_count": 7,
     "metadata": {},
     "output_type": "execute_result"
    }
   ],
   "source": [
    "reviews.shape"
   ]
  },
  {
   "cell_type": "code",
   "execution_count": 8,
   "id": "5853dec4-7b9a-40d5-943c-96d4a2c4608b",
   "metadata": {},
   "outputs": [
    {
     "data": {
      "text/plain": [
       "array(['73fc7af87114b39712e6da79b0a377eb',\n",
       "       'a548910a1c6147796b98fdf73dbeba33',\n",
       "       'f9e4b658b201a9f2ecdecbb34bed034b', ...,\n",
       "       '55d4004744368f5571d1f590031933e4',\n",
       "       '7725825d039fc1f0ceb7635e3f7d9206',\n",
       "       '90531360ecb1eec2a1fbb265a0db0508'], dtype=object)"
      ]
     },
     "execution_count": 8,
     "metadata": {},
     "output_type": "execute_result"
    }
   ],
   "source": [
    "reviews['order_id'].unique()"
   ]
  },
  {
   "cell_type": "code",
   "execution_count": 9,
   "id": "dcf2eaec-fbc4-47cc-ab92-524bb9dd0929",
   "metadata": {},
   "outputs": [
    {
     "data": {
      "text/html": [
       "<div>\n",
       "<style scoped>\n",
       "    .dataframe tbody tr th:only-of-type {\n",
       "        vertical-align: middle;\n",
       "    }\n",
       "\n",
       "    .dataframe tbody tr th {\n",
       "        vertical-align: top;\n",
       "    }\n",
       "\n",
       "    .dataframe thead th {\n",
       "        text-align: right;\n",
       "    }\n",
       "</style>\n",
       "<table border=\"1\" class=\"dataframe\">\n",
       "  <thead>\n",
       "    <tr style=\"text-align: right;\">\n",
       "      <th></th>\n",
       "      <th>order_id</th>\n",
       "      <th>payment_sequential</th>\n",
       "      <th>payment_type</th>\n",
       "      <th>payment_installments</th>\n",
       "      <th>payment_value</th>\n",
       "    </tr>\n",
       "  </thead>\n",
       "  <tbody>\n",
       "    <tr>\n",
       "      <th>0</th>\n",
       "      <td>b81ef226f3fe1789b1e8b2acac839d17</td>\n",
       "      <td>1</td>\n",
       "      <td>credit_card</td>\n",
       "      <td>8</td>\n",
       "      <td>99.33</td>\n",
       "    </tr>\n",
       "    <tr>\n",
       "      <th>1</th>\n",
       "      <td>a9810da82917af2d9aefd1278f1dcfa0</td>\n",
       "      <td>1</td>\n",
       "      <td>credit_card</td>\n",
       "      <td>1</td>\n",
       "      <td>24.39</td>\n",
       "    </tr>\n",
       "    <tr>\n",
       "      <th>2</th>\n",
       "      <td>25e8ea4e93396b6fa0d3dd708e76c1bd</td>\n",
       "      <td>1</td>\n",
       "      <td>credit_card</td>\n",
       "      <td>1</td>\n",
       "      <td>65.71</td>\n",
       "    </tr>\n",
       "    <tr>\n",
       "      <th>3</th>\n",
       "      <td>ba78997921bbcdc1373bb41e913ab953</td>\n",
       "      <td>1</td>\n",
       "      <td>credit_card</td>\n",
       "      <td>8</td>\n",
       "      <td>107.78</td>\n",
       "    </tr>\n",
       "    <tr>\n",
       "      <th>4</th>\n",
       "      <td>42fdf880ba16b47b59251dd489d4441a</td>\n",
       "      <td>1</td>\n",
       "      <td>credit_card</td>\n",
       "      <td>2</td>\n",
       "      <td>128.45</td>\n",
       "    </tr>\n",
       "  </tbody>\n",
       "</table>\n",
       "</div>"
      ],
      "text/plain": [
       "                           order_id  payment_sequential payment_type  \\\n",
       "0  b81ef226f3fe1789b1e8b2acac839d17                   1  credit_card   \n",
       "1  a9810da82917af2d9aefd1278f1dcfa0                   1  credit_card   \n",
       "2  25e8ea4e93396b6fa0d3dd708e76c1bd                   1  credit_card   \n",
       "3  ba78997921bbcdc1373bb41e913ab953                   1  credit_card   \n",
       "4  42fdf880ba16b47b59251dd489d4441a                   1  credit_card   \n",
       "\n",
       "   payment_installments  payment_value  \n",
       "0                     8          99.33  \n",
       "1                     1          24.39  \n",
       "2                     1          65.71  \n",
       "3                     8         107.78  \n",
       "4                     2         128.45  "
      ]
     },
     "execution_count": 9,
     "metadata": {},
     "output_type": "execute_result"
    }
   ],
   "source": [
    "payments.head()"
   ]
  },
  {
   "cell_type": "code",
   "execution_count": 10,
   "id": "8cbc750c-42ab-4394-b0ac-7958ce36ee40",
   "metadata": {},
   "outputs": [
    {
     "data": {
      "text/plain": [
       "(103886, 5)"
      ]
     },
     "execution_count": 10,
     "metadata": {},
     "output_type": "execute_result"
    }
   ],
   "source": [
    "payments.shape"
   ]
  },
  {
   "cell_type": "code",
   "execution_count": 11,
   "id": "ea68fc28-49f6-4dee-9537-be080080ac2c",
   "metadata": {},
   "outputs": [
    {
     "data": {
      "text/html": [
       "<div>\n",
       "<style scoped>\n",
       "    .dataframe tbody tr th:only-of-type {\n",
       "        vertical-align: middle;\n",
       "    }\n",
       "\n",
       "    .dataframe tbody tr th {\n",
       "        vertical-align: top;\n",
       "    }\n",
       "\n",
       "    .dataframe thead th {\n",
       "        text-align: right;\n",
       "    }\n",
       "</style>\n",
       "<table border=\"1\" class=\"dataframe\">\n",
       "  <thead>\n",
       "    <tr style=\"text-align: right;\">\n",
       "      <th></th>\n",
       "      <th>order_id</th>\n",
       "      <th>customer_id</th>\n",
       "      <th>order_status</th>\n",
       "      <th>order_purchase_timestamp</th>\n",
       "      <th>order_approved_at</th>\n",
       "      <th>order_delivered_carrier_date</th>\n",
       "      <th>order_delivered_customer_date</th>\n",
       "      <th>order_estimated_delivery_date</th>\n",
       "    </tr>\n",
       "  </thead>\n",
       "  <tbody>\n",
       "    <tr>\n",
       "      <th>0</th>\n",
       "      <td>e481f51cbdc54678b7cc49136f2d6af7</td>\n",
       "      <td>9ef432eb6251297304e76186b10a928d</td>\n",
       "      <td>delivered</td>\n",
       "      <td>2017-10-02 10:56:33</td>\n",
       "      <td>2017-10-02 11:07:15</td>\n",
       "      <td>2017-10-04 19:55:00</td>\n",
       "      <td>2017-10-10 21:25:13</td>\n",
       "      <td>2017-10-18 00:00:00</td>\n",
       "    </tr>\n",
       "    <tr>\n",
       "      <th>1</th>\n",
       "      <td>53cdb2fc8bc7dce0b6741e2150273451</td>\n",
       "      <td>b0830fb4747a6c6d20dea0b8c802d7ef</td>\n",
       "      <td>delivered</td>\n",
       "      <td>2018-07-24 20:41:37</td>\n",
       "      <td>2018-07-26 03:24:27</td>\n",
       "      <td>2018-07-26 14:31:00</td>\n",
       "      <td>2018-08-07 15:27:45</td>\n",
       "      <td>2018-08-13 00:00:00</td>\n",
       "    </tr>\n",
       "    <tr>\n",
       "      <th>2</th>\n",
       "      <td>47770eb9100c2d0c44946d9cf07ec65d</td>\n",
       "      <td>41ce2a54c0b03bf3443c3d931a367089</td>\n",
       "      <td>delivered</td>\n",
       "      <td>2018-08-08 08:38:49</td>\n",
       "      <td>2018-08-08 08:55:23</td>\n",
       "      <td>2018-08-08 13:50:00</td>\n",
       "      <td>2018-08-17 18:06:29</td>\n",
       "      <td>2018-09-04 00:00:00</td>\n",
       "    </tr>\n",
       "    <tr>\n",
       "      <th>3</th>\n",
       "      <td>949d5b44dbf5de918fe9c16f97b45f8a</td>\n",
       "      <td>f88197465ea7920adcdbec7375364d82</td>\n",
       "      <td>delivered</td>\n",
       "      <td>2017-11-18 19:28:06</td>\n",
       "      <td>2017-11-18 19:45:59</td>\n",
       "      <td>2017-11-22 13:39:59</td>\n",
       "      <td>2017-12-02 00:28:42</td>\n",
       "      <td>2017-12-15 00:00:00</td>\n",
       "    </tr>\n",
       "    <tr>\n",
       "      <th>4</th>\n",
       "      <td>ad21c59c0840e6cb83a9ceb5573f8159</td>\n",
       "      <td>8ab97904e6daea8866dbdbc4fb7aad2c</td>\n",
       "      <td>delivered</td>\n",
       "      <td>2018-02-13 21:18:39</td>\n",
       "      <td>2018-02-13 22:20:29</td>\n",
       "      <td>2018-02-14 19:46:34</td>\n",
       "      <td>2018-02-16 18:17:02</td>\n",
       "      <td>2018-02-26 00:00:00</td>\n",
       "    </tr>\n",
       "  </tbody>\n",
       "</table>\n",
       "</div>"
      ],
      "text/plain": [
       "                           order_id                       customer_id  \\\n",
       "0  e481f51cbdc54678b7cc49136f2d6af7  9ef432eb6251297304e76186b10a928d   \n",
       "1  53cdb2fc8bc7dce0b6741e2150273451  b0830fb4747a6c6d20dea0b8c802d7ef   \n",
       "2  47770eb9100c2d0c44946d9cf07ec65d  41ce2a54c0b03bf3443c3d931a367089   \n",
       "3  949d5b44dbf5de918fe9c16f97b45f8a  f88197465ea7920adcdbec7375364d82   \n",
       "4  ad21c59c0840e6cb83a9ceb5573f8159  8ab97904e6daea8866dbdbc4fb7aad2c   \n",
       "\n",
       "  order_status order_purchase_timestamp    order_approved_at  \\\n",
       "0    delivered      2017-10-02 10:56:33  2017-10-02 11:07:15   \n",
       "1    delivered      2018-07-24 20:41:37  2018-07-26 03:24:27   \n",
       "2    delivered      2018-08-08 08:38:49  2018-08-08 08:55:23   \n",
       "3    delivered      2017-11-18 19:28:06  2017-11-18 19:45:59   \n",
       "4    delivered      2018-02-13 21:18:39  2018-02-13 22:20:29   \n",
       "\n",
       "  order_delivered_carrier_date order_delivered_customer_date  \\\n",
       "0          2017-10-04 19:55:00           2017-10-10 21:25:13   \n",
       "1          2018-07-26 14:31:00           2018-08-07 15:27:45   \n",
       "2          2018-08-08 13:50:00           2018-08-17 18:06:29   \n",
       "3          2017-11-22 13:39:59           2017-12-02 00:28:42   \n",
       "4          2018-02-14 19:46:34           2018-02-16 18:17:02   \n",
       "\n",
       "  order_estimated_delivery_date  \n",
       "0           2017-10-18 00:00:00  \n",
       "1           2018-08-13 00:00:00  \n",
       "2           2018-09-04 00:00:00  \n",
       "3           2017-12-15 00:00:00  \n",
       "4           2018-02-26 00:00:00  "
      ]
     },
     "execution_count": 11,
     "metadata": {},
     "output_type": "execute_result"
    }
   ],
   "source": [
    "orders.head()"
   ]
  },
  {
   "cell_type": "code",
   "execution_count": 12,
   "id": "2462b817-df1a-4894-948a-6c8aa8fd2d6f",
   "metadata": {},
   "outputs": [
    {
     "data": {
      "text/plain": [
       "(99441, 8)"
      ]
     },
     "execution_count": 12,
     "metadata": {},
     "output_type": "execute_result"
    }
   ],
   "source": [
    "orders.shape"
   ]
  },
  {
   "cell_type": "code",
   "execution_count": 13,
   "id": "4a882cd1-3bb3-4579-9761-b1f34c337244",
   "metadata": {},
   "outputs": [
    {
     "data": {
      "text/html": [
       "<div>\n",
       "<style scoped>\n",
       "    .dataframe tbody tr th:only-of-type {\n",
       "        vertical-align: middle;\n",
       "    }\n",
       "\n",
       "    .dataframe tbody tr th {\n",
       "        vertical-align: top;\n",
       "    }\n",
       "\n",
       "    .dataframe thead th {\n",
       "        text-align: right;\n",
       "    }\n",
       "</style>\n",
       "<table border=\"1\" class=\"dataframe\">\n",
       "  <thead>\n",
       "    <tr style=\"text-align: right;\">\n",
       "      <th></th>\n",
       "      <th>customer_id</th>\n",
       "      <th>customer_unique_id</th>\n",
       "      <th>customer_zip_code_prefix</th>\n",
       "      <th>customer_city</th>\n",
       "      <th>customer_state</th>\n",
       "    </tr>\n",
       "  </thead>\n",
       "  <tbody>\n",
       "    <tr>\n",
       "      <th>0</th>\n",
       "      <td>06b8999e2fba1a1fbc88172c00ba8bc7</td>\n",
       "      <td>861eff4711a542e4b93843c6dd7febb0</td>\n",
       "      <td>14409</td>\n",
       "      <td>franca</td>\n",
       "      <td>SP</td>\n",
       "    </tr>\n",
       "    <tr>\n",
       "      <th>1</th>\n",
       "      <td>18955e83d337fd6b2def6b18a428ac77</td>\n",
       "      <td>290c77bc529b7ac935b93aa66c333dc3</td>\n",
       "      <td>9790</td>\n",
       "      <td>sao bernardo do campo</td>\n",
       "      <td>SP</td>\n",
       "    </tr>\n",
       "    <tr>\n",
       "      <th>2</th>\n",
       "      <td>4e7b3e00288586ebd08712fdd0374a03</td>\n",
       "      <td>060e732b5b29e8181a18229c7b0b2b5e</td>\n",
       "      <td>1151</td>\n",
       "      <td>sao paulo</td>\n",
       "      <td>SP</td>\n",
       "    </tr>\n",
       "    <tr>\n",
       "      <th>3</th>\n",
       "      <td>b2b6027bc5c5109e529d4dc6358b12c3</td>\n",
       "      <td>259dac757896d24d7702b9acbbff3f3c</td>\n",
       "      <td>8775</td>\n",
       "      <td>mogi das cruzes</td>\n",
       "      <td>SP</td>\n",
       "    </tr>\n",
       "    <tr>\n",
       "      <th>4</th>\n",
       "      <td>4f2d8ab171c80ec8364f7c12e35b23ad</td>\n",
       "      <td>345ecd01c38d18a9036ed96c73b8d066</td>\n",
       "      <td>13056</td>\n",
       "      <td>campinas</td>\n",
       "      <td>SP</td>\n",
       "    </tr>\n",
       "  </tbody>\n",
       "</table>\n",
       "</div>"
      ],
      "text/plain": [
       "                        customer_id                customer_unique_id  \\\n",
       "0  06b8999e2fba1a1fbc88172c00ba8bc7  861eff4711a542e4b93843c6dd7febb0   \n",
       "1  18955e83d337fd6b2def6b18a428ac77  290c77bc529b7ac935b93aa66c333dc3   \n",
       "2  4e7b3e00288586ebd08712fdd0374a03  060e732b5b29e8181a18229c7b0b2b5e   \n",
       "3  b2b6027bc5c5109e529d4dc6358b12c3  259dac757896d24d7702b9acbbff3f3c   \n",
       "4  4f2d8ab171c80ec8364f7c12e35b23ad  345ecd01c38d18a9036ed96c73b8d066   \n",
       "\n",
       "   customer_zip_code_prefix          customer_city customer_state  \n",
       "0                     14409                 franca             SP  \n",
       "1                      9790  sao bernardo do campo             SP  \n",
       "2                      1151              sao paulo             SP  \n",
       "3                      8775        mogi das cruzes             SP  \n",
       "4                     13056               campinas             SP  "
      ]
     },
     "execution_count": 13,
     "metadata": {},
     "output_type": "execute_result"
    }
   ],
   "source": [
    "customers.head()"
   ]
  },
  {
   "cell_type": "code",
   "execution_count": 14,
   "id": "2998f773-a31d-49e0-b905-2f0b9bdd4bf8",
   "metadata": {},
   "outputs": [
    {
     "data": {
      "text/plain": [
       "(99441, 5)"
      ]
     },
     "execution_count": 14,
     "metadata": {},
     "output_type": "execute_result"
    }
   ],
   "source": [
    "customers.shape"
   ]
  },
  {
   "cell_type": "markdown",
   "id": "35143285-cfda-404e-bc09-31632415042d",
   "metadata": {},
   "source": [
    "### Merging datasets"
   ]
  },
  {
   "cell_type": "code",
   "execution_count": 15,
   "id": "2c209a4c-095b-4812-826f-7eb53c7fd91b",
   "metadata": {},
   "outputs": [],
   "source": [
    "#### Merge Review and order datasets\n",
    "reviews_orders = reviews.merge(orders, on = 'order_id')"
   ]
  },
  {
   "cell_type": "code",
   "execution_count": 16,
   "id": "406b44d8-8172-4f8f-866f-03666179450f",
   "metadata": {},
   "outputs": [
    {
     "data": {
      "text/plain": [
       "(99224, 14)"
      ]
     },
     "execution_count": 16,
     "metadata": {},
     "output_type": "execute_result"
    }
   ],
   "source": [
    "reviews_orders.shape"
   ]
  },
  {
   "cell_type": "code",
   "execution_count": 17,
   "id": "e44b6895-5692-4351-ab95-e7c231e7a563",
   "metadata": {},
   "outputs": [],
   "source": [
    "#### Merge reviews_orders and payments dataset\n",
    "reviews_orders_payments = reviews_orders.merge(payments, on = 'order_id')"
   ]
  },
  {
   "cell_type": "code",
   "execution_count": 18,
   "id": "33f96d2a-ca18-47f5-b27d-3aacb5679cfe",
   "metadata": {},
   "outputs": [
    {
     "data": {
      "text/plain": [
       "(103677, 18)"
      ]
     },
     "execution_count": 18,
     "metadata": {},
     "output_type": "execute_result"
    }
   ],
   "source": [
    "reviews_orders_payments.shape"
   ]
  },
  {
   "cell_type": "code",
   "execution_count": 19,
   "id": "aa474d1e-cb4e-4243-b14d-4e23b8038aff",
   "metadata": {},
   "outputs": [
    {
     "data": {
      "text/html": [
       "<div>\n",
       "<style scoped>\n",
       "    .dataframe tbody tr th:only-of-type {\n",
       "        vertical-align: middle;\n",
       "    }\n",
       "\n",
       "    .dataframe tbody tr th {\n",
       "        vertical-align: top;\n",
       "    }\n",
       "\n",
       "    .dataframe thead th {\n",
       "        text-align: right;\n",
       "    }\n",
       "</style>\n",
       "<table border=\"1\" class=\"dataframe\">\n",
       "  <thead>\n",
       "    <tr style=\"text-align: right;\">\n",
       "      <th></th>\n",
       "      <th>review_id</th>\n",
       "      <th>order_id</th>\n",
       "      <th>review_score</th>\n",
       "      <th>review_comment_title</th>\n",
       "      <th>review_comment_message</th>\n",
       "      <th>review_creation_date</th>\n",
       "      <th>review_answer_timestamp</th>\n",
       "      <th>customer_id</th>\n",
       "      <th>order_status</th>\n",
       "      <th>order_purchase_timestamp</th>\n",
       "      <th>order_approved_at</th>\n",
       "      <th>order_delivered_carrier_date</th>\n",
       "      <th>order_delivered_customer_date</th>\n",
       "      <th>order_estimated_delivery_date</th>\n",
       "      <th>payment_sequential</th>\n",
       "      <th>payment_type</th>\n",
       "      <th>payment_installments</th>\n",
       "      <th>payment_value</th>\n",
       "    </tr>\n",
       "  </thead>\n",
       "  <tbody>\n",
       "    <tr>\n",
       "      <th>0</th>\n",
       "      <td>7bc2406110b926393aa56f80a40eba40</td>\n",
       "      <td>73fc7af87114b39712e6da79b0a377eb</td>\n",
       "      <td>4</td>\n",
       "      <td>NaN</td>\n",
       "      <td>NaN</td>\n",
       "      <td>2018-01-18 00:00:00</td>\n",
       "      <td>2018-01-18 21:46:59</td>\n",
       "      <td>41dcb106f807e993532d446263290104</td>\n",
       "      <td>delivered</td>\n",
       "      <td>2018-01-11 15:30:49</td>\n",
       "      <td>2018-01-11 15:47:59</td>\n",
       "      <td>2018-01-12 21:57:22</td>\n",
       "      <td>2018-01-17 18:42:41</td>\n",
       "      <td>2018-02-02 00:00:00</td>\n",
       "      <td>1</td>\n",
       "      <td>credit_card</td>\n",
       "      <td>8</td>\n",
       "      <td>397.26</td>\n",
       "    </tr>\n",
       "    <tr>\n",
       "      <th>1</th>\n",
       "      <td>80e641a11e56f04c1ad469d5645fdfde</td>\n",
       "      <td>a548910a1c6147796b98fdf73dbeba33</td>\n",
       "      <td>5</td>\n",
       "      <td>NaN</td>\n",
       "      <td>NaN</td>\n",
       "      <td>2018-03-10 00:00:00</td>\n",
       "      <td>2018-03-11 03:05:13</td>\n",
       "      <td>8a2e7ef9053dea531e4dc76bd6d853e6</td>\n",
       "      <td>delivered</td>\n",
       "      <td>2018-02-28 12:25:19</td>\n",
       "      <td>2018-02-28 12:48:39</td>\n",
       "      <td>2018-03-02 19:08:15</td>\n",
       "      <td>2018-03-09 23:17:20</td>\n",
       "      <td>2018-03-14 00:00:00</td>\n",
       "      <td>1</td>\n",
       "      <td>credit_card</td>\n",
       "      <td>1</td>\n",
       "      <td>88.09</td>\n",
       "    </tr>\n",
       "    <tr>\n",
       "      <th>2</th>\n",
       "      <td>228ce5500dc1d8e020d8d1322874b6f0</td>\n",
       "      <td>f9e4b658b201a9f2ecdecbb34bed034b</td>\n",
       "      <td>5</td>\n",
       "      <td>NaN</td>\n",
       "      <td>NaN</td>\n",
       "      <td>2018-02-17 00:00:00</td>\n",
       "      <td>2018-02-18 14:36:24</td>\n",
       "      <td>e226dfed6544df5b7b87a48208690feb</td>\n",
       "      <td>delivered</td>\n",
       "      <td>2018-02-03 09:56:22</td>\n",
       "      <td>2018-02-03 10:33:41</td>\n",
       "      <td>2018-02-06 16:18:28</td>\n",
       "      <td>2018-02-16 17:28:48</td>\n",
       "      <td>2018-03-09 00:00:00</td>\n",
       "      <td>1</td>\n",
       "      <td>credit_card</td>\n",
       "      <td>1</td>\n",
       "      <td>194.12</td>\n",
       "    </tr>\n",
       "    <tr>\n",
       "      <th>3</th>\n",
       "      <td>e64fb393e7b32834bb789ff8bb30750e</td>\n",
       "      <td>658677c97b385a9be170737859d3511b</td>\n",
       "      <td>5</td>\n",
       "      <td>NaN</td>\n",
       "      <td>Recebi bem antes do prazo estipulado.</td>\n",
       "      <td>2017-04-21 00:00:00</td>\n",
       "      <td>2017-04-21 22:02:06</td>\n",
       "      <td>de6dff97e5f1ba84a3cd9a3bc97df5f6</td>\n",
       "      <td>delivered</td>\n",
       "      <td>2017-04-09 17:41:13</td>\n",
       "      <td>2017-04-09 17:55:19</td>\n",
       "      <td>2017-04-10 14:24:47</td>\n",
       "      <td>2017-04-20 09:08:35</td>\n",
       "      <td>2017-05-10 00:00:00</td>\n",
       "      <td>1</td>\n",
       "      <td>credit_card</td>\n",
       "      <td>1</td>\n",
       "      <td>222.84</td>\n",
       "    </tr>\n",
       "    <tr>\n",
       "      <th>4</th>\n",
       "      <td>f7c4243c7fe1938f181bec41a392bdeb</td>\n",
       "      <td>8e6bfb81e283fa7e4f11123a3fb894f1</td>\n",
       "      <td>5</td>\n",
       "      <td>NaN</td>\n",
       "      <td>Parabéns lojas lannister adorei comprar pela I...</td>\n",
       "      <td>2018-03-01 00:00:00</td>\n",
       "      <td>2018-03-02 10:26:53</td>\n",
       "      <td>5986b333ca0d44534a156a52a8e33a83</td>\n",
       "      <td>delivered</td>\n",
       "      <td>2018-02-10 10:59:03</td>\n",
       "      <td>2018-02-10 15:48:21</td>\n",
       "      <td>2018-02-15 19:36:14</td>\n",
       "      <td>2018-02-28 16:33:35</td>\n",
       "      <td>2018-03-09 00:00:00</td>\n",
       "      <td>1</td>\n",
       "      <td>credit_card</td>\n",
       "      <td>10</td>\n",
       "      <td>1333.25</td>\n",
       "    </tr>\n",
       "  </tbody>\n",
       "</table>\n",
       "</div>"
      ],
      "text/plain": [
       "                          review_id                          order_id  \\\n",
       "0  7bc2406110b926393aa56f80a40eba40  73fc7af87114b39712e6da79b0a377eb   \n",
       "1  80e641a11e56f04c1ad469d5645fdfde  a548910a1c6147796b98fdf73dbeba33   \n",
       "2  228ce5500dc1d8e020d8d1322874b6f0  f9e4b658b201a9f2ecdecbb34bed034b   \n",
       "3  e64fb393e7b32834bb789ff8bb30750e  658677c97b385a9be170737859d3511b   \n",
       "4  f7c4243c7fe1938f181bec41a392bdeb  8e6bfb81e283fa7e4f11123a3fb894f1   \n",
       "\n",
       "   review_score review_comment_title  \\\n",
       "0             4                  NaN   \n",
       "1             5                  NaN   \n",
       "2             5                  NaN   \n",
       "3             5                  NaN   \n",
       "4             5                  NaN   \n",
       "\n",
       "                              review_comment_message review_creation_date  \\\n",
       "0                                                NaN  2018-01-18 00:00:00   \n",
       "1                                                NaN  2018-03-10 00:00:00   \n",
       "2                                                NaN  2018-02-17 00:00:00   \n",
       "3              Recebi bem antes do prazo estipulado.  2017-04-21 00:00:00   \n",
       "4  Parabéns lojas lannister adorei comprar pela I...  2018-03-01 00:00:00   \n",
       "\n",
       "  review_answer_timestamp                       customer_id order_status  \\\n",
       "0     2018-01-18 21:46:59  41dcb106f807e993532d446263290104    delivered   \n",
       "1     2018-03-11 03:05:13  8a2e7ef9053dea531e4dc76bd6d853e6    delivered   \n",
       "2     2018-02-18 14:36:24  e226dfed6544df5b7b87a48208690feb    delivered   \n",
       "3     2017-04-21 22:02:06  de6dff97e5f1ba84a3cd9a3bc97df5f6    delivered   \n",
       "4     2018-03-02 10:26:53  5986b333ca0d44534a156a52a8e33a83    delivered   \n",
       "\n",
       "  order_purchase_timestamp    order_approved_at order_delivered_carrier_date  \\\n",
       "0      2018-01-11 15:30:49  2018-01-11 15:47:59          2018-01-12 21:57:22   \n",
       "1      2018-02-28 12:25:19  2018-02-28 12:48:39          2018-03-02 19:08:15   \n",
       "2      2018-02-03 09:56:22  2018-02-03 10:33:41          2018-02-06 16:18:28   \n",
       "3      2017-04-09 17:41:13  2017-04-09 17:55:19          2017-04-10 14:24:47   \n",
       "4      2018-02-10 10:59:03  2018-02-10 15:48:21          2018-02-15 19:36:14   \n",
       "\n",
       "  order_delivered_customer_date order_estimated_delivery_date  \\\n",
       "0           2018-01-17 18:42:41           2018-02-02 00:00:00   \n",
       "1           2018-03-09 23:17:20           2018-03-14 00:00:00   \n",
       "2           2018-02-16 17:28:48           2018-03-09 00:00:00   \n",
       "3           2017-04-20 09:08:35           2017-05-10 00:00:00   \n",
       "4           2018-02-28 16:33:35           2018-03-09 00:00:00   \n",
       "\n",
       "   payment_sequential payment_type  payment_installments  payment_value  \n",
       "0                   1  credit_card                     8         397.26  \n",
       "1                   1  credit_card                     1          88.09  \n",
       "2                   1  credit_card                     1         194.12  \n",
       "3                   1  credit_card                     1         222.84  \n",
       "4                   1  credit_card                    10        1333.25  "
      ]
     },
     "execution_count": 19,
     "metadata": {},
     "output_type": "execute_result"
    }
   ],
   "source": [
    "reviews_orders_payments.head()"
   ]
  },
  {
   "cell_type": "code",
   "execution_count": 20,
   "id": "73c49332-2a0b-4c11-a1f7-8c2acbd2459f",
   "metadata": {},
   "outputs": [],
   "source": [
    "reviews_orders_payments_customers = reviews_orders_payments.merge(customers, on='customer_id')"
   ]
  },
  {
   "cell_type": "code",
   "execution_count": 21,
   "id": "a46bdd55-99ed-47b2-ba5a-3942ab3a50ba",
   "metadata": {},
   "outputs": [
    {
     "data": {
      "text/plain": [
       "(103677, 22)"
      ]
     },
     "execution_count": 21,
     "metadata": {},
     "output_type": "execute_result"
    }
   ],
   "source": [
    "reviews_orders_payments_customers.shape"
   ]
  },
  {
   "cell_type": "code",
   "execution_count": 22,
   "id": "a2e6b249-489f-4c27-8bc0-93bce4879f55",
   "metadata": {},
   "outputs": [
    {
     "data": {
      "text/plain": [
       "(112650, 7)"
      ]
     },
     "execution_count": 22,
     "metadata": {},
     "output_type": "execute_result"
    }
   ],
   "source": [
    "items.shape"
   ]
  },
  {
   "cell_type": "code",
   "execution_count": 23,
   "id": "bddc733a-d391-48b0-93b4-dc125b4315dd",
   "metadata": {},
   "outputs": [
    {
     "data": {
      "text/plain": [
       "Index(['order_id', 'order_item_id', 'product_id', 'seller_id',\n",
       "       'shipping_limit_date', 'price', 'freight_value'],\n",
       "      dtype='object')"
      ]
     },
     "execution_count": 23,
     "metadata": {},
     "output_type": "execute_result"
    }
   ],
   "source": [
    "items.columns"
   ]
  },
  {
   "cell_type": "code",
   "execution_count": 24,
   "id": "63842d82-8166-443c-98ed-0d98f1374963",
   "metadata": {},
   "outputs": [
    {
     "data": {
      "text/plain": [
       "(117329, 28)"
      ]
     },
     "execution_count": 24,
     "metadata": {},
     "output_type": "execute_result"
    }
   ],
   "source": [
    "### Merging reviews_orders_payments_customers with items dataset\n",
    "cust_items = reviews_orders_payments_customers.merge(items, on = 'order_id')\n",
    "cust_items.shape"
   ]
  },
  {
   "cell_type": "code",
   "execution_count": 25,
   "id": "7cf4a38a-f12a-4d1d-be55-99694d87eafb",
   "metadata": {},
   "outputs": [
    {
     "data": {
      "text/plain": [
       "32789"
      ]
     },
     "execution_count": 25,
     "metadata": {},
     "output_type": "execute_result"
    }
   ],
   "source": [
    "len(cust_items['product_id'].unique())"
   ]
  },
  {
   "cell_type": "code",
   "execution_count": 26,
   "id": "ead1c792-35a1-4ee7-8ff2-682138409005",
   "metadata": {},
   "outputs": [
    {
     "data": {
      "text/html": [
       "<div>\n",
       "<style scoped>\n",
       "    .dataframe tbody tr th:only-of-type {\n",
       "        vertical-align: middle;\n",
       "    }\n",
       "\n",
       "    .dataframe tbody tr th {\n",
       "        vertical-align: top;\n",
       "    }\n",
       "\n",
       "    .dataframe thead th {\n",
       "        text-align: right;\n",
       "    }\n",
       "</style>\n",
       "<table border=\"1\" class=\"dataframe\">\n",
       "  <thead>\n",
       "    <tr style=\"text-align: right;\">\n",
       "      <th></th>\n",
       "      <th>review_id</th>\n",
       "      <th>order_id</th>\n",
       "      <th>review_score</th>\n",
       "      <th>review_comment_title</th>\n",
       "      <th>review_comment_message</th>\n",
       "      <th>review_creation_date</th>\n",
       "      <th>review_answer_timestamp</th>\n",
       "      <th>customer_id</th>\n",
       "      <th>order_status</th>\n",
       "      <th>order_purchase_timestamp</th>\n",
       "      <th>...</th>\n",
       "      <th>customer_unique_id</th>\n",
       "      <th>customer_zip_code_prefix</th>\n",
       "      <th>customer_city</th>\n",
       "      <th>customer_state</th>\n",
       "      <th>order_item_id</th>\n",
       "      <th>product_id</th>\n",
       "      <th>seller_id</th>\n",
       "      <th>shipping_limit_date</th>\n",
       "      <th>price</th>\n",
       "      <th>freight_value</th>\n",
       "    </tr>\n",
       "  </thead>\n",
       "  <tbody>\n",
       "    <tr>\n",
       "      <th>0</th>\n",
       "      <td>7bc2406110b926393aa56f80a40eba40</td>\n",
       "      <td>73fc7af87114b39712e6da79b0a377eb</td>\n",
       "      <td>4</td>\n",
       "      <td>NaN</td>\n",
       "      <td>NaN</td>\n",
       "      <td>2018-01-18 00:00:00</td>\n",
       "      <td>2018-01-18 21:46:59</td>\n",
       "      <td>41dcb106f807e993532d446263290104</td>\n",
       "      <td>delivered</td>\n",
       "      <td>2018-01-11 15:30:49</td>\n",
       "      <td>...</td>\n",
       "      <td>68a5590b9926689be4e10f4ae2db21a8</td>\n",
       "      <td>6030</td>\n",
       "      <td>osasco</td>\n",
       "      <td>SP</td>\n",
       "      <td>1</td>\n",
       "      <td>fd25ab760bfbba13c198fa3b4f1a0cd3</td>\n",
       "      <td>6d803cb79cc31c41c4c789a75933b3c7</td>\n",
       "      <td>2018-01-18 15:47:59</td>\n",
       "      <td>185.00</td>\n",
       "      <td>13.63</td>\n",
       "    </tr>\n",
       "    <tr>\n",
       "      <th>1</th>\n",
       "      <td>7bc2406110b926393aa56f80a40eba40</td>\n",
       "      <td>73fc7af87114b39712e6da79b0a377eb</td>\n",
       "      <td>4</td>\n",
       "      <td>NaN</td>\n",
       "      <td>NaN</td>\n",
       "      <td>2018-01-18 00:00:00</td>\n",
       "      <td>2018-01-18 21:46:59</td>\n",
       "      <td>41dcb106f807e993532d446263290104</td>\n",
       "      <td>delivered</td>\n",
       "      <td>2018-01-11 15:30:49</td>\n",
       "      <td>...</td>\n",
       "      <td>68a5590b9926689be4e10f4ae2db21a8</td>\n",
       "      <td>6030</td>\n",
       "      <td>osasco</td>\n",
       "      <td>SP</td>\n",
       "      <td>2</td>\n",
       "      <td>fd25ab760bfbba13c198fa3b4f1a0cd3</td>\n",
       "      <td>6d803cb79cc31c41c4c789a75933b3c7</td>\n",
       "      <td>2018-01-18 15:47:59</td>\n",
       "      <td>185.00</td>\n",
       "      <td>13.63</td>\n",
       "    </tr>\n",
       "    <tr>\n",
       "      <th>2</th>\n",
       "      <td>80e641a11e56f04c1ad469d5645fdfde</td>\n",
       "      <td>a548910a1c6147796b98fdf73dbeba33</td>\n",
       "      <td>5</td>\n",
       "      <td>NaN</td>\n",
       "      <td>NaN</td>\n",
       "      <td>2018-03-10 00:00:00</td>\n",
       "      <td>2018-03-11 03:05:13</td>\n",
       "      <td>8a2e7ef9053dea531e4dc76bd6d853e6</td>\n",
       "      <td>delivered</td>\n",
       "      <td>2018-02-28 12:25:19</td>\n",
       "      <td>...</td>\n",
       "      <td>64190b91b656ab8f37eb89b93dc84584</td>\n",
       "      <td>13380</td>\n",
       "      <td>nova odessa</td>\n",
       "      <td>SP</td>\n",
       "      <td>1</td>\n",
       "      <td>be0dbdc3d67d55727a65d4cd696ca73c</td>\n",
       "      <td>8e6d7754bc7e0f22c96d255ebda59eba</td>\n",
       "      <td>2018-03-06 12:48:39</td>\n",
       "      <td>79.79</td>\n",
       "      <td>8.30</td>\n",
       "    </tr>\n",
       "    <tr>\n",
       "      <th>3</th>\n",
       "      <td>228ce5500dc1d8e020d8d1322874b6f0</td>\n",
       "      <td>f9e4b658b201a9f2ecdecbb34bed034b</td>\n",
       "      <td>5</td>\n",
       "      <td>NaN</td>\n",
       "      <td>NaN</td>\n",
       "      <td>2018-02-17 00:00:00</td>\n",
       "      <td>2018-02-18 14:36:24</td>\n",
       "      <td>e226dfed6544df5b7b87a48208690feb</td>\n",
       "      <td>delivered</td>\n",
       "      <td>2018-02-03 09:56:22</td>\n",
       "      <td>...</td>\n",
       "      <td>1d47144362c14e94ccdd213e8ec277d5</td>\n",
       "      <td>44571</td>\n",
       "      <td>santo antonio de jesus</td>\n",
       "      <td>BA</td>\n",
       "      <td>1</td>\n",
       "      <td>d1c427060a0f73f6b889a5c7c61f2ac4</td>\n",
       "      <td>a1043bafd471dff536d0c462352beb48</td>\n",
       "      <td>2018-02-08 10:31:15</td>\n",
       "      <td>149.00</td>\n",
       "      <td>45.12</td>\n",
       "    </tr>\n",
       "    <tr>\n",
       "      <th>4</th>\n",
       "      <td>e64fb393e7b32834bb789ff8bb30750e</td>\n",
       "      <td>658677c97b385a9be170737859d3511b</td>\n",
       "      <td>5</td>\n",
       "      <td>NaN</td>\n",
       "      <td>Recebi bem antes do prazo estipulado.</td>\n",
       "      <td>2017-04-21 00:00:00</td>\n",
       "      <td>2017-04-21 22:02:06</td>\n",
       "      <td>de6dff97e5f1ba84a3cd9a3bc97df5f6</td>\n",
       "      <td>delivered</td>\n",
       "      <td>2017-04-09 17:41:13</td>\n",
       "      <td>...</td>\n",
       "      <td>c8cf6cb6b838dc7a33ed199b825e8616</td>\n",
       "      <td>88735</td>\n",
       "      <td>gravatal</td>\n",
       "      <td>SC</td>\n",
       "      <td>1</td>\n",
       "      <td>52c80cedd4e90108bf4fa6a206ef6b03</td>\n",
       "      <td>a1043bafd471dff536d0c462352beb48</td>\n",
       "      <td>2017-04-13 17:55:19</td>\n",
       "      <td>179.99</td>\n",
       "      <td>42.85</td>\n",
       "    </tr>\n",
       "  </tbody>\n",
       "</table>\n",
       "<p>5 rows × 28 columns</p>\n",
       "</div>"
      ],
      "text/plain": [
       "                          review_id                          order_id  \\\n",
       "0  7bc2406110b926393aa56f80a40eba40  73fc7af87114b39712e6da79b0a377eb   \n",
       "1  7bc2406110b926393aa56f80a40eba40  73fc7af87114b39712e6da79b0a377eb   \n",
       "2  80e641a11e56f04c1ad469d5645fdfde  a548910a1c6147796b98fdf73dbeba33   \n",
       "3  228ce5500dc1d8e020d8d1322874b6f0  f9e4b658b201a9f2ecdecbb34bed034b   \n",
       "4  e64fb393e7b32834bb789ff8bb30750e  658677c97b385a9be170737859d3511b   \n",
       "\n",
       "   review_score review_comment_title                 review_comment_message  \\\n",
       "0             4                  NaN                                    NaN   \n",
       "1             4                  NaN                                    NaN   \n",
       "2             5                  NaN                                    NaN   \n",
       "3             5                  NaN                                    NaN   \n",
       "4             5                  NaN  Recebi bem antes do prazo estipulado.   \n",
       "\n",
       "  review_creation_date review_answer_timestamp  \\\n",
       "0  2018-01-18 00:00:00     2018-01-18 21:46:59   \n",
       "1  2018-01-18 00:00:00     2018-01-18 21:46:59   \n",
       "2  2018-03-10 00:00:00     2018-03-11 03:05:13   \n",
       "3  2018-02-17 00:00:00     2018-02-18 14:36:24   \n",
       "4  2017-04-21 00:00:00     2017-04-21 22:02:06   \n",
       "\n",
       "                        customer_id order_status order_purchase_timestamp  \\\n",
       "0  41dcb106f807e993532d446263290104    delivered      2018-01-11 15:30:49   \n",
       "1  41dcb106f807e993532d446263290104    delivered      2018-01-11 15:30:49   \n",
       "2  8a2e7ef9053dea531e4dc76bd6d853e6    delivered      2018-02-28 12:25:19   \n",
       "3  e226dfed6544df5b7b87a48208690feb    delivered      2018-02-03 09:56:22   \n",
       "4  de6dff97e5f1ba84a3cd9a3bc97df5f6    delivered      2017-04-09 17:41:13   \n",
       "\n",
       "   ...                customer_unique_id customer_zip_code_prefix  \\\n",
       "0  ...  68a5590b9926689be4e10f4ae2db21a8                     6030   \n",
       "1  ...  68a5590b9926689be4e10f4ae2db21a8                     6030   \n",
       "2  ...  64190b91b656ab8f37eb89b93dc84584                    13380   \n",
       "3  ...  1d47144362c14e94ccdd213e8ec277d5                    44571   \n",
       "4  ...  c8cf6cb6b838dc7a33ed199b825e8616                    88735   \n",
       "\n",
       "            customer_city customer_state  order_item_id  \\\n",
       "0                  osasco             SP              1   \n",
       "1                  osasco             SP              2   \n",
       "2             nova odessa             SP              1   \n",
       "3  santo antonio de jesus             BA              1   \n",
       "4                gravatal             SC              1   \n",
       "\n",
       "                         product_id                         seller_id  \\\n",
       "0  fd25ab760bfbba13c198fa3b4f1a0cd3  6d803cb79cc31c41c4c789a75933b3c7   \n",
       "1  fd25ab760bfbba13c198fa3b4f1a0cd3  6d803cb79cc31c41c4c789a75933b3c7   \n",
       "2  be0dbdc3d67d55727a65d4cd696ca73c  8e6d7754bc7e0f22c96d255ebda59eba   \n",
       "3  d1c427060a0f73f6b889a5c7c61f2ac4  a1043bafd471dff536d0c462352beb48   \n",
       "4  52c80cedd4e90108bf4fa6a206ef6b03  a1043bafd471dff536d0c462352beb48   \n",
       "\n",
       "   shipping_limit_date   price  freight_value  \n",
       "0  2018-01-18 15:47:59  185.00          13.63  \n",
       "1  2018-01-18 15:47:59  185.00          13.63  \n",
       "2  2018-03-06 12:48:39   79.79           8.30  \n",
       "3  2018-02-08 10:31:15  149.00          45.12  \n",
       "4  2017-04-13 17:55:19  179.99          42.85  \n",
       "\n",
       "[5 rows x 28 columns]"
      ]
     },
     "execution_count": 26,
     "metadata": {},
     "output_type": "execute_result"
    }
   ],
   "source": [
    "cust_items.head()"
   ]
  },
  {
   "cell_type": "code",
   "execution_count": 27,
   "id": "d19dab26-0ea3-4126-83d0-66dfebb13b6e",
   "metadata": {},
   "outputs": [
    {
     "data": {
      "text/plain": [
       "(32951, 9)"
      ]
     },
     "execution_count": 27,
     "metadata": {},
     "output_type": "execute_result"
    }
   ],
   "source": [
    "products.shape"
   ]
  },
  {
   "cell_type": "code",
   "execution_count": 28,
   "id": "d7422add-c7b4-4b83-9c8c-2de72eb3bd16",
   "metadata": {},
   "outputs": [
    {
     "data": {
      "text/plain": [
       "(117329, 36)"
      ]
     },
     "execution_count": 28,
     "metadata": {},
     "output_type": "execute_result"
    }
   ],
   "source": [
    "# Merging cust_items and products datasets\n",
    "cust_items_products = cust_items.merge(products, on = 'product_id')\n",
    "cust_items_products.shape"
   ]
  },
  {
   "cell_type": "code",
   "execution_count": 29,
   "id": "3b828910-8fef-415c-aead-16a53209605a",
   "metadata": {},
   "outputs": [
    {
     "data": {
      "text/html": [
       "<div>\n",
       "<style scoped>\n",
       "    .dataframe tbody tr th:only-of-type {\n",
       "        vertical-align: middle;\n",
       "    }\n",
       "\n",
       "    .dataframe tbody tr th {\n",
       "        vertical-align: top;\n",
       "    }\n",
       "\n",
       "    .dataframe thead th {\n",
       "        text-align: right;\n",
       "    }\n",
       "</style>\n",
       "<table border=\"1\" class=\"dataframe\">\n",
       "  <thead>\n",
       "    <tr style=\"text-align: right;\">\n",
       "      <th></th>\n",
       "      <th>review_id</th>\n",
       "      <th>order_id</th>\n",
       "      <th>review_score</th>\n",
       "      <th>review_comment_title</th>\n",
       "      <th>review_comment_message</th>\n",
       "      <th>review_creation_date</th>\n",
       "      <th>review_answer_timestamp</th>\n",
       "      <th>customer_id</th>\n",
       "      <th>order_status</th>\n",
       "      <th>order_purchase_timestamp</th>\n",
       "      <th>...</th>\n",
       "      <th>price</th>\n",
       "      <th>freight_value</th>\n",
       "      <th>product_category_name</th>\n",
       "      <th>product_name_lenght</th>\n",
       "      <th>product_description_lenght</th>\n",
       "      <th>product_photos_qty</th>\n",
       "      <th>product_weight_g</th>\n",
       "      <th>product_length_cm</th>\n",
       "      <th>product_height_cm</th>\n",
       "      <th>product_width_cm</th>\n",
       "    </tr>\n",
       "  </thead>\n",
       "  <tbody>\n",
       "    <tr>\n",
       "      <th>0</th>\n",
       "      <td>7bc2406110b926393aa56f80a40eba40</td>\n",
       "      <td>73fc7af87114b39712e6da79b0a377eb</td>\n",
       "      <td>4</td>\n",
       "      <td>NaN</td>\n",
       "      <td>NaN</td>\n",
       "      <td>2018-01-18 00:00:00</td>\n",
       "      <td>2018-01-18 21:46:59</td>\n",
       "      <td>41dcb106f807e993532d446263290104</td>\n",
       "      <td>delivered</td>\n",
       "      <td>2018-01-11 15:30:49</td>\n",
       "      <td>...</td>\n",
       "      <td>185.00</td>\n",
       "      <td>13.63</td>\n",
       "      <td>esporte_lazer</td>\n",
       "      <td>42.0</td>\n",
       "      <td>858.0</td>\n",
       "      <td>1.0</td>\n",
       "      <td>1300.0</td>\n",
       "      <td>30.0</td>\n",
       "      <td>30.0</td>\n",
       "      <td>35.0</td>\n",
       "    </tr>\n",
       "    <tr>\n",
       "      <th>1</th>\n",
       "      <td>7bc2406110b926393aa56f80a40eba40</td>\n",
       "      <td>73fc7af87114b39712e6da79b0a377eb</td>\n",
       "      <td>4</td>\n",
       "      <td>NaN</td>\n",
       "      <td>NaN</td>\n",
       "      <td>2018-01-18 00:00:00</td>\n",
       "      <td>2018-01-18 21:46:59</td>\n",
       "      <td>41dcb106f807e993532d446263290104</td>\n",
       "      <td>delivered</td>\n",
       "      <td>2018-01-11 15:30:49</td>\n",
       "      <td>...</td>\n",
       "      <td>185.00</td>\n",
       "      <td>13.63</td>\n",
       "      <td>esporte_lazer</td>\n",
       "      <td>42.0</td>\n",
       "      <td>858.0</td>\n",
       "      <td>1.0</td>\n",
       "      <td>1300.0</td>\n",
       "      <td>30.0</td>\n",
       "      <td>30.0</td>\n",
       "      <td>35.0</td>\n",
       "    </tr>\n",
       "    <tr>\n",
       "      <th>2</th>\n",
       "      <td>e2655da8bccce2ddc2f43cc2c80d24f3</td>\n",
       "      <td>19721d59a9764437477eff0730b48665</td>\n",
       "      <td>5</td>\n",
       "      <td>NaN</td>\n",
       "      <td>NaN</td>\n",
       "      <td>2018-04-10 00:00:00</td>\n",
       "      <td>2018-04-11 11:30:43</td>\n",
       "      <td>b1757da2a461d581e1a3b280ca181b7c</td>\n",
       "      <td>delivered</td>\n",
       "      <td>2018-03-26 11:02:31</td>\n",
       "      <td>...</td>\n",
       "      <td>185.00</td>\n",
       "      <td>20.26</td>\n",
       "      <td>esporte_lazer</td>\n",
       "      <td>42.0</td>\n",
       "      <td>858.0</td>\n",
       "      <td>1.0</td>\n",
       "      <td>1300.0</td>\n",
       "      <td>30.0</td>\n",
       "      <td>30.0</td>\n",
       "      <td>35.0</td>\n",
       "    </tr>\n",
       "    <tr>\n",
       "      <th>3</th>\n",
       "      <td>cb18f53b563f0bdeb76be0376ddd6b6a</td>\n",
       "      <td>efd626e6a12a82d76e456e34093f8356</td>\n",
       "      <td>5</td>\n",
       "      <td>NaN</td>\n",
       "      <td>NaN</td>\n",
       "      <td>2017-12-28 00:00:00</td>\n",
       "      <td>2017-12-30 12:07:50</td>\n",
       "      <td>da2bd16b131bc90653b87fe4d8fd266e</td>\n",
       "      <td>delivered</td>\n",
       "      <td>2017-12-07 20:33:24</td>\n",
       "      <td>...</td>\n",
       "      <td>185.00</td>\n",
       "      <td>17.05</td>\n",
       "      <td>esporte_lazer</td>\n",
       "      <td>42.0</td>\n",
       "      <td>858.0</td>\n",
       "      <td>1.0</td>\n",
       "      <td>1300.0</td>\n",
       "      <td>30.0</td>\n",
       "      <td>30.0</td>\n",
       "      <td>35.0</td>\n",
       "    </tr>\n",
       "    <tr>\n",
       "      <th>4</th>\n",
       "      <td>80e641a11e56f04c1ad469d5645fdfde</td>\n",
       "      <td>a548910a1c6147796b98fdf73dbeba33</td>\n",
       "      <td>5</td>\n",
       "      <td>NaN</td>\n",
       "      <td>NaN</td>\n",
       "      <td>2018-03-10 00:00:00</td>\n",
       "      <td>2018-03-11 03:05:13</td>\n",
       "      <td>8a2e7ef9053dea531e4dc76bd6d853e6</td>\n",
       "      <td>delivered</td>\n",
       "      <td>2018-02-28 12:25:19</td>\n",
       "      <td>...</td>\n",
       "      <td>79.79</td>\n",
       "      <td>8.30</td>\n",
       "      <td>informatica_acessorios</td>\n",
       "      <td>47.0</td>\n",
       "      <td>493.0</td>\n",
       "      <td>1.0</td>\n",
       "      <td>245.0</td>\n",
       "      <td>19.0</td>\n",
       "      <td>14.0</td>\n",
       "      <td>14.0</td>\n",
       "    </tr>\n",
       "  </tbody>\n",
       "</table>\n",
       "<p>5 rows × 36 columns</p>\n",
       "</div>"
      ],
      "text/plain": [
       "                          review_id                          order_id  \\\n",
       "0  7bc2406110b926393aa56f80a40eba40  73fc7af87114b39712e6da79b0a377eb   \n",
       "1  7bc2406110b926393aa56f80a40eba40  73fc7af87114b39712e6da79b0a377eb   \n",
       "2  e2655da8bccce2ddc2f43cc2c80d24f3  19721d59a9764437477eff0730b48665   \n",
       "3  cb18f53b563f0bdeb76be0376ddd6b6a  efd626e6a12a82d76e456e34093f8356   \n",
       "4  80e641a11e56f04c1ad469d5645fdfde  a548910a1c6147796b98fdf73dbeba33   \n",
       "\n",
       "   review_score review_comment_title review_comment_message  \\\n",
       "0             4                  NaN                    NaN   \n",
       "1             4                  NaN                    NaN   \n",
       "2             5                  NaN                    NaN   \n",
       "3             5                  NaN                    NaN   \n",
       "4             5                  NaN                    NaN   \n",
       "\n",
       "  review_creation_date review_answer_timestamp  \\\n",
       "0  2018-01-18 00:00:00     2018-01-18 21:46:59   \n",
       "1  2018-01-18 00:00:00     2018-01-18 21:46:59   \n",
       "2  2018-04-10 00:00:00     2018-04-11 11:30:43   \n",
       "3  2017-12-28 00:00:00     2017-12-30 12:07:50   \n",
       "4  2018-03-10 00:00:00     2018-03-11 03:05:13   \n",
       "\n",
       "                        customer_id order_status order_purchase_timestamp  \\\n",
       "0  41dcb106f807e993532d446263290104    delivered      2018-01-11 15:30:49   \n",
       "1  41dcb106f807e993532d446263290104    delivered      2018-01-11 15:30:49   \n",
       "2  b1757da2a461d581e1a3b280ca181b7c    delivered      2018-03-26 11:02:31   \n",
       "3  da2bd16b131bc90653b87fe4d8fd266e    delivered      2017-12-07 20:33:24   \n",
       "4  8a2e7ef9053dea531e4dc76bd6d853e6    delivered      2018-02-28 12:25:19   \n",
       "\n",
       "   ...   price freight_value   product_category_name product_name_lenght  \\\n",
       "0  ...  185.00         13.63           esporte_lazer                42.0   \n",
       "1  ...  185.00         13.63           esporte_lazer                42.0   \n",
       "2  ...  185.00         20.26           esporte_lazer                42.0   \n",
       "3  ...  185.00         17.05           esporte_lazer                42.0   \n",
       "4  ...   79.79          8.30  informatica_acessorios                47.0   \n",
       "\n",
       "   product_description_lenght product_photos_qty  product_weight_g  \\\n",
       "0                       858.0                1.0            1300.0   \n",
       "1                       858.0                1.0            1300.0   \n",
       "2                       858.0                1.0            1300.0   \n",
       "3                       858.0                1.0            1300.0   \n",
       "4                       493.0                1.0             245.0   \n",
       "\n",
       "   product_length_cm product_height_cm  product_width_cm  \n",
       "0               30.0              30.0              35.0  \n",
       "1               30.0              30.0              35.0  \n",
       "2               30.0              30.0              35.0  \n",
       "3               30.0              30.0              35.0  \n",
       "4               19.0              14.0              14.0  \n",
       "\n",
       "[5 rows x 36 columns]"
      ]
     },
     "execution_count": 29,
     "metadata": {},
     "output_type": "execute_result"
    }
   ],
   "source": [
    "cust_items_products.head()"
   ]
  },
  {
   "cell_type": "code",
   "execution_count": 30,
   "id": "d13bc040-690f-40b2-b102-1323226a452e",
   "metadata": {},
   "outputs": [
    {
     "data": {
      "text/plain": [
       "3090"
      ]
     },
     "execution_count": 30,
     "metadata": {},
     "output_type": "execute_result"
    }
   ],
   "source": [
    "len(cust_items_products['seller_id'].unique())"
   ]
  },
  {
   "cell_type": "code",
   "execution_count": 31,
   "id": "42c85542-169d-41f6-8746-3fdcec7ad966",
   "metadata": {},
   "outputs": [
    {
     "data": {
      "text/html": [
       "<div>\n",
       "<style scoped>\n",
       "    .dataframe tbody tr th:only-of-type {\n",
       "        vertical-align: middle;\n",
       "    }\n",
       "\n",
       "    .dataframe tbody tr th {\n",
       "        vertical-align: top;\n",
       "    }\n",
       "\n",
       "    .dataframe thead th {\n",
       "        text-align: right;\n",
       "    }\n",
       "</style>\n",
       "<table border=\"1\" class=\"dataframe\">\n",
       "  <thead>\n",
       "    <tr style=\"text-align: right;\">\n",
       "      <th></th>\n",
       "      <th>seller_id</th>\n",
       "      <th>seller_zip_code_prefix</th>\n",
       "      <th>seller_city</th>\n",
       "      <th>seller_state</th>\n",
       "    </tr>\n",
       "  </thead>\n",
       "  <tbody>\n",
       "    <tr>\n",
       "      <th>0</th>\n",
       "      <td>3442f8959a84dea7ee197c632cb2df15</td>\n",
       "      <td>13023</td>\n",
       "      <td>campinas</td>\n",
       "      <td>SP</td>\n",
       "    </tr>\n",
       "    <tr>\n",
       "      <th>1</th>\n",
       "      <td>d1b65fc7debc3361ea86b5f14c68d2e2</td>\n",
       "      <td>13844</td>\n",
       "      <td>mogi guacu</td>\n",
       "      <td>SP</td>\n",
       "    </tr>\n",
       "    <tr>\n",
       "      <th>2</th>\n",
       "      <td>ce3ad9de960102d0677a81f5d0bb7b2d</td>\n",
       "      <td>20031</td>\n",
       "      <td>rio de janeiro</td>\n",
       "      <td>RJ</td>\n",
       "    </tr>\n",
       "    <tr>\n",
       "      <th>3</th>\n",
       "      <td>c0f3eea2e14555b6faeea3dd58c1b1c3</td>\n",
       "      <td>4195</td>\n",
       "      <td>sao paulo</td>\n",
       "      <td>SP</td>\n",
       "    </tr>\n",
       "    <tr>\n",
       "      <th>4</th>\n",
       "      <td>51a04a8a6bdcb23deccc82b0b80742cf</td>\n",
       "      <td>12914</td>\n",
       "      <td>braganca paulista</td>\n",
       "      <td>SP</td>\n",
       "    </tr>\n",
       "  </tbody>\n",
       "</table>\n",
       "</div>"
      ],
      "text/plain": [
       "                          seller_id  seller_zip_code_prefix  \\\n",
       "0  3442f8959a84dea7ee197c632cb2df15                   13023   \n",
       "1  d1b65fc7debc3361ea86b5f14c68d2e2                   13844   \n",
       "2  ce3ad9de960102d0677a81f5d0bb7b2d                   20031   \n",
       "3  c0f3eea2e14555b6faeea3dd58c1b1c3                    4195   \n",
       "4  51a04a8a6bdcb23deccc82b0b80742cf                   12914   \n",
       "\n",
       "         seller_city seller_state  \n",
       "0           campinas           SP  \n",
       "1         mogi guacu           SP  \n",
       "2     rio de janeiro           RJ  \n",
       "3          sao paulo           SP  \n",
       "4  braganca paulista           SP  "
      ]
     },
     "execution_count": 31,
     "metadata": {},
     "output_type": "execute_result"
    }
   ],
   "source": [
    "sellers.head()"
   ]
  },
  {
   "cell_type": "code",
   "execution_count": 32,
   "id": "3ee4e25b-4277-4356-8f40-a93b1b2f4e7c",
   "metadata": {},
   "outputs": [
    {
     "data": {
      "text/plain": [
       "(117329, 39)"
      ]
     },
     "execution_count": 32,
     "metadata": {},
     "output_type": "execute_result"
    }
   ],
   "source": [
    "### Merge cust_items_products and seller dataset\n",
    "items_products_sellers = cust_items_products.merge(sellers, on = 'seller_id')\n",
    "items_products_sellers.shape"
   ]
  },
  {
   "cell_type": "code",
   "execution_count": 33,
   "id": "24fcae60-eff6-49bb-b239-3c703422c184",
   "metadata": {},
   "outputs": [
    {
     "data": {
      "text/html": [
       "<div>\n",
       "<style scoped>\n",
       "    .dataframe tbody tr th:only-of-type {\n",
       "        vertical-align: middle;\n",
       "    }\n",
       "\n",
       "    .dataframe tbody tr th {\n",
       "        vertical-align: top;\n",
       "    }\n",
       "\n",
       "    .dataframe thead th {\n",
       "        text-align: right;\n",
       "    }\n",
       "</style>\n",
       "<table border=\"1\" class=\"dataframe\">\n",
       "  <thead>\n",
       "    <tr style=\"text-align: right;\">\n",
       "      <th></th>\n",
       "      <th>review_id</th>\n",
       "      <th>order_id</th>\n",
       "      <th>review_score</th>\n",
       "      <th>review_comment_title</th>\n",
       "      <th>review_comment_message</th>\n",
       "      <th>review_creation_date</th>\n",
       "      <th>review_answer_timestamp</th>\n",
       "      <th>customer_id</th>\n",
       "      <th>order_status</th>\n",
       "      <th>order_purchase_timestamp</th>\n",
       "      <th>...</th>\n",
       "      <th>product_name_lenght</th>\n",
       "      <th>product_description_lenght</th>\n",
       "      <th>product_photos_qty</th>\n",
       "      <th>product_weight_g</th>\n",
       "      <th>product_length_cm</th>\n",
       "      <th>product_height_cm</th>\n",
       "      <th>product_width_cm</th>\n",
       "      <th>seller_zip_code_prefix</th>\n",
       "      <th>seller_city</th>\n",
       "      <th>seller_state</th>\n",
       "    </tr>\n",
       "  </thead>\n",
       "  <tbody>\n",
       "    <tr>\n",
       "      <th>0</th>\n",
       "      <td>7bc2406110b926393aa56f80a40eba40</td>\n",
       "      <td>73fc7af87114b39712e6da79b0a377eb</td>\n",
       "      <td>4</td>\n",
       "      <td>NaN</td>\n",
       "      <td>NaN</td>\n",
       "      <td>2018-01-18 00:00:00</td>\n",
       "      <td>2018-01-18 21:46:59</td>\n",
       "      <td>41dcb106f807e993532d446263290104</td>\n",
       "      <td>delivered</td>\n",
       "      <td>2018-01-11 15:30:49</td>\n",
       "      <td>...</td>\n",
       "      <td>42.0</td>\n",
       "      <td>858.0</td>\n",
       "      <td>1.0</td>\n",
       "      <td>1300.0</td>\n",
       "      <td>30.0</td>\n",
       "      <td>30.0</td>\n",
       "      <td>35.0</td>\n",
       "      <td>14600</td>\n",
       "      <td>sao joaquim da barra</td>\n",
       "      <td>SP</td>\n",
       "    </tr>\n",
       "    <tr>\n",
       "      <th>1</th>\n",
       "      <td>7bc2406110b926393aa56f80a40eba40</td>\n",
       "      <td>73fc7af87114b39712e6da79b0a377eb</td>\n",
       "      <td>4</td>\n",
       "      <td>NaN</td>\n",
       "      <td>NaN</td>\n",
       "      <td>2018-01-18 00:00:00</td>\n",
       "      <td>2018-01-18 21:46:59</td>\n",
       "      <td>41dcb106f807e993532d446263290104</td>\n",
       "      <td>delivered</td>\n",
       "      <td>2018-01-11 15:30:49</td>\n",
       "      <td>...</td>\n",
       "      <td>42.0</td>\n",
       "      <td>858.0</td>\n",
       "      <td>1.0</td>\n",
       "      <td>1300.0</td>\n",
       "      <td>30.0</td>\n",
       "      <td>30.0</td>\n",
       "      <td>35.0</td>\n",
       "      <td>14600</td>\n",
       "      <td>sao joaquim da barra</td>\n",
       "      <td>SP</td>\n",
       "    </tr>\n",
       "    <tr>\n",
       "      <th>2</th>\n",
       "      <td>e2655da8bccce2ddc2f43cc2c80d24f3</td>\n",
       "      <td>19721d59a9764437477eff0730b48665</td>\n",
       "      <td>5</td>\n",
       "      <td>NaN</td>\n",
       "      <td>NaN</td>\n",
       "      <td>2018-04-10 00:00:00</td>\n",
       "      <td>2018-04-11 11:30:43</td>\n",
       "      <td>b1757da2a461d581e1a3b280ca181b7c</td>\n",
       "      <td>delivered</td>\n",
       "      <td>2018-03-26 11:02:31</td>\n",
       "      <td>...</td>\n",
       "      <td>42.0</td>\n",
       "      <td>858.0</td>\n",
       "      <td>1.0</td>\n",
       "      <td>1300.0</td>\n",
       "      <td>30.0</td>\n",
       "      <td>30.0</td>\n",
       "      <td>35.0</td>\n",
       "      <td>14600</td>\n",
       "      <td>sao joaquim da barra</td>\n",
       "      <td>SP</td>\n",
       "    </tr>\n",
       "    <tr>\n",
       "      <th>3</th>\n",
       "      <td>cb18f53b563f0bdeb76be0376ddd6b6a</td>\n",
       "      <td>efd626e6a12a82d76e456e34093f8356</td>\n",
       "      <td>5</td>\n",
       "      <td>NaN</td>\n",
       "      <td>NaN</td>\n",
       "      <td>2017-12-28 00:00:00</td>\n",
       "      <td>2017-12-30 12:07:50</td>\n",
       "      <td>da2bd16b131bc90653b87fe4d8fd266e</td>\n",
       "      <td>delivered</td>\n",
       "      <td>2017-12-07 20:33:24</td>\n",
       "      <td>...</td>\n",
       "      <td>42.0</td>\n",
       "      <td>858.0</td>\n",
       "      <td>1.0</td>\n",
       "      <td>1300.0</td>\n",
       "      <td>30.0</td>\n",
       "      <td>30.0</td>\n",
       "      <td>35.0</td>\n",
       "      <td>14600</td>\n",
       "      <td>sao joaquim da barra</td>\n",
       "      <td>SP</td>\n",
       "    </tr>\n",
       "    <tr>\n",
       "      <th>4</th>\n",
       "      <td>5fdb2ed7aa0f1b1c9642175b302e38af</td>\n",
       "      <td>b0bc656fed47584c160f8cff2d7b8bbd</td>\n",
       "      <td>5</td>\n",
       "      <td>NaN</td>\n",
       "      <td>NaN</td>\n",
       "      <td>2018-03-17 00:00:00</td>\n",
       "      <td>2018-03-17 17:36:27</td>\n",
       "      <td>f4ad1c9eb0bed4469cbe0ff8f47bf634</td>\n",
       "      <td>delivered</td>\n",
       "      <td>2018-02-27 13:56:12</td>\n",
       "      <td>...</td>\n",
       "      <td>47.0</td>\n",
       "      <td>858.0</td>\n",
       "      <td>1.0</td>\n",
       "      <td>1600.0</td>\n",
       "      <td>30.0</td>\n",
       "      <td>30.0</td>\n",
       "      <td>35.0</td>\n",
       "      <td>14600</td>\n",
       "      <td>sao joaquim da barra</td>\n",
       "      <td>SP</td>\n",
       "    </tr>\n",
       "  </tbody>\n",
       "</table>\n",
       "<p>5 rows × 39 columns</p>\n",
       "</div>"
      ],
      "text/plain": [
       "                          review_id                          order_id  \\\n",
       "0  7bc2406110b926393aa56f80a40eba40  73fc7af87114b39712e6da79b0a377eb   \n",
       "1  7bc2406110b926393aa56f80a40eba40  73fc7af87114b39712e6da79b0a377eb   \n",
       "2  e2655da8bccce2ddc2f43cc2c80d24f3  19721d59a9764437477eff0730b48665   \n",
       "3  cb18f53b563f0bdeb76be0376ddd6b6a  efd626e6a12a82d76e456e34093f8356   \n",
       "4  5fdb2ed7aa0f1b1c9642175b302e38af  b0bc656fed47584c160f8cff2d7b8bbd   \n",
       "\n",
       "   review_score review_comment_title review_comment_message  \\\n",
       "0             4                  NaN                    NaN   \n",
       "1             4                  NaN                    NaN   \n",
       "2             5                  NaN                    NaN   \n",
       "3             5                  NaN                    NaN   \n",
       "4             5                  NaN                    NaN   \n",
       "\n",
       "  review_creation_date review_answer_timestamp  \\\n",
       "0  2018-01-18 00:00:00     2018-01-18 21:46:59   \n",
       "1  2018-01-18 00:00:00     2018-01-18 21:46:59   \n",
       "2  2018-04-10 00:00:00     2018-04-11 11:30:43   \n",
       "3  2017-12-28 00:00:00     2017-12-30 12:07:50   \n",
       "4  2018-03-17 00:00:00     2018-03-17 17:36:27   \n",
       "\n",
       "                        customer_id order_status order_purchase_timestamp  \\\n",
       "0  41dcb106f807e993532d446263290104    delivered      2018-01-11 15:30:49   \n",
       "1  41dcb106f807e993532d446263290104    delivered      2018-01-11 15:30:49   \n",
       "2  b1757da2a461d581e1a3b280ca181b7c    delivered      2018-03-26 11:02:31   \n",
       "3  da2bd16b131bc90653b87fe4d8fd266e    delivered      2017-12-07 20:33:24   \n",
       "4  f4ad1c9eb0bed4469cbe0ff8f47bf634    delivered      2018-02-27 13:56:12   \n",
       "\n",
       "   ... product_name_lenght product_description_lenght product_photos_qty  \\\n",
       "0  ...                42.0                      858.0                1.0   \n",
       "1  ...                42.0                      858.0                1.0   \n",
       "2  ...                42.0                      858.0                1.0   \n",
       "3  ...                42.0                      858.0                1.0   \n",
       "4  ...                47.0                      858.0                1.0   \n",
       "\n",
       "  product_weight_g  product_length_cm product_height_cm  product_width_cm  \\\n",
       "0           1300.0               30.0              30.0              35.0   \n",
       "1           1300.0               30.0              30.0              35.0   \n",
       "2           1300.0               30.0              30.0              35.0   \n",
       "3           1300.0               30.0              30.0              35.0   \n",
       "4           1600.0               30.0              30.0              35.0   \n",
       "\n",
       "   seller_zip_code_prefix           seller_city  seller_state  \n",
       "0                   14600  sao joaquim da barra            SP  \n",
       "1                   14600  sao joaquim da barra            SP  \n",
       "2                   14600  sao joaquim da barra            SP  \n",
       "3                   14600  sao joaquim da barra            SP  \n",
       "4                   14600  sao joaquim da barra            SP  \n",
       "\n",
       "[5 rows x 39 columns]"
      ]
     },
     "execution_count": 33,
     "metadata": {},
     "output_type": "execute_result"
    }
   ],
   "source": [
    "items_products_sellers.head()"
   ]
  },
  {
   "cell_type": "code",
   "execution_count": 34,
   "id": "318633a1-781b-4f72-9b99-251820c3e541",
   "metadata": {},
   "outputs": [
    {
     "data": {
      "text/plain": [
       "(1000163, 5)"
      ]
     },
     "execution_count": 34,
     "metadata": {},
     "output_type": "execute_result"
    }
   ],
   "source": [
    "geolocation.shape"
   ]
  },
  {
   "cell_type": "code",
   "execution_count": 35,
   "id": "b61e5654-ad00-437e-a28f-c113e9eccd3d",
   "metadata": {},
   "outputs": [
    {
     "data": {
      "text/html": [
       "<div>\n",
       "<style scoped>\n",
       "    .dataframe tbody tr th:only-of-type {\n",
       "        vertical-align: middle;\n",
       "    }\n",
       "\n",
       "    .dataframe tbody tr th {\n",
       "        vertical-align: top;\n",
       "    }\n",
       "\n",
       "    .dataframe thead th {\n",
       "        text-align: right;\n",
       "    }\n",
       "</style>\n",
       "<table border=\"1\" class=\"dataframe\">\n",
       "  <thead>\n",
       "    <tr style=\"text-align: right;\">\n",
       "      <th></th>\n",
       "      <th>geolocation_zip_code_prefix</th>\n",
       "      <th>geolocation_lat</th>\n",
       "      <th>geolocation_lng</th>\n",
       "      <th>geolocation_city</th>\n",
       "      <th>geolocation_state</th>\n",
       "    </tr>\n",
       "  </thead>\n",
       "  <tbody>\n",
       "    <tr>\n",
       "      <th>0</th>\n",
       "      <td>1037</td>\n",
       "      <td>-23.545621</td>\n",
       "      <td>-46.639292</td>\n",
       "      <td>sao paulo</td>\n",
       "      <td>SP</td>\n",
       "    </tr>\n",
       "    <tr>\n",
       "      <th>1</th>\n",
       "      <td>1046</td>\n",
       "      <td>-23.546081</td>\n",
       "      <td>-46.644820</td>\n",
       "      <td>sao paulo</td>\n",
       "      <td>SP</td>\n",
       "    </tr>\n",
       "    <tr>\n",
       "      <th>2</th>\n",
       "      <td>1046</td>\n",
       "      <td>-23.546129</td>\n",
       "      <td>-46.642951</td>\n",
       "      <td>sao paulo</td>\n",
       "      <td>SP</td>\n",
       "    </tr>\n",
       "    <tr>\n",
       "      <th>3</th>\n",
       "      <td>1041</td>\n",
       "      <td>-23.544392</td>\n",
       "      <td>-46.639499</td>\n",
       "      <td>sao paulo</td>\n",
       "      <td>SP</td>\n",
       "    </tr>\n",
       "    <tr>\n",
       "      <th>4</th>\n",
       "      <td>1035</td>\n",
       "      <td>-23.541578</td>\n",
       "      <td>-46.641607</td>\n",
       "      <td>sao paulo</td>\n",
       "      <td>SP</td>\n",
       "    </tr>\n",
       "  </tbody>\n",
       "</table>\n",
       "</div>"
      ],
      "text/plain": [
       "   geolocation_zip_code_prefix  geolocation_lat  geolocation_lng  \\\n",
       "0                         1037       -23.545621       -46.639292   \n",
       "1                         1046       -23.546081       -46.644820   \n",
       "2                         1046       -23.546129       -46.642951   \n",
       "3                         1041       -23.544392       -46.639499   \n",
       "4                         1035       -23.541578       -46.641607   \n",
       "\n",
       "  geolocation_city geolocation_state  \n",
       "0        sao paulo                SP  \n",
       "1        sao paulo                SP  \n",
       "2        sao paulo                SP  \n",
       "3        sao paulo                SP  \n",
       "4        sao paulo                SP  "
      ]
     },
     "execution_count": 35,
     "metadata": {},
     "output_type": "execute_result"
    }
   ],
   "source": [
    "geolocation.head()"
   ]
  },
  {
   "cell_type": "code",
   "execution_count": 36,
   "id": "5137e3fa-a59b-43a5-87e6-0d734c9ea8bf",
   "metadata": {},
   "outputs": [
    {
     "data": {
      "text/plain": [
       "19015"
      ]
     },
     "execution_count": 36,
     "metadata": {},
     "output_type": "execute_result"
    }
   ],
   "source": [
    "len(geolocation['geolocation_zip_code_prefix'].unique())"
   ]
  },
  {
   "cell_type": "code",
   "execution_count": 37,
   "id": "caf6d51b-b522-415d-9253-2676e79df28e",
   "metadata": {},
   "outputs": [
    {
     "data": {
      "text/plain": [
       "Index(['review_id', 'order_id', 'review_score', 'review_comment_title',\n",
       "       'review_comment_message', 'review_creation_date',\n",
       "       'review_answer_timestamp', 'customer_id', 'order_status',\n",
       "       'order_purchase_timestamp', 'order_approved_at',\n",
       "       'order_delivered_carrier_date', 'order_delivered_customer_date',\n",
       "       'order_estimated_delivery_date', 'payment_sequential', 'payment_type',\n",
       "       'payment_installments', 'payment_value', 'customer_unique_id',\n",
       "       'customer_zip_code_prefix', 'customer_city', 'customer_state',\n",
       "       'order_item_id', 'product_id', 'seller_id', 'shipping_limit_date',\n",
       "       'price', 'freight_value', 'product_category_name',\n",
       "       'product_name_lenght', 'product_description_lenght',\n",
       "       'product_photos_qty', 'product_weight_g', 'product_length_cm',\n",
       "       'product_height_cm', 'product_width_cm', 'seller_zip_code_prefix',\n",
       "       'seller_city', 'seller_state'],\n",
       "      dtype='object')"
      ]
     },
     "execution_count": 37,
     "metadata": {},
     "output_type": "execute_result"
    }
   ],
   "source": [
    "items_products_sellers.columns"
   ]
  },
  {
   "cell_type": "code",
   "execution_count": 38,
   "id": "2f8caab1-3016-4abd-b401-c6b12602a775",
   "metadata": {},
   "outputs": [
    {
     "data": {
      "text/html": [
       "<div>\n",
       "<style scoped>\n",
       "    .dataframe tbody tr th:only-of-type {\n",
       "        vertical-align: middle;\n",
       "    }\n",
       "\n",
       "    .dataframe tbody tr th {\n",
       "        vertical-align: top;\n",
       "    }\n",
       "\n",
       "    .dataframe thead th {\n",
       "        text-align: right;\n",
       "    }\n",
       "</style>\n",
       "<table border=\"1\" class=\"dataframe\">\n",
       "  <thead>\n",
       "    <tr style=\"text-align: right;\">\n",
       "      <th></th>\n",
       "      <th>geolocation_zip_code_prefix</th>\n",
       "      <th>geolocation_lat</th>\n",
       "      <th>geolocation_lng</th>\n",
       "    </tr>\n",
       "  </thead>\n",
       "  <tbody>\n",
       "    <tr>\n",
       "      <th>0</th>\n",
       "      <td>1001</td>\n",
       "      <td>-23.550190</td>\n",
       "      <td>-46.634024</td>\n",
       "    </tr>\n",
       "    <tr>\n",
       "      <th>1</th>\n",
       "      <td>1002</td>\n",
       "      <td>-23.548146</td>\n",
       "      <td>-46.634979</td>\n",
       "    </tr>\n",
       "    <tr>\n",
       "      <th>2</th>\n",
       "      <td>1003</td>\n",
       "      <td>-23.548994</td>\n",
       "      <td>-46.635731</td>\n",
       "    </tr>\n",
       "    <tr>\n",
       "      <th>3</th>\n",
       "      <td>1004</td>\n",
       "      <td>-23.549799</td>\n",
       "      <td>-46.634757</td>\n",
       "    </tr>\n",
       "    <tr>\n",
       "      <th>4</th>\n",
       "      <td>1005</td>\n",
       "      <td>-23.549456</td>\n",
       "      <td>-46.636733</td>\n",
       "    </tr>\n",
       "    <tr>\n",
       "      <th>...</th>\n",
       "      <td>...</td>\n",
       "      <td>...</td>\n",
       "      <td>...</td>\n",
       "    </tr>\n",
       "    <tr>\n",
       "      <th>19010</th>\n",
       "      <td>99960</td>\n",
       "      <td>-27.953722</td>\n",
       "      <td>-52.025511</td>\n",
       "    </tr>\n",
       "    <tr>\n",
       "      <th>19011</th>\n",
       "      <td>99965</td>\n",
       "      <td>-28.183372</td>\n",
       "      <td>-52.039850</td>\n",
       "    </tr>\n",
       "    <tr>\n",
       "      <th>19012</th>\n",
       "      <td>99970</td>\n",
       "      <td>-28.343766</td>\n",
       "      <td>-51.874689</td>\n",
       "    </tr>\n",
       "    <tr>\n",
       "      <th>19013</th>\n",
       "      <td>99980</td>\n",
       "      <td>-28.389129</td>\n",
       "      <td>-51.843836</td>\n",
       "    </tr>\n",
       "    <tr>\n",
       "      <th>19014</th>\n",
       "      <td>99990</td>\n",
       "      <td>-28.329595</td>\n",
       "      <td>-51.769362</td>\n",
       "    </tr>\n",
       "  </tbody>\n",
       "</table>\n",
       "<p>19015 rows × 3 columns</p>\n",
       "</div>"
      ],
      "text/plain": [
       "       geolocation_zip_code_prefix  geolocation_lat  geolocation_lng\n",
       "0                             1001       -23.550190       -46.634024\n",
       "1                             1002       -23.548146       -46.634979\n",
       "2                             1003       -23.548994       -46.635731\n",
       "3                             1004       -23.549799       -46.634757\n",
       "4                             1005       -23.549456       -46.636733\n",
       "...                            ...              ...              ...\n",
       "19010                        99960       -27.953722       -52.025511\n",
       "19011                        99965       -28.183372       -52.039850\n",
       "19012                        99970       -28.343766       -51.874689\n",
       "19013                        99980       -28.389129       -51.843836\n",
       "19014                        99990       -28.329595       -51.769362\n",
       "\n",
       "[19015 rows x 3 columns]"
      ]
     },
     "execution_count": 38,
     "metadata": {},
     "output_type": "execute_result"
    }
   ],
   "source": [
    "geoloc_df = geolocation.groupby('geolocation_zip_code_prefix').mean().reset_index()\n",
    "geoloc_df"
   ]
  },
  {
   "cell_type": "code",
   "execution_count": 39,
   "id": "0ccc46a8-ff35-44ca-ba89-0fb22ea037b2",
   "metadata": {},
   "outputs": [],
   "source": [
    "# Final data after merging\n",
    "final_df = items_products_sellers.merge(geoloc_df, left_on = 'customer_zip_code_prefix', right_on = 'geolocation_zip_code_prefix')"
   ]
  },
  {
   "cell_type": "code",
   "execution_count": 40,
   "id": "9d03904f-cb7c-49aa-81ea-528d48cdb770",
   "metadata": {},
   "outputs": [
    {
     "data": {
      "text/html": [
       "<div>\n",
       "<style scoped>\n",
       "    .dataframe tbody tr th:only-of-type {\n",
       "        vertical-align: middle;\n",
       "    }\n",
       "\n",
       "    .dataframe tbody tr th {\n",
       "        vertical-align: top;\n",
       "    }\n",
       "\n",
       "    .dataframe thead th {\n",
       "        text-align: right;\n",
       "    }\n",
       "</style>\n",
       "<table border=\"1\" class=\"dataframe\">\n",
       "  <thead>\n",
       "    <tr style=\"text-align: right;\">\n",
       "      <th></th>\n",
       "      <th>review_id</th>\n",
       "      <th>order_id</th>\n",
       "      <th>review_score</th>\n",
       "      <th>review_comment_title</th>\n",
       "      <th>review_comment_message</th>\n",
       "      <th>review_creation_date</th>\n",
       "      <th>review_answer_timestamp</th>\n",
       "      <th>customer_id</th>\n",
       "      <th>order_status</th>\n",
       "      <th>order_purchase_timestamp</th>\n",
       "      <th>...</th>\n",
       "      <th>product_weight_g</th>\n",
       "      <th>product_length_cm</th>\n",
       "      <th>product_height_cm</th>\n",
       "      <th>product_width_cm</th>\n",
       "      <th>seller_zip_code_prefix</th>\n",
       "      <th>seller_city</th>\n",
       "      <th>seller_state</th>\n",
       "      <th>geolocation_zip_code_prefix</th>\n",
       "      <th>geolocation_lat</th>\n",
       "      <th>geolocation_lng</th>\n",
       "    </tr>\n",
       "  </thead>\n",
       "  <tbody>\n",
       "    <tr>\n",
       "      <th>0</th>\n",
       "      <td>7bc2406110b926393aa56f80a40eba40</td>\n",
       "      <td>73fc7af87114b39712e6da79b0a377eb</td>\n",
       "      <td>4</td>\n",
       "      <td>NaN</td>\n",
       "      <td>NaN</td>\n",
       "      <td>2018-01-18 00:00:00</td>\n",
       "      <td>2018-01-18 21:46:59</td>\n",
       "      <td>41dcb106f807e993532d446263290104</td>\n",
       "      <td>delivered</td>\n",
       "      <td>2018-01-11 15:30:49</td>\n",
       "      <td>...</td>\n",
       "      <td>1300.0</td>\n",
       "      <td>30.0</td>\n",
       "      <td>30.0</td>\n",
       "      <td>35.0</td>\n",
       "      <td>14600</td>\n",
       "      <td>sao joaquim da barra</td>\n",
       "      <td>SP</td>\n",
       "      <td>6030</td>\n",
       "      <td>-23.557079</td>\n",
       "      <td>-46.767579</td>\n",
       "    </tr>\n",
       "    <tr>\n",
       "      <th>1</th>\n",
       "      <td>7bc2406110b926393aa56f80a40eba40</td>\n",
       "      <td>73fc7af87114b39712e6da79b0a377eb</td>\n",
       "      <td>4</td>\n",
       "      <td>NaN</td>\n",
       "      <td>NaN</td>\n",
       "      <td>2018-01-18 00:00:00</td>\n",
       "      <td>2018-01-18 21:46:59</td>\n",
       "      <td>41dcb106f807e993532d446263290104</td>\n",
       "      <td>delivered</td>\n",
       "      <td>2018-01-11 15:30:49</td>\n",
       "      <td>...</td>\n",
       "      <td>1300.0</td>\n",
       "      <td>30.0</td>\n",
       "      <td>30.0</td>\n",
       "      <td>35.0</td>\n",
       "      <td>14600</td>\n",
       "      <td>sao joaquim da barra</td>\n",
       "      <td>SP</td>\n",
       "      <td>6030</td>\n",
       "      <td>-23.557079</td>\n",
       "      <td>-46.767579</td>\n",
       "    </tr>\n",
       "    <tr>\n",
       "      <th>2</th>\n",
       "      <td>238e50e85af6df5121c9978eb61f52dc</td>\n",
       "      <td>5a32dae759e50279bf8e1b2be65edd27</td>\n",
       "      <td>4</td>\n",
       "      <td>NaN</td>\n",
       "      <td>NaN</td>\n",
       "      <td>2017-10-02 00:00:00</td>\n",
       "      <td>2017-10-02 16:58:22</td>\n",
       "      <td>6b5aaff0e495149ec28705162bba2fe4</td>\n",
       "      <td>delivered</td>\n",
       "      <td>2017-09-28 23:13:40</td>\n",
       "      <td>...</td>\n",
       "      <td>250.0</td>\n",
       "      <td>17.0</td>\n",
       "      <td>6.0</td>\n",
       "      <td>12.0</td>\n",
       "      <td>13324</td>\n",
       "      <td>salto</td>\n",
       "      <td>SP</td>\n",
       "      <td>6030</td>\n",
       "      <td>-23.557079</td>\n",
       "      <td>-46.767579</td>\n",
       "    </tr>\n",
       "    <tr>\n",
       "      <th>3</th>\n",
       "      <td>f4e0a5f2050ea33c9567478c2c4805ae</td>\n",
       "      <td>c7873fbbe3a42117a53be238d9b734f3</td>\n",
       "      <td>3</td>\n",
       "      <td>NaN</td>\n",
       "      <td>NaN</td>\n",
       "      <td>2018-05-01 00:00:00</td>\n",
       "      <td>2018-05-02 11:09:50</td>\n",
       "      <td>e13363e1db087b7d98c27f9b9405d793</td>\n",
       "      <td>delivered</td>\n",
       "      <td>2018-04-27 08:44:03</td>\n",
       "      <td>...</td>\n",
       "      <td>200.0</td>\n",
       "      <td>25.0</td>\n",
       "      <td>7.0</td>\n",
       "      <td>16.0</td>\n",
       "      <td>1212</td>\n",
       "      <td>sao paulo</td>\n",
       "      <td>SP</td>\n",
       "      <td>6030</td>\n",
       "      <td>-23.557079</td>\n",
       "      <td>-46.767579</td>\n",
       "    </tr>\n",
       "    <tr>\n",
       "      <th>4</th>\n",
       "      <td>314adfed9c9ebb83c3021c3b703daf0f</td>\n",
       "      <td>44fb0b3fb29ddaedf3fe5bd4a99e7495</td>\n",
       "      <td>5</td>\n",
       "      <td>Produto Recusado</td>\n",
       "      <td>O produto chegou a ser entregue, porém foi rec...</td>\n",
       "      <td>2018-07-28 00:00:00</td>\n",
       "      <td>2018-07-28 23:58:51</td>\n",
       "      <td>0d7b652454b643aca094cbdbd5080867</td>\n",
       "      <td>delivered</td>\n",
       "      <td>2018-07-21 19:08:07</td>\n",
       "      <td>...</td>\n",
       "      <td>1650.0</td>\n",
       "      <td>30.0</td>\n",
       "      <td>22.0</td>\n",
       "      <td>30.0</td>\n",
       "      <td>15025</td>\n",
       "      <td>sao jose do rio preto</td>\n",
       "      <td>SP</td>\n",
       "      <td>6030</td>\n",
       "      <td>-23.557079</td>\n",
       "      <td>-46.767579</td>\n",
       "    </tr>\n",
       "  </tbody>\n",
       "</table>\n",
       "<p>5 rows × 42 columns</p>\n",
       "</div>"
      ],
      "text/plain": [
       "                          review_id                          order_id  \\\n",
       "0  7bc2406110b926393aa56f80a40eba40  73fc7af87114b39712e6da79b0a377eb   \n",
       "1  7bc2406110b926393aa56f80a40eba40  73fc7af87114b39712e6da79b0a377eb   \n",
       "2  238e50e85af6df5121c9978eb61f52dc  5a32dae759e50279bf8e1b2be65edd27   \n",
       "3  f4e0a5f2050ea33c9567478c2c4805ae  c7873fbbe3a42117a53be238d9b734f3   \n",
       "4  314adfed9c9ebb83c3021c3b703daf0f  44fb0b3fb29ddaedf3fe5bd4a99e7495   \n",
       "\n",
       "   review_score review_comment_title  \\\n",
       "0             4                  NaN   \n",
       "1             4                  NaN   \n",
       "2             4                  NaN   \n",
       "3             3                  NaN   \n",
       "4             5     Produto Recusado   \n",
       "\n",
       "                              review_comment_message review_creation_date  \\\n",
       "0                                                NaN  2018-01-18 00:00:00   \n",
       "1                                                NaN  2018-01-18 00:00:00   \n",
       "2                                                NaN  2017-10-02 00:00:00   \n",
       "3                                                NaN  2018-05-01 00:00:00   \n",
       "4  O produto chegou a ser entregue, porém foi rec...  2018-07-28 00:00:00   \n",
       "\n",
       "  review_answer_timestamp                       customer_id order_status  \\\n",
       "0     2018-01-18 21:46:59  41dcb106f807e993532d446263290104    delivered   \n",
       "1     2018-01-18 21:46:59  41dcb106f807e993532d446263290104    delivered   \n",
       "2     2017-10-02 16:58:22  6b5aaff0e495149ec28705162bba2fe4    delivered   \n",
       "3     2018-05-02 11:09:50  e13363e1db087b7d98c27f9b9405d793    delivered   \n",
       "4     2018-07-28 23:58:51  0d7b652454b643aca094cbdbd5080867    delivered   \n",
       "\n",
       "  order_purchase_timestamp  ... product_weight_g product_length_cm  \\\n",
       "0      2018-01-11 15:30:49  ...           1300.0              30.0   \n",
       "1      2018-01-11 15:30:49  ...           1300.0              30.0   \n",
       "2      2017-09-28 23:13:40  ...            250.0              17.0   \n",
       "3      2018-04-27 08:44:03  ...            200.0              25.0   \n",
       "4      2018-07-21 19:08:07  ...           1650.0              30.0   \n",
       "\n",
       "  product_height_cm product_width_cm  seller_zip_code_prefix  \\\n",
       "0              30.0             35.0                   14600   \n",
       "1              30.0             35.0                   14600   \n",
       "2               6.0             12.0                   13324   \n",
       "3               7.0             16.0                    1212   \n",
       "4              22.0             30.0                   15025   \n",
       "\n",
       "             seller_city  seller_state  geolocation_zip_code_prefix  \\\n",
       "0   sao joaquim da barra            SP                         6030   \n",
       "1   sao joaquim da barra            SP                         6030   \n",
       "2                  salto            SP                         6030   \n",
       "3              sao paulo            SP                         6030   \n",
       "4  sao jose do rio preto            SP                         6030   \n",
       "\n",
       "  geolocation_lat  geolocation_lng  \n",
       "0      -23.557079       -46.767579  \n",
       "1      -23.557079       -46.767579  \n",
       "2      -23.557079       -46.767579  \n",
       "3      -23.557079       -46.767579  \n",
       "4      -23.557079       -46.767579  \n",
       "\n",
       "[5 rows x 42 columns]"
      ]
     },
     "execution_count": 40,
     "metadata": {},
     "output_type": "execute_result"
    }
   ],
   "source": [
    "final_df.head()"
   ]
  },
  {
   "cell_type": "code",
   "execution_count": 41,
   "id": "9a29bfee-9ecc-4e5a-8e2c-718f1da40711",
   "metadata": {},
   "outputs": [
    {
     "data": {
      "text/plain": [
       "(117013, 42)"
      ]
     },
     "execution_count": 41,
     "metadata": {},
     "output_type": "execute_result"
    }
   ],
   "source": [
    "final_df.shape "
   ]
  },
  {
   "cell_type": "code",
   "execution_count": 42,
   "id": "fe001d22-e29f-4bfc-bb58-17b034435383",
   "metadata": {},
   "outputs": [],
   "source": [
    "final_df.to_csv('C:\\\\Users\\\\rahul.goyal\\\\Desktop\\\\Data Science\\\\Machine Learning/Projects/final_data.csv')"
   ]
  },
  {
   "cell_type": "code",
   "execution_count": 43,
   "id": "646f365b-66a0-4d26-a3c8-c993c2c78b25",
   "metadata": {},
   "outputs": [],
   "source": [
    "df = pd.read_csv('final_data.csv')"
   ]
  },
  {
   "cell_type": "code",
   "execution_count": 44,
   "id": "65534306-96a9-4f3e-86ec-e927fcac9bb1",
   "metadata": {},
   "outputs": [
    {
     "data": {
      "text/plain": [
       "(117013, 43)"
      ]
     },
     "execution_count": 44,
     "metadata": {},
     "output_type": "execute_result"
    }
   ],
   "source": [
    "df.shape"
   ]
  },
  {
   "cell_type": "code",
   "execution_count": 45,
   "id": "07fdfabd-0ecb-4b08-b830-b8b205991e13",
   "metadata": {},
   "outputs": [
    {
     "data": {
      "text/plain": [
       "Unnamed: 0                            0\n",
       "review_id                             0\n",
       "order_id                              0\n",
       "review_score                          0\n",
       "review_comment_title             103166\n",
       "review_comment_message            67464\n",
       "review_creation_date                  0\n",
       "review_answer_timestamp               0\n",
       "customer_id                           0\n",
       "order_status                          0\n",
       "order_purchase_timestamp              0\n",
       "order_approved_at                    15\n",
       "order_delivered_carrier_date       1228\n",
       "order_delivered_customer_date      2457\n",
       "order_estimated_delivery_date         0\n",
       "payment_sequential                    0\n",
       "payment_type                          0\n",
       "payment_installments                  0\n",
       "payment_value                         0\n",
       "customer_unique_id                    0\n",
       "customer_zip_code_prefix              0\n",
       "customer_city                         0\n",
       "customer_state                        0\n",
       "order_item_id                         0\n",
       "product_id                            0\n",
       "seller_id                             0\n",
       "shipping_limit_date                   0\n",
       "price                                 0\n",
       "freight_value                         0\n",
       "product_category_name              1689\n",
       "product_name_lenght                1689\n",
       "product_description_lenght         1689\n",
       "product_photos_qty                 1689\n",
       "product_weight_g                     20\n",
       "product_length_cm                    20\n",
       "product_height_cm                    20\n",
       "product_width_cm                     20\n",
       "seller_zip_code_prefix                0\n",
       "seller_city                           0\n",
       "seller_state                          0\n",
       "geolocation_zip_code_prefix           0\n",
       "geolocation_lat                       0\n",
       "geolocation_lng                       0\n",
       "dtype: int64"
      ]
     },
     "execution_count": 45,
     "metadata": {},
     "output_type": "execute_result"
    }
   ],
   "source": [
    "### Checking Null values\n",
    "df.isnull().sum()"
   ]
  },
  {
   "cell_type": "code",
   "execution_count": 45,
   "id": "c9ab4dba-e744-4938-88f0-f446fb8836cc",
   "metadata": {},
   "outputs": [
    {
     "ename": "SyntaxError",
     "evalue": "EOL while scanning string literal (Temp/ipykernel_220/2227158062.py, line 5)",
     "output_type": "error",
     "traceback": [
      "\u001b[1;36m  File \u001b[1;32m\"C:\\Users\\RAHUL~1.GOY\\AppData\\Local\\Temp/ipykernel_220/2227158062.py\"\u001b[1;36m, line \u001b[1;32m5\u001b[0m\n\u001b[1;33m    ''''\u001b[0m\n\u001b[1;37m        \n^\u001b[0m\n\u001b[1;31mSyntaxError\u001b[0m\u001b[1;31m:\u001b[0m EOL while scanning string literal\n"
     ]
    }
   ],
   "source": [
    "'''from scipy.stats import pearsonr\n",
    "a = df['review_id']\n",
    "b = df['review_score']\n",
    "pearsonr(a,b)\n",
    "''''"
   ]
  },
  {
   "cell_type": "code",
   "execution_count": 45,
   "id": "21691e38-ed74-48de-aff1-fe55e3561921",
   "metadata": {},
   "outputs": [
    {
     "data": {
      "text/plain": [
       "Index(['Unnamed: 0', 'review_id', 'order_id', 'review_score',\n",
       "       'review_comment_title', 'review_comment_message',\n",
       "       'review_creation_date', 'review_answer_timestamp', 'customer_id',\n",
       "       'order_status', 'order_purchase_timestamp', 'order_approved_at',\n",
       "       'order_delivered_carrier_date', 'order_delivered_customer_date',\n",
       "       'order_estimated_delivery_date', 'payment_sequential', 'payment_type',\n",
       "       'payment_installments', 'payment_value', 'customer_unique_id',\n",
       "       'customer_zip_code_prefix', 'customer_city', 'customer_state',\n",
       "       'order_item_id', 'product_id', 'seller_id', 'shipping_limit_date',\n",
       "       'price', 'freight_value', 'product_category_name',\n",
       "       'product_name_lenght', 'product_description_lenght',\n",
       "       'product_photos_qty', 'product_weight_g', 'product_length_cm',\n",
       "       'product_height_cm', 'product_width_cm', 'seller_zip_code_prefix',\n",
       "       'seller_city', 'seller_state', 'geolocation_zip_code_prefix',\n",
       "       'geolocation_lat', 'geolocation_lng'],\n",
       "      dtype='object')"
      ]
     },
     "execution_count": 45,
     "metadata": {},
     "output_type": "execute_result"
    }
   ],
   "source": [
    "df.columns"
   ]
  },
  {
   "cell_type": "code",
   "execution_count": 46,
   "id": "d1602849-7ad1-43c8-bc4b-ac279b80569c",
   "metadata": {},
   "outputs": [],
   "source": [
    "## Columns which are unique and has lot of missing values\n",
    "columns = ['Unnamed: 0', 'review_id', 'order_id', 'review_comment_title', 'review_comment_message', \n",
    "           'customer_id', 'customer_unique_id', 'order_approved_at', 'order_delivered_carrier_date',\n",
    "           'order_item_id', 'product_id', 'seller_id', 'shipping_limit_date','geolocation_zip_code_prefix', \n",
    "           'geolocation_lat', 'geolocation_lng', 'review_creation_date', 'review_answer_timestamp', 'order_purchase_timestamp',\n",
    "           'order_delivered_customer_date', 'order_estimated_delivery_date']"
   ]
  },
  {
   "cell_type": "code",
   "execution_count": 47,
   "id": "3c8264e7-ff9e-41a9-a140-70d640995cd8",
   "metadata": {},
   "outputs": [],
   "source": [
    "data=df.copy()"
   ]
  },
  {
   "cell_type": "code",
   "execution_count": 48,
   "id": "273383eb-0888-4f0b-8db0-386b46c7ef86",
   "metadata": {},
   "outputs": [],
   "source": [
    "data=data.drop(columns, axis=1)"
   ]
  },
  {
   "cell_type": "code",
   "execution_count": 49,
   "id": "c332a375-c460-4434-89ed-900096317589",
   "metadata": {},
   "outputs": [
    {
     "data": {
      "text/plain": [
       "(117013, 22)"
      ]
     },
     "execution_count": 49,
     "metadata": {},
     "output_type": "execute_result"
    }
   ],
   "source": [
    "data.shape"
   ]
  },
  {
   "cell_type": "code",
   "execution_count": 50,
   "id": "8ab55fd0-8d30-43d2-b331-16adfc45b841",
   "metadata": {},
   "outputs": [],
   "source": [
    "## Renaming the columns\n",
    "data = data.rename(columns={'product_description_lenght': 'product_description_length'})\n",
    "data = data.rename(columns={'product_name_lenght': 'product_name_length'})"
   ]
  },
  {
   "cell_type": "code",
   "execution_count": 51,
   "id": "c106a611-806e-4823-b5f4-9296978b9973",
   "metadata": {},
   "outputs": [
    {
     "data": {
      "text/plain": [
       "<AxesSubplot:>"
      ]
     },
     "execution_count": 51,
     "metadata": {},
     "output_type": "execute_result"
    },
    {
     "data": {
      "image/png": "[encoded data removed]",
      "text/plain": [
       "<Figure size 432x288 with 1 Axes>"
      ]
     },
     "metadata": {
      "needs_background": "light"
     },
     "output_type": "display_data"
    }
   ],
   "source": [
    "sns.heatmap(data.isnull(), cmap='Blues_r', cbar=False, yticklabels=False )"
   ]
  },
  {
   "cell_type": "markdown",
   "id": "612ea162-b988-4796-9e36-0d2ac138894c",
   "metadata": {},
   "source": [
    "### Handling Missing values"
   ]
  },
  {
   "cell_type": "code",
   "execution_count": 52,
   "id": "3a417349-ab37-4f27-ae9a-a1e98017a452",
   "metadata": {},
   "outputs": [
    {
     "data": {
      "text/plain": [
       "review_score                     0\n",
       "order_status                     0\n",
       "payment_sequential               0\n",
       "payment_type                     0\n",
       "payment_installments             0\n",
       "payment_value                    0\n",
       "customer_zip_code_prefix         0\n",
       "customer_city                    0\n",
       "customer_state                   0\n",
       "price                            0\n",
       "freight_value                    0\n",
       "product_category_name         1689\n",
       "product_name_length           1689\n",
       "product_description_length    1689\n",
       "product_photos_qty            1689\n",
       "product_weight_g                20\n",
       "product_length_cm               20\n",
       "product_height_cm               20\n",
       "product_width_cm                20\n",
       "seller_zip_code_prefix           0\n",
       "seller_city                      0\n",
       "seller_state                     0\n",
       "dtype: int64"
      ]
     },
     "execution_count": 52,
     "metadata": {},
     "output_type": "execute_result"
    }
   ],
   "source": [
    "data.isnull().sum()"
   ]
  },
  {
   "cell_type": "code",
   "execution_count": 53,
   "id": "c61d309f-3a7f-4dea-9e4f-1ad4b3637012",
   "metadata": {},
   "outputs": [
    {
     "data": {
      "text/plain": [
       "59.0    8586\n",
       "60.0    7995\n",
       "56.0    6786\n",
       "58.0    6741\n",
       "57.0    6246\n",
       "        ... \n",
       "7.0        2\n",
       "69.0       1\n",
       "66.0       1\n",
       "68.0       1\n",
       "76.0       1\n",
       "Name: product_name_length, Length: 66, dtype: int64"
      ]
     },
     "execution_count": 53,
     "metadata": {},
     "output_type": "execute_result"
    }
   ],
   "source": [
    "data['product_name_length'].value_counts()"
   ]
  },
  {
   "cell_type": "code",
   "execution_count": 54,
   "id": "3de03c4d-1c9b-4a99-bc7a-b666ede98db2",
   "metadata": {},
   "outputs": [
    {
     "data": {
      "text/plain": [
       "count    115324.000000\n",
       "mean         48.768279\n",
       "std          10.035583\n",
       "min           5.000000\n",
       "25%          42.000000\n",
       "50%          52.000000\n",
       "75%          57.000000\n",
       "max          76.000000\n",
       "Name: product_name_length, dtype: float64"
      ]
     },
     "execution_count": 54,
     "metadata": {},
     "output_type": "execute_result"
    }
   ],
   "source": [
    "data['product_name_length'].describe()"
   ]
  },
  {
   "cell_type": "code",
   "execution_count": 55,
   "id": "87a454a9-19f4-4479-a376-095aff6434cb",
   "metadata": {},
   "outputs": [],
   "source": [
    "data['product_name_length']=data['product_name_length'].fillna(59.0)"
   ]
  },
  {
   "cell_type": "code",
   "execution_count": 56,
   "id": "8c8045db-8368-4295-9ec0-1b76ed2e00fc",
   "metadata": {},
   "outputs": [],
   "source": [
    "data['product_category_name'] = data['product_category_name'].fillna('other')"
   ]
  },
  {
   "cell_type": "code",
   "execution_count": 57,
   "id": "2e7488c6-2c2d-4bce-b7ba-72f042c9b0b1",
   "metadata": {},
   "outputs": [
    {
     "data": {
      "text/plain": [
       "341.0     706\n",
       "1893.0    663\n",
       "348.0     642\n",
       "492.0     588\n",
       "903.0     586\n",
       "         ... \n",
       "3737.0      1\n",
       "3379.0      1\n",
       "3295.0      1\n",
       "2099.0      1\n",
       "1965.0      1\n",
       "Name: product_description_length, Length: 2958, dtype: int64"
      ]
     },
     "execution_count": 57,
     "metadata": {},
     "output_type": "execute_result"
    }
   ],
   "source": [
    "data['product_description_length'].value_counts()"
   ]
  },
  {
   "cell_type": "code",
   "execution_count": 58,
   "id": "61447c8e-22cf-4f81-af41-be6848fb5b0a",
   "metadata": {},
   "outputs": [
    {
     "data": {
      "text/plain": [
       "count    115324.000000\n",
       "mean        785.873764\n",
       "std         652.544571\n",
       "min           4.000000\n",
       "25%         346.000000\n",
       "50%         600.000000\n",
       "75%         983.000000\n",
       "max        3992.000000\n",
       "Name: product_description_length, dtype: float64"
      ]
     },
     "execution_count": 58,
     "metadata": {},
     "output_type": "execute_result"
    }
   ],
   "source": [
    "data['product_description_length'].describe()"
   ]
  },
  {
   "cell_type": "code",
   "execution_count": 59,
   "id": "b342a14b-c90c-4f9a-80d1-deecc9e74333",
   "metadata": {},
   "outputs": [],
   "source": [
    "data['product_description_length']=data['product_description_length'].fillna(786.019339)"
   ]
  },
  {
   "cell_type": "code",
   "execution_count": 60,
   "id": "23a0cbfe-a831-40e9-b92a-e030a81354de",
   "metadata": {},
   "outputs": [
    {
     "data": {
      "text/plain": [
       "1.0     58287\n",
       "2.0     22829\n",
       "3.0     12836\n",
       "4.0      8751\n",
       "5.0      5552\n",
       "6.0      3898\n",
       "7.0      1545\n",
       "8.0       766\n",
       "10.0      353\n",
       "9.0       309\n",
       "11.0       72\n",
       "12.0       60\n",
       "13.0       30\n",
       "15.0       12\n",
       "17.0       11\n",
       "14.0        6\n",
       "18.0        4\n",
       "19.0        2\n",
       "20.0        1\n",
       "Name: product_photos_qty, dtype: int64"
      ]
     },
     "execution_count": 60,
     "metadata": {},
     "output_type": "execute_result"
    }
   ],
   "source": [
    "data['product_photos_qty'].value_counts() "
   ]
  },
  {
   "cell_type": "code",
   "execution_count": 61,
   "id": "ba16e264-07ce-482a-b571-324dfbc2e4ab",
   "metadata": {},
   "outputs": [],
   "source": [
    "data['product_photos_qty']=data['product_photos_qty'].fillna(1.0)"
   ]
  },
  {
   "cell_type": "code",
   "execution_count": 62,
   "id": "fe6b4c4f-ae86-48f9-a7d4-d73234e66c4c",
   "metadata": {},
   "outputs": [],
   "source": [
    "data['product_weight_g']=data['product_weight_g'].fillna(0)\n",
    "data['product_length_cm']=data['product_length_cm'].fillna(0)\n",
    "data['product_height_cm']=data['product_height_cm'].fillna(0)\n",
    "data['product_width_cm']=data['product_width_cm'].fillna(0)"
   ]
  },
  {
   "cell_type": "code",
   "execution_count": 63,
   "id": "23896d58-185f-45c8-a111-04fa791574a8",
   "metadata": {},
   "outputs": [
    {
     "data": {
      "text/plain": [
       "review_score                  0\n",
       "order_status                  0\n",
       "payment_sequential            0\n",
       "payment_type                  0\n",
       "payment_installments          0\n",
       "payment_value                 0\n",
       "customer_zip_code_prefix      0\n",
       "customer_city                 0\n",
       "customer_state                0\n",
       "price                         0\n",
       "freight_value                 0\n",
       "product_category_name         0\n",
       "product_name_length           0\n",
       "product_description_length    0\n",
       "product_photos_qty            0\n",
       "product_weight_g              0\n",
       "product_length_cm             0\n",
       "product_height_cm             0\n",
       "product_width_cm              0\n",
       "seller_zip_code_prefix        0\n",
       "seller_city                   0\n",
       "seller_state                  0\n",
       "dtype: int64"
      ]
     },
     "execution_count": 63,
     "metadata": {},
     "output_type": "execute_result"
    }
   ],
   "source": [
    "data.isnull().sum()"
   ]
  },
  {
   "cell_type": "code",
   "execution_count": 67,
   "id": "2197954d-0c1b-4cfc-9d6b-088b5f6dac58",
   "metadata": {},
   "outputs": [
    {
     "data": {
      "text/plain": [
       "<AxesSubplot:xlabel='review_score', ylabel='count'>"
      ]
     },
     "execution_count": 67,
     "metadata": {},
     "output_type": "execute_result"
    },
    {
     "data": {
      "image/png": "[encoded data removed]",
      "text/plain": [
       "<Figure size 432x288 with 1 Axes>"
      ]
     },
     "metadata": {
      "needs_background": "light"
     },
     "output_type": "display_data"
    }
   ],
   "source": [
    "### Check review score distribution\n",
    "sns.countplot(x='review_score', data=data)"
   ]
  },
  {
   "cell_type": "code",
   "execution_count": 68,
   "id": "b77c17a8-5ff2-4812-bac6-42b6622fe39c",
   "metadata": {},
   "outputs": [
    {
     "data": {
      "text/plain": [
       "array([66085, 22224, 14813,  9818,  4073], dtype=int64)"
      ]
     },
     "execution_count": 68,
     "metadata": {},
     "output_type": "execute_result"
    }
   ],
   "source": [
    "review_score_values = data.review_score.value_counts().values\n",
    "review_score_values "
   ]
  },
  {
   "cell_type": "code",
   "execution_count": 69,
   "id": "e8bd8cb0-6341-4cac-94fc-47796fa13683",
   "metadata": {},
   "outputs": [
    {
     "data": {
      "text/plain": [
       "Int64Index([5, 4, 1, 3, 2], dtype='int64')"
      ]
     },
     "execution_count": 69,
     "metadata": {},
     "output_type": "execute_result"
    }
   ],
   "source": [
    "review_score_category = data.review_score.value_counts().index\n",
    "review_score_category"
   ]
  },
  {
   "cell_type": "code",
   "execution_count": 70,
   "id": "8688e6f9-ebe5-48b9-bb89-799e2f2735c4",
   "metadata": {},
   "outputs": [
    {
     "data": {
      "text/plain": [
       "([<matplotlib.patches.Wedge at 0x20005fa6630>,\n",
       "  <matplotlib.patches.Wedge at 0x20005fa6d30>,\n",
       "  <matplotlib.patches.Wedge at 0x20005fb84e0>,\n",
       "  <matplotlib.patches.Wedge at 0x20005fb8c50>,\n",
       "  <matplotlib.patches.Wedge at 0x20005fc6400>],\n",
       " [Text(-0.22227509419119273, 1.0773085827664683, '5'),\n",
       "  Text(-0.5909836965131887, -0.9277598129125918, '4'),\n",
       "  Text(0.4557520018163305, -1.0011444015927011, '1'),\n",
       "  Text(0.9745225640724422, -0.5102016974821556, '3'),\n",
       "  Text(1.0934296013728395, -0.12004876859690723, '2')],\n",
       " [Text(-0.12124096046792329, 0.5876228633271645, '56.48%'),\n",
       "  Text(-0.3223547435526483, -0.5060508070432318, '18.99%'),\n",
       "  Text(0.2485920009907257, -0.5460787645051096, '12.66%'),\n",
       "  Text(0.531557762221332, -0.27829183499026666, '8.39%'),\n",
       "  Text(0.5964161462033669, -0.06548114650740394, '3.48%')])"
      ]
     },
     "execution_count": 70,
     "metadata": {},
     "output_type": "execute_result"
    },
    {
     "data": {
      "image/png": "[encoded data removed]",
      "text/plain": [
       "<Figure size 432x288 with 1 Axes>"
      ]
     },
     "metadata": {},
     "output_type": "display_data"
    }
   ],
   "source": [
    "# Pie chart for top review score\n",
    "plt.pie(review_score_values , labels = review_score_category, autopct = '%1.2f%%')"
   ]
  },
  {
   "cell_type": "code",
   "execution_count": 71,
   "id": "82a35c32-a6b8-48f2-ba36-219efe59f9eb",
   "metadata": {},
   "outputs": [
    {
     "data": {
      "text/plain": [
       "27"
      ]
     },
     "execution_count": 71,
     "metadata": {},
     "output_type": "execute_result"
    }
   ],
   "source": [
    "len(data['customer_state'].unique())"
   ]
  },
  {
   "cell_type": "code",
   "execution_count": 72,
   "id": "0cac69ac-e466-4c34-b512-e269141032ff",
   "metadata": {},
   "outputs": [
    {
     "data": {
      "text/plain": [
       "SP    49510\n",
       "RJ    15207\n",
       "MG    13606\n",
       "RS     6511\n",
       "PR     5947\n",
       "SC     4283\n",
       "BA     4002\n",
       "GO     2407\n",
       "ES     2313\n",
       "DF     2286\n",
       "PE     1872\n",
       "CE     1535\n",
       "MT     1114\n",
       "PA     1099\n",
       "MS      854\n",
       "MA      839\n",
       "PB      627\n",
       "PI      565\n",
       "RN      564\n",
       "AL      458\n",
       "SE      394\n",
       "TO      337\n",
       "RO      283\n",
       "AM      170\n",
       "AC       95\n",
       "AP       83\n",
       "RR       52\n",
       "Name: customer_state, dtype: int64"
      ]
     },
     "execution_count": 72,
     "metadata": {},
     "output_type": "execute_result"
    }
   ],
   "source": [
    "data['customer_state'].value_counts()"
   ]
  },
  {
   "cell_type": "code",
   "execution_count": 73,
   "id": "1a50939d-f9bc-40a4-bce4-f340f117bb68",
   "metadata": {},
   "outputs": [
    {
     "data": {
      "text/plain": [
       "array([49510, 15207, 13606,  6511,  5947,  4283,  4002,  2407,  2313,\n",
       "        2286,  1872,  1535,  1114,  1099,   854,   839,   627,   565,\n",
       "         564,   458,   394,   337,   283,   170,    95,    83,    52],\n",
       "      dtype=int64)"
      ]
     },
     "execution_count": 73,
     "metadata": {},
     "output_type": "execute_result"
    }
   ],
   "source": [
    "customer_state_values = data.customer_state.value_counts().values\n",
    "customer_state_values"
   ]
  },
  {
   "cell_type": "code",
   "execution_count": 74,
   "id": "a4087e68-8e03-4e3b-94db-da8a92a8a834",
   "metadata": {},
   "outputs": [
    {
     "data": {
      "text/plain": [
       "Index(['SP', 'RJ', 'MG', 'RS', 'PR', 'SC', 'BA', 'GO', 'ES', 'DF', 'PE', 'CE',\n",
       "       'MT', 'PA', 'MS', 'MA', 'PB', 'PI', 'RN', 'AL', 'SE', 'TO', 'RO', 'AM',\n",
       "       'AC', 'AP', 'RR'],\n",
       "      dtype='object')"
      ]
     },
     "execution_count": 74,
     "metadata": {},
     "output_type": "execute_result"
    }
   ],
   "source": [
    "customer_state_cat = data.customer_state.value_counts().index\n",
    "customer_state_cat"
   ]
  },
  {
   "cell_type": "code",
   "execution_count": 75,
   "id": "d390e996-3c06-4f17-9c04-7063266e0af4",
   "metadata": {},
   "outputs": [
    {
     "data": {
      "text/plain": [
       "([<matplotlib.patches.Wedge at 0x20006009048>,\n",
       "  <matplotlib.patches.Wedge at 0x20006009828>,\n",
       "  <matplotlib.patches.Wedge at 0x20006009f28>,\n",
       "  <matplotlib.patches.Wedge at 0x20006016668>,\n",
       "  <matplotlib.patches.Wedge at 0x20006016d68>],\n",
       " [Text(-0.15628601553946206, 1.0888409807436525, 'SP'),\n",
       "  Text(-0.757348974950024, -0.7977609479926604, 'RJ'),\n",
       "  Text(0.2590075422205796, -1.0690720710377084, 'MG'),\n",
       "  Text(0.884318865411923, -0.6542019139964124, 'RS'),\n",
       "  Text(1.0767868119104553, -0.22478914941722103, 'PR')],\n",
       " [Text(-0.08524691756697929, 0.5939132622238104, '54.54%'),\n",
       "  Text(-0.4130994408818312, -0.4351423352687238, '16.75%'),\n",
       "  Text(0.14127684121122522, -0.5831302205660227, '14.99%'),\n",
       "  Text(0.48235574477013976, -0.35683740763440674, '7.17%'),\n",
       "  Text(0.5873382610420665, -0.12261226331848418, '6.55%')])"
      ]
     },
     "execution_count": 75,
     "metadata": {},
     "output_type": "execute_result"
    },
    {
     "data": {
      "image/png": "[encoded data removed]",
      "text/plain": [
       "<Figure size 432x288 with 1 Axes>"
      ]
     },
     "metadata": {},
     "output_type": "display_data"
    }
   ],
   "source": [
    "# Pie chart for top 5 state basis on the sales\n",
    "plt.pie(customer_state_values[:5], labels = customer_state_cat[:5], autopct = '%1.2f%%')"
   ]
  },
  {
   "cell_type": "code",
   "execution_count": 76,
   "id": "a7a493d8-1cd7-4227-a923-8871d30cfa57",
   "metadata": {},
   "outputs": [
    {
     "data": {
      "text/plain": [
       "4064"
      ]
     },
     "execution_count": 76,
     "metadata": {},
     "output_type": "execute_result"
    }
   ],
   "source": [
    "len(data['customer_city'].unique())"
   ]
  },
  {
   "cell_type": "code",
   "execution_count": 77,
   "id": "0687deb7-ccf6-4b9c-8293-ecc450863ee6",
   "metadata": {},
   "outputs": [
    {
     "data": {
      "text/plain": [
       "<AxesSubplot:xlabel='order_status', ylabel='count'>"
      ]
     },
     "execution_count": 77,
     "metadata": {},
     "output_type": "execute_result"
    },
    {
     "data": {
      "image/png": "[encoded data removed]",
      "text/plain": [
       "<Figure size 432x288 with 1 Axes>"
      ]
     },
     "metadata": {
      "needs_background": "light"
     },
     "output_type": "display_data"
    }
   ],
   "source": [
    "sns.countplot(x='order_status', data=data)"
   ]
  },
  {
   "cell_type": "code",
   "execution_count": 78,
   "id": "84b114e4-c9d4-4e3d-b4a0-fb8da221afd6",
   "metadata": {},
   "outputs": [
    {
     "data": {
      "text/plain": [
       "array([114557,   1160,    548,    369,    369,      7,      3],\n",
       "      dtype=int64)"
      ]
     },
     "execution_count": 78,
     "metadata": {},
     "output_type": "execute_result"
    }
   ],
   "source": [
    "order_status_values = data.order_status.value_counts().values\n",
    "order_status_values"
   ]
  },
  {
   "cell_type": "code",
   "execution_count": 79,
   "id": "0f5abe10-6f67-40f0-b03f-d8b2de8675a8",
   "metadata": {},
   "outputs": [
    {
     "data": {
      "text/plain": [
       "Index(['delivered', 'shipped', 'canceled', 'processing', 'invoiced',\n",
       "       'unavailable', 'approved'],\n",
       "      dtype='object')"
      ]
     },
     "execution_count": 79,
     "metadata": {},
     "output_type": "execute_result"
    }
   ],
   "source": [
    "order_status_categories = data.order_status.value_counts().index\n",
    "order_status_categories"
   ]
  },
  {
   "cell_type": "code",
   "execution_count": 80,
   "id": "70ef48ba-4aca-4488-b5e9-9d5bbe98dd2a",
   "metadata": {},
   "outputs": [
    {
     "data": {
      "text/plain": [
       "([<matplotlib.patches.Wedge at 0x200060e4e10>,\n",
       "  <matplotlib.patches.Wedge at 0x200060f4588>,\n",
       "  <matplotlib.patches.Wedge at 0x200060f4c88>,\n",
       "  <matplotlib.patches.Wedge at 0x200061013c8>,\n",
       "  <matplotlib.patches.Wedge at 0x20006101ac8>,\n",
       "  <matplotlib.patches.Wedge at 0x2000610f208>,\n",
       "  <matplotlib.patches.Wedge at 0x2000610f908>],\n",
       " [Text(-1.097609473669446, 0.07248064094006186, 'delivered'),\n",
       "  Text(1.0944236177926019, -0.11062072508238717, 'shipped'),\n",
       "  Text(1.0983440512824008, -0.06033527171201958, 'canceled'),\n",
       "  Text(1.099496489297436, -0.03327867218825492, 'processing'),\n",
       "  Text(1.099940008611898, -0.01148814409980484, 'invoiced'),\n",
       "  Text(1.0999999330015529, -0.0003839226218385064, 'unavailable'),\n",
       "  Text(1.0999999964324785, -8.859202668946819e-05, 'approved')],\n",
       " [Text(-0.5986960765469704, 0.03953489505821555, '97.90%'),\n",
       "  Text(0.5969583369777828, -0.060338577317665724, '0.99%'),\n",
       "  Text(0.5990967552449458, -0.03291014820655613, '0.47%'),\n",
       "  Text(0.5997253577986014, -0.01815200301177541, '0.32%'),\n",
       "  Text(0.5999672774246716, -0.006266260418075367, '0.32%'),\n",
       "  Text(0.5999999634553924, -0.00020941233918463981, '0.01%'),\n",
       "  Text(0.5999999980540791, -4.832292364880083e-05, '0.00%')])"
      ]
     },
     "execution_count": 80,
     "metadata": {},
     "output_type": "execute_result"
    },
    {
     "data": {
      "image/png": "[encoded data removed]",
      "text/plain": [
       "<Figure size 864x432 with 1 Axes>"
      ]
     },
     "metadata": {},
     "output_type": "display_data"
    }
   ],
   "source": [
    "# Pie chart for delivery performance status\n",
    "plt.figure(figsize=(12,6))\n",
    "plt.pie(order_status_values, labels=order_status_categories, autopct='%1.2f%%')"
   ]
  },
  {
   "cell_type": "code",
   "execution_count": 81,
   "id": "c6db72ea-ac8d-4b15-8edc-fd7d50c24691",
   "metadata": {},
   "outputs": [
    {
     "data": {
      "text/plain": [
       "Index(['review_score', 'order_status', 'payment_sequential', 'payment_type',\n",
       "       'payment_installments', 'payment_value', 'customer_zip_code_prefix',\n",
       "       'customer_city', 'customer_state', 'price', 'freight_value',\n",
       "       'product_category_name', 'product_name_length',\n",
       "       'product_description_length', 'product_photos_qty', 'product_weight_g',\n",
       "       'product_length_cm', 'product_height_cm', 'product_width_cm',\n",
       "       'seller_zip_code_prefix', 'seller_city', 'seller_state'],\n",
       "      dtype='object')"
      ]
     },
     "execution_count": 81,
     "metadata": {},
     "output_type": "execute_result"
    }
   ],
   "source": [
    "data.columns"
   ]
  },
  {
   "cell_type": "markdown",
   "id": "ce64c021-06c4-46a6-b03c-2754aa936df3",
   "metadata": {},
   "source": [
    "## Feature Engineering"
   ]
  },
  {
   "cell_type": "code",
   "execution_count": 64,
   "id": "06b8c52b-46e4-46b0-8e6a-e80cc8c3ceb0",
   "metadata": {},
   "outputs": [
    {
     "data": {
      "text/plain": [
       "array(['delivered', 'shipped', 'canceled', 'processing', 'invoiced',\n",
       "       'unavailable', 'approved'], dtype=object)"
      ]
     },
     "execution_count": 64,
     "metadata": {},
     "output_type": "execute_result"
    }
   ],
   "source": [
    "data['order_status'].unique()"
   ]
  },
  {
   "cell_type": "code",
   "execution_count": 65,
   "id": "e60ac77e-f0a0-4458-a1f1-b9d21efce7ab",
   "metadata": {},
   "outputs": [
    {
     "data": {
      "text/plain": [
       "<AxesSubplot:xlabel='order_status', ylabel='count'>"
      ]
     },
     "execution_count": 65,
     "metadata": {},
     "output_type": "execute_result"
    },
    {
     "data": {
      "image/png": "[encoded data removed]",
      "text/plain": [
       "<Figure size 432x288 with 1 Axes>"
      ]
     },
     "metadata": {
      "needs_background": "light"
     },
     "output_type": "display_data"
    }
   ],
   "source": [
    "sns.countplot(data=data, x='order_status')"
   ]
  },
  {
   "cell_type": "code",
   "execution_count": 66,
   "id": "870dec9f-b64c-4529-931d-98aeb8d229c5",
   "metadata": {},
   "outputs": [
    {
     "data": {
      "text/plain": [
       "(array([1.14557e+05, 1.16000e+03, 0.00000e+00, 5.48000e+02, 0.00000e+00,\n",
       "        3.69000e+02, 3.69000e+02, 0.00000e+00, 7.00000e+00, 3.00000e+00]),\n",
       " array([0. , 0.6, 1.2, 1.8, 2.4, 3. , 3.6, 4.2, 4.8, 5.4, 6. ]),\n",
       " <BarContainer object of 10 artists>)"
      ]
     },
     "execution_count": 66,
     "metadata": {},
     "output_type": "execute_result"
    },
    {
     "data": {
      "image/png": "[encoded data removed]",
      "text/plain": [
       "<Figure size 432x288 with 1 Axes>"
      ]
     },
     "metadata": {
      "needs_background": "light"
     },
     "output_type": "display_data"
    }
   ],
   "source": [
    "plt.hist(data['order_status'])"
   ]
  },
  {
   "cell_type": "code",
   "execution_count": 67,
   "id": "fc823980-5b3d-4c8f-9e18-4f7636e7b442",
   "metadata": {},
   "outputs": [
    {
     "data": {
      "text/plain": [
       "<AxesSubplot:xlabel='price'>"
      ]
     },
     "execution_count": 67,
     "metadata": {},
     "output_type": "execute_result"
    },
    {
     "data": {
      "image/png": "[encoded data removed]",
      "text/plain": [
       "<Figure size 576x360 with 1 Axes>"
      ]
     },
     "metadata": {
      "needs_background": "light"
     },
     "output_type": "display_data"
    }
   ],
   "source": [
    "plt.figure(figsize=(8,5))\n",
    "sns.boxplot(data['price'])"
   ]
  },
  {
   "cell_type": "code",
   "execution_count": 68,
   "id": "0a7ae559-ca37-486e-9355-b401fb9ff5c8",
   "metadata": {},
   "outputs": [
    {
     "data": {
      "text/plain": [
       "<AxesSubplot:xlabel='review_score', ylabel='price'>"
      ]
     },
     "execution_count": 68,
     "metadata": {},
     "output_type": "execute_result"
    },
    {
     "data": {
      "image/png": "[encoded data removed]",
      "text/plain": [
       "<Figure size 576x360 with 1 Axes>"
      ]
     },
     "metadata": {
      "needs_background": "light"
     },
     "output_type": "display_data"
    }
   ],
   "source": [
    "plt.figure(figsize=(8,5))\n",
    "sns.boxplot(x='review_score', y='price', data=data)"
   ]
  },
  {
   "cell_type": "code",
   "execution_count": 69,
   "id": "6b5f971f-3f00-4ee7-9d6e-c4be12425b7a",
   "metadata": {},
   "outputs": [
    {
     "data": {
      "text/plain": [
       "(117013, 22)"
      ]
     },
     "execution_count": 69,
     "metadata": {},
     "output_type": "execute_result"
    }
   ],
   "source": [
    "data.shape"
   ]
  },
  {
   "cell_type": "code",
   "execution_count": 70,
   "id": "716bc6e0-c247-430d-8278-719576d52b40",
   "metadata": {},
   "outputs": [
    {
     "data": {
      "text/plain": [
       "Index(['review_score', 'order_status', 'payment_sequential', 'payment_type',\n",
       "       'payment_installments', 'payment_value', 'customer_zip_code_prefix',\n",
       "       'customer_city', 'customer_state', 'price', 'freight_value',\n",
       "       'product_category_name', 'product_name_length',\n",
       "       'product_description_length', 'product_photos_qty', 'product_weight_g',\n",
       "       'product_length_cm', 'product_height_cm', 'product_width_cm',\n",
       "       'seller_zip_code_prefix', 'seller_city', 'seller_state'],\n",
       "      dtype='object')"
      ]
     },
     "execution_count": 70,
     "metadata": {},
     "output_type": "execute_result"
    }
   ],
   "source": [
    "data.columns"
   ]
  },
  {
   "cell_type": "code",
   "execution_count": 71,
   "id": "93f95ed6-1b35-4b8c-88c3-13987e98f4c2",
   "metadata": {},
   "outputs": [
    {
     "data": {
      "text/plain": [
       "array(['delivered', 'shipped', 'canceled', 'processing', 'invoiced',\n",
       "       'unavailable', 'approved'], dtype=object)"
      ]
     },
     "execution_count": 71,
     "metadata": {},
     "output_type": "execute_result"
    }
   ],
   "source": [
    "data['order_status'].unique()"
   ]
  },
  {
   "cell_type": "code",
   "execution_count": 72,
   "id": "6c0ab082-ae4a-43e0-9181-b30a771c492e",
   "metadata": {},
   "outputs": [
    {
     "data": {
      "text/plain": [
       "array(['credit_card', 'debit_card', 'voucher', 'boleto'], dtype=object)"
      ]
     },
     "execution_count": 72,
     "metadata": {},
     "output_type": "execute_result"
    }
   ],
   "source": [
    "data['payment_type'].unique()"
   ]
  },
  {
   "cell_type": "code",
   "execution_count": 64,
   "id": "2be1bacc-7a5b-4420-b37f-3932dcd61d91",
   "metadata": {},
   "outputs": [],
   "source": [
    "data.to_csv('C:\\\\Users\\\\rahul.goyal\\\\Desktop\\\\Data Science\\\\Machine Learning/Projects/clean_ecomm.csv')"
   ]
  },
  {
   "cell_type": "code",
   "execution_count": null,
   "id": "682569a8-b785-4c6a-9772-4a2025b3531a",
   "metadata": {},
   "outputs": [],
   "source": []
  },
  {
   "cell_type": "code",
   "execution_count": null,
   "id": "b1833fe5-e650-4c99-bc34-b02a04f1fcd0",
   "metadata": {},
   "outputs": [],
   "source": []
  },
  {
   "cell_type": "markdown",
   "id": "ff796238-4551-440d-b8b3-be3e4f3f5fc4",
   "metadata": {},
   "source": [
    "# Categorical data"
   ]
  },
  {
   "cell_type": "code",
   "execution_count": 73,
   "id": "7f6b6cbd-2333-4cae-8dc0-97b3ec37407a",
   "metadata": {},
   "outputs": [
    {
     "data": {
      "text/plain": [
       "['order_status',\n",
       " 'payment_type',\n",
       " 'customer_city',\n",
       " 'customer_state',\n",
       " 'product_category_name',\n",
       " 'seller_city',\n",
       " 'seller_state']"
      ]
     },
     "execution_count": 73,
     "metadata": {},
     "output_type": "execute_result"
    }
   ],
   "source": [
    "cat_features = [features for features in data.columns if data[features].dtype=='O']\n",
    "cat_features"
   ]
  },
  {
   "cell_type": "code",
   "execution_count": 74,
   "id": "88c789bf-20da-4731-95e1-fb979aedc85b",
   "metadata": {},
   "outputs": [
    {
     "name": "stdout",
     "output_type": "stream",
     "text": [
      "The column is order_status and the number of categories are 7\n",
      "The column is payment_type and the number of categories are 4\n",
      "The column is customer_city and the number of categories are 4064\n",
      "The column is customer_state and the number of categories are 27\n",
      "The column is product_category_name and the number of categories are 74\n",
      "The column is seller_city and the number of categories are 611\n",
      "The column is seller_state and the number of categories are 23\n"
     ]
    }
   ],
   "source": [
    "for features in cat_features:\n",
    "    print('The column is {} and the number of categories are {}'.format(features, len(data[features].unique())))"
   ]
  },
  {
   "cell_type": "code",
   "execution_count": 75,
   "id": "fe3b850a-5346-4fd9-b67f-44f390d2cef5",
   "metadata": {},
   "outputs": [],
   "source": [
    "from sklearn.preprocessing import LabelEncoder"
   ]
  },
  {
   "cell_type": "code",
   "execution_count": 76,
   "id": "ace60774-5162-489a-ba16-a59bdf9c81e0",
   "metadata": {},
   "outputs": [],
   "source": [
    "order_status=LabelEncoder()\n",
    "payment_type=LabelEncoder()\n",
    "customer_city=LabelEncoder()\n",
    "customer_state=LabelEncoder()\n",
    "product_category_name=LabelEncoder()\n",
    "seller_city=LabelEncoder()\n",
    "sellet_state=LabelEncoder()"
   ]
  },
  {
   "cell_type": "code",
   "execution_count": 77,
   "id": "09fe9d50-ab64-43ca-b9e5-63f7a6da3445",
   "metadata": {},
   "outputs": [],
   "source": [
    "data['order_status'] = order_status.fit_transform(data['order_status'])\n",
    "data['payment_type'] = payment_type.fit_transform(data['payment_type'])\n",
    "data['customer_city'] = customer_city.fit_transform(data['customer_city'])\n",
    "data['customer_state'] = customer_state.fit_transform(data['customer_state'])\n",
    "data['product_category_name'] = product_category_name.fit_transform(data['product_category_name'])\n",
    "data['seller_city'] = seller_city.fit_transform(data['seller_city'])\n",
    "data['seller_state'] = sellet_state.fit_transform(data['seller_state'])"
   ]
  },
  {
   "cell_type": "code",
   "execution_count": 78,
   "id": "e67427b5-7e6e-44c7-8dea-9740483afacb",
   "metadata": {},
   "outputs": [],
   "source": [
    "di = {1:1, 2:2, 3:3, 4:4, 5:5}\n",
    "data['review_score']=data['review_score'].map(di)"
   ]
  },
  {
   "cell_type": "code",
   "execution_count": 79,
   "id": "85cb61ee-f93d-480a-a62d-7b654ba9a1be",
   "metadata": {},
   "outputs": [
    {
     "data": {
      "text/html": [
       "<div>\n",
       "<style scoped>\n",
       "    .dataframe tbody tr th:only-of-type {\n",
       "        vertical-align: middle;\n",
       "    }\n",
       "\n",
       "    .dataframe tbody tr th {\n",
       "        vertical-align: top;\n",
       "    }\n",
       "\n",
       "    .dataframe thead th {\n",
       "        text-align: right;\n",
       "    }\n",
       "</style>\n",
       "<table border=\"1\" class=\"dataframe\">\n",
       "  <thead>\n",
       "    <tr style=\"text-align: right;\">\n",
       "      <th></th>\n",
       "      <th>review_score</th>\n",
       "      <th>order_status</th>\n",
       "      <th>payment_sequential</th>\n",
       "      <th>payment_type</th>\n",
       "      <th>payment_installments</th>\n",
       "      <th>payment_value</th>\n",
       "      <th>customer_zip_code_prefix</th>\n",
       "      <th>customer_city</th>\n",
       "      <th>customer_state</th>\n",
       "      <th>price</th>\n",
       "      <th>...</th>\n",
       "      <th>product_name_length</th>\n",
       "      <th>product_description_length</th>\n",
       "      <th>product_photos_qty</th>\n",
       "      <th>product_weight_g</th>\n",
       "      <th>product_length_cm</th>\n",
       "      <th>product_height_cm</th>\n",
       "      <th>product_width_cm</th>\n",
       "      <th>seller_zip_code_prefix</th>\n",
       "      <th>seller_city</th>\n",
       "      <th>seller_state</th>\n",
       "    </tr>\n",
       "  </thead>\n",
       "  <tbody>\n",
       "    <tr>\n",
       "      <th>0</th>\n",
       "      <td>4</td>\n",
       "      <td>2</td>\n",
       "      <td>1</td>\n",
       "      <td>1</td>\n",
       "      <td>8</td>\n",
       "      <td>397.26</td>\n",
       "      <td>6030</td>\n",
       "      <td>2559</td>\n",
       "      <td>25</td>\n",
       "      <td>185.0</td>\n",
       "      <td>...</td>\n",
       "      <td>42.0</td>\n",
       "      <td>858.0</td>\n",
       "      <td>1.0</td>\n",
       "      <td>1300.0</td>\n",
       "      <td>30.0</td>\n",
       "      <td>30.0</td>\n",
       "      <td>35.0</td>\n",
       "      <td>14600</td>\n",
       "      <td>503</td>\n",
       "      <td>22</td>\n",
       "    </tr>\n",
       "    <tr>\n",
       "      <th>1</th>\n",
       "      <td>4</td>\n",
       "      <td>2</td>\n",
       "      <td>1</td>\n",
       "      <td>1</td>\n",
       "      <td>8</td>\n",
       "      <td>397.26</td>\n",
       "      <td>6030</td>\n",
       "      <td>2559</td>\n",
       "      <td>25</td>\n",
       "      <td>185.0</td>\n",
       "      <td>...</td>\n",
       "      <td>42.0</td>\n",
       "      <td>858.0</td>\n",
       "      <td>1.0</td>\n",
       "      <td>1300.0</td>\n",
       "      <td>30.0</td>\n",
       "      <td>30.0</td>\n",
       "      <td>35.0</td>\n",
       "      <td>14600</td>\n",
       "      <td>503</td>\n",
       "      <td>22</td>\n",
       "    </tr>\n",
       "    <tr>\n",
       "      <th>2</th>\n",
       "      <td>4</td>\n",
       "      <td>2</td>\n",
       "      <td>1</td>\n",
       "      <td>1</td>\n",
       "      <td>2</td>\n",
       "      <td>26.17</td>\n",
       "      <td>6030</td>\n",
       "      <td>2559</td>\n",
       "      <td>25</td>\n",
       "      <td>17.9</td>\n",
       "      <td>...</td>\n",
       "      <td>53.0</td>\n",
       "      <td>476.0</td>\n",
       "      <td>3.0</td>\n",
       "      <td>250.0</td>\n",
       "      <td>17.0</td>\n",
       "      <td>6.0</td>\n",
       "      <td>12.0</td>\n",
       "      <td>13324</td>\n",
       "      <td>466</td>\n",
       "      <td>22</td>\n",
       "    </tr>\n",
       "    <tr>\n",
       "      <th>3</th>\n",
       "      <td>3</td>\n",
       "      <td>2</td>\n",
       "      <td>1</td>\n",
       "      <td>1</td>\n",
       "      <td>1</td>\n",
       "      <td>16.39</td>\n",
       "      <td>6030</td>\n",
       "      <td>2559</td>\n",
       "      <td>25</td>\n",
       "      <td>9.0</td>\n",
       "      <td>...</td>\n",
       "      <td>32.0</td>\n",
       "      <td>376.0</td>\n",
       "      <td>1.0</td>\n",
       "      <td>200.0</td>\n",
       "      <td>25.0</td>\n",
       "      <td>7.0</td>\n",
       "      <td>16.0</td>\n",
       "      <td>1212</td>\n",
       "      <td>517</td>\n",
       "      <td>22</td>\n",
       "    </tr>\n",
       "    <tr>\n",
       "      <th>4</th>\n",
       "      <td>5</td>\n",
       "      <td>2</td>\n",
       "      <td>1</td>\n",
       "      <td>2</td>\n",
       "      <td>1</td>\n",
       "      <td>70.89</td>\n",
       "      <td>6030</td>\n",
       "      <td>2559</td>\n",
       "      <td>25</td>\n",
       "      <td>49.9</td>\n",
       "      <td>...</td>\n",
       "      <td>57.0</td>\n",
       "      <td>366.0</td>\n",
       "      <td>2.0</td>\n",
       "      <td>1650.0</td>\n",
       "      <td>30.0</td>\n",
       "      <td>22.0</td>\n",
       "      <td>30.0</td>\n",
       "      <td>15025</td>\n",
       "      <td>507</td>\n",
       "      <td>22</td>\n",
       "    </tr>\n",
       "  </tbody>\n",
       "</table>\n",
       "<p>5 rows × 22 columns</p>\n",
       "</div>"
      ],
      "text/plain": [
       "   review_score  order_status  payment_sequential  payment_type  \\\n",
       "0             4             2                   1             1   \n",
       "1             4             2                   1             1   \n",
       "2             4             2                   1             1   \n",
       "3             3             2                   1             1   \n",
       "4             5             2                   1             2   \n",
       "\n",
       "   payment_installments  payment_value  customer_zip_code_prefix  \\\n",
       "0                     8         397.26                      6030   \n",
       "1                     8         397.26                      6030   \n",
       "2                     2          26.17                      6030   \n",
       "3                     1          16.39                      6030   \n",
       "4                     1          70.89                      6030   \n",
       "\n",
       "   customer_city  customer_state  price  ...  product_name_length  \\\n",
       "0           2559              25  185.0  ...                 42.0   \n",
       "1           2559              25  185.0  ...                 42.0   \n",
       "2           2559              25   17.9  ...                 53.0   \n",
       "3           2559              25    9.0  ...                 32.0   \n",
       "4           2559              25   49.9  ...                 57.0   \n",
       "\n",
       "   product_description_length  product_photos_qty  product_weight_g  \\\n",
       "0                       858.0                 1.0            1300.0   \n",
       "1                       858.0                 1.0            1300.0   \n",
       "2                       476.0                 3.0             250.0   \n",
       "3                       376.0                 1.0             200.0   \n",
       "4                       366.0                 2.0            1650.0   \n",
       "\n",
       "   product_length_cm  product_height_cm  product_width_cm  \\\n",
       "0               30.0               30.0              35.0   \n",
       "1               30.0               30.0              35.0   \n",
       "2               17.0                6.0              12.0   \n",
       "3               25.0                7.0              16.0   \n",
       "4               30.0               22.0              30.0   \n",
       "\n",
       "   seller_zip_code_prefix  seller_city  seller_state  \n",
       "0                   14600          503            22  \n",
       "1                   14600          503            22  \n",
       "2                   13324          466            22  \n",
       "3                    1212          517            22  \n",
       "4                   15025          507            22  \n",
       "\n",
       "[5 rows x 22 columns]"
      ]
     },
     "execution_count": 79,
     "metadata": {},
     "output_type": "execute_result"
    }
   ],
   "source": [
    "data.head()"
   ]
  },
  {
   "cell_type": "code",
   "execution_count": 80,
   "id": "368f3d60-73f3-492e-a30f-e943a0da6087",
   "metadata": {},
   "outputs": [
    {
     "data": {
      "text/plain": [
       "Index(['review_score', 'order_status', 'payment_sequential', 'payment_type',\n",
       "       'payment_installments', 'payment_value', 'customer_zip_code_prefix',\n",
       "       'customer_city', 'customer_state', 'price', 'freight_value',\n",
       "       'product_category_name', 'product_name_length',\n",
       "       'product_description_length', 'product_photos_qty', 'product_weight_g',\n",
       "       'product_length_cm', 'product_height_cm', 'product_width_cm',\n",
       "       'seller_zip_code_prefix', 'seller_city', 'seller_state'],\n",
       "      dtype='object')"
      ]
     },
     "execution_count": 80,
     "metadata": {},
     "output_type": "execute_result"
    }
   ],
   "source": [
    "data.columns"
   ]
  },
  {
   "cell_type": "code",
   "execution_count": 81,
   "id": "986dfe0e-f9bc-46a9-b986-c65826271359",
   "metadata": {},
   "outputs": [
    {
     "data": {
      "text/plain": [
       "(117013, 22)"
      ]
     },
     "execution_count": 81,
     "metadata": {},
     "output_type": "execute_result"
    }
   ],
   "source": [
    "data.shape"
   ]
  },
  {
   "cell_type": "code",
   "execution_count": 100,
   "id": "2306817f-d6bd-4869-9981-94dbb83a5aa8",
   "metadata": {},
   "outputs": [
    {
     "data": {
      "image/png": "[encoded data removed]",
      "text/plain": [
       "<Figure size 1296x1296 with 2 Axes>"
      ]
     },
     "metadata": {
      "needs_background": "light"
     },
     "output_type": "display_data"
    }
   ],
   "source": [
    "# Finds correlation between Independent and dependent attributes\n",
    "\n",
    "plt.figure(figsize=(18,18))\n",
    "sns.heatmap(data.corr(), annot=True, cmap='RdYlGn')\n",
    "plt.show()"
   ]
  },
  {
   "cell_type": "code",
   "execution_count": null,
   "id": "606f6ac4-5e1d-4604-95f2-fa102953e540",
   "metadata": {},
   "outputs": [],
   "source": [
    "### Bassed on correlation following columns will be dropped\n",
    "1. Payment_value\n",
    "2. Product_height_cm\n",
    "3. Product_width_cm\n",
    "4. Product_weight_g\n",
    "5. Payment_installments\n",
    "6. seller_state"
   ]
  },
  {
   "cell_type": "code",
   "execution_count": 82,
   "id": "9efb3bcb-033e-4793-9d0a-15ba1608786a",
   "metadata": {},
   "outputs": [
    {
     "data": {
      "text/plain": [
       "Index(['review_score', 'order_status', 'payment_sequential', 'payment_type',\n",
       "       'payment_installments', 'payment_value', 'customer_zip_code_prefix',\n",
       "       'customer_city', 'customer_state', 'price', 'freight_value',\n",
       "       'product_category_name', 'product_name_length',\n",
       "       'product_description_length', 'product_photos_qty', 'product_weight_g',\n",
       "       'product_length_cm', 'product_height_cm', 'product_width_cm',\n",
       "       'seller_zip_code_prefix', 'seller_city', 'seller_state'],\n",
       "      dtype='object')"
      ]
     },
     "execution_count": 82,
     "metadata": {},
     "output_type": "execute_result"
    }
   ],
   "source": [
    "data.columns"
   ]
  },
  {
   "cell_type": "code",
   "execution_count": 83,
   "id": "576e8e81-6e6a-4241-9c5a-94c26dca07e1",
   "metadata": {},
   "outputs": [],
   "source": [
    "columns = ['product_name_length', 'product_description_length', 'product_weight_g', 'product_length_cm', 'product_height_cm',\n",
    "          'product_width_cm', 'seller_zip_code_prefix', 'customer_zip_code_prefix']"
   ]
  },
  {
   "cell_type": "code",
   "execution_count": 84,
   "id": "71b6c3b2-99f2-46ee-9d20-22c909c6f694",
   "metadata": {},
   "outputs": [],
   "source": [
    "data = data.drop(columns, axis=1)"
   ]
  },
  {
   "cell_type": "code",
   "execution_count": 85,
   "id": "6c3b7fc2-f8b5-4ac3-b090-7b90457da41c",
   "metadata": {},
   "outputs": [
    {
     "data": {
      "text/plain": [
       "(117013, 14)"
      ]
     },
     "execution_count": 85,
     "metadata": {},
     "output_type": "execute_result"
    }
   ],
   "source": [
    "data.shape"
   ]
  },
  {
   "cell_type": "code",
   "execution_count": 86,
   "id": "64e47eb1-59b4-4dbe-b413-f4215a7a08d1",
   "metadata": {},
   "outputs": [
    {
     "data": {
      "text/plain": [
       "(117013, 14)"
      ]
     },
     "execution_count": 86,
     "metadata": {},
     "output_type": "execute_result"
    }
   ],
   "source": [
    "data.shape"
   ]
  },
  {
   "cell_type": "code",
   "execution_count": 109,
   "id": "281847d3-6cc8-4808-9ed3-ef58ff46e264",
   "metadata": {},
   "outputs": [],
   "source": [
    "data.to_csv('C:\\\\Users\\\\rahul.goyal\\\\Desktop\\\\Data Science\\\\Machine Learning/Projects/final.csv')"
   ]
  },
  {
   "cell_type": "code",
   "execution_count": 110,
   "id": "fbe0c8db-7c61-4d52-8cad-b2d3e96cab2a",
   "metadata": {},
   "outputs": [
    {
     "data": {
      "text/html": [
       "<div>\n",
       "<style scoped>\n",
       "    .dataframe tbody tr th:only-of-type {\n",
       "        vertical-align: middle;\n",
       "    }\n",
       "\n",
       "    .dataframe tbody tr th {\n",
       "        vertical-align: top;\n",
       "    }\n",
       "\n",
       "    .dataframe thead th {\n",
       "        text-align: right;\n",
       "    }\n",
       "</style>\n",
       "<table border=\"1\" class=\"dataframe\">\n",
       "  <thead>\n",
       "    <tr style=\"text-align: right;\">\n",
       "      <th></th>\n",
       "      <th>Unnamed: 0</th>\n",
       "      <th>review_score</th>\n",
       "      <th>order_status</th>\n",
       "      <th>payment_sequential</th>\n",
       "      <th>payment_type</th>\n",
       "      <th>payment_installments</th>\n",
       "      <th>payment_value</th>\n",
       "      <th>customer_city</th>\n",
       "      <th>customer_state</th>\n",
       "      <th>price</th>\n",
       "      <th>freight_value</th>\n",
       "      <th>product_category_name</th>\n",
       "      <th>product_photos_qty</th>\n",
       "      <th>seller_city</th>\n",
       "      <th>seller_state</th>\n",
       "    </tr>\n",
       "  </thead>\n",
       "  <tbody>\n",
       "    <tr>\n",
       "      <th>0</th>\n",
       "      <td>0</td>\n",
       "      <td>4</td>\n",
       "      <td>2</td>\n",
       "      <td>1</td>\n",
       "      <td>1</td>\n",
       "      <td>8</td>\n",
       "      <td>397.26</td>\n",
       "      <td>2559</td>\n",
       "      <td>25</td>\n",
       "      <td>185.0</td>\n",
       "      <td>13.63</td>\n",
       "      <td>32</td>\n",
       "      <td>1.0</td>\n",
       "      <td>503</td>\n",
       "      <td>22</td>\n",
       "    </tr>\n",
       "    <tr>\n",
       "      <th>1</th>\n",
       "      <td>1</td>\n",
       "      <td>4</td>\n",
       "      <td>2</td>\n",
       "      <td>1</td>\n",
       "      <td>1</td>\n",
       "      <td>8</td>\n",
       "      <td>397.26</td>\n",
       "      <td>2559</td>\n",
       "      <td>25</td>\n",
       "      <td>185.0</td>\n",
       "      <td>13.63</td>\n",
       "      <td>32</td>\n",
       "      <td>1.0</td>\n",
       "      <td>503</td>\n",
       "      <td>22</td>\n",
       "    </tr>\n",
       "    <tr>\n",
       "      <th>2</th>\n",
       "      <td>2</td>\n",
       "      <td>4</td>\n",
       "      <td>2</td>\n",
       "      <td>1</td>\n",
       "      <td>1</td>\n",
       "      <td>2</td>\n",
       "      <td>26.17</td>\n",
       "      <td>2559</td>\n",
       "      <td>25</td>\n",
       "      <td>17.9</td>\n",
       "      <td>8.27</td>\n",
       "      <td>73</td>\n",
       "      <td>3.0</td>\n",
       "      <td>466</td>\n",
       "      <td>22</td>\n",
       "    </tr>\n",
       "    <tr>\n",
       "      <th>3</th>\n",
       "      <td>3</td>\n",
       "      <td>3</td>\n",
       "      <td>2</td>\n",
       "      <td>1</td>\n",
       "      <td>1</td>\n",
       "      <td>1</td>\n",
       "      <td>16.39</td>\n",
       "      <td>2559</td>\n",
       "      <td>25</td>\n",
       "      <td>9.0</td>\n",
       "      <td>7.39</td>\n",
       "      <td>30</td>\n",
       "      <td>1.0</td>\n",
       "      <td>517</td>\n",
       "      <td>22</td>\n",
       "    </tr>\n",
       "    <tr>\n",
       "      <th>4</th>\n",
       "      <td>4</td>\n",
       "      <td>5</td>\n",
       "      <td>2</td>\n",
       "      <td>1</td>\n",
       "      <td>2</td>\n",
       "      <td>1</td>\n",
       "      <td>70.89</td>\n",
       "      <td>2559</td>\n",
       "      <td>25</td>\n",
       "      <td>49.9</td>\n",
       "      <td>20.99</td>\n",
       "      <td>40</td>\n",
       "      <td>2.0</td>\n",
       "      <td>507</td>\n",
       "      <td>22</td>\n",
       "    </tr>\n",
       "  </tbody>\n",
       "</table>\n",
       "</div>"
      ],
      "text/plain": [
       "   Unnamed: 0  review_score  order_status  payment_sequential  payment_type  \\\n",
       "0           0             4             2                   1             1   \n",
       "1           1             4             2                   1             1   \n",
       "2           2             4             2                   1             1   \n",
       "3           3             3             2                   1             1   \n",
       "4           4             5             2                   1             2   \n",
       "\n",
       "   payment_installments  payment_value  customer_city  customer_state  price  \\\n",
       "0                     8         397.26           2559              25  185.0   \n",
       "1                     8         397.26           2559              25  185.0   \n",
       "2                     2          26.17           2559              25   17.9   \n",
       "3                     1          16.39           2559              25    9.0   \n",
       "4                     1          70.89           2559              25   49.9   \n",
       "\n",
       "   freight_value  product_category_name  product_photos_qty  seller_city  \\\n",
       "0          13.63                     32                 1.0          503   \n",
       "1          13.63                     32                 1.0          503   \n",
       "2           8.27                     73                 3.0          466   \n",
       "3           7.39                     30                 1.0          517   \n",
       "4          20.99                     40                 2.0          507   \n",
       "\n",
       "   seller_state  \n",
       "0            22  \n",
       "1            22  \n",
       "2            22  \n",
       "3            22  \n",
       "4            22  "
      ]
     },
     "execution_count": 110,
     "metadata": {},
     "output_type": "execute_result"
    }
   ],
   "source": [
    "df = pd.read_csv('final.csv')\n",
    "df.head()"
   ]
  },
  {
   "cell_type": "code",
   "execution_count": 111,
   "id": "384b42cc-5889-4106-8bc8-c7e6f5a942be",
   "metadata": {},
   "outputs": [],
   "source": [
    "df.drop(['Unnamed: 0'], axis=1,inplace = True)"
   ]
  },
  {
   "cell_type": "code",
   "execution_count": 112,
   "id": "0d453de3-87ad-4a39-98c0-4d11719c4e15",
   "metadata": {},
   "outputs": [
    {
     "data": {
      "text/html": [
       "<div>\n",
       "<style scoped>\n",
       "    .dataframe tbody tr th:only-of-type {\n",
       "        vertical-align: middle;\n",
       "    }\n",
       "\n",
       "    .dataframe tbody tr th {\n",
       "        vertical-align: top;\n",
       "    }\n",
       "\n",
       "    .dataframe thead th {\n",
       "        text-align: right;\n",
       "    }\n",
       "</style>\n",
       "<table border=\"1\" class=\"dataframe\">\n",
       "  <thead>\n",
       "    <tr style=\"text-align: right;\">\n",
       "      <th></th>\n",
       "      <th>review_score</th>\n",
       "      <th>order_status</th>\n",
       "      <th>payment_sequential</th>\n",
       "      <th>payment_type</th>\n",
       "      <th>payment_installments</th>\n",
       "      <th>payment_value</th>\n",
       "      <th>customer_city</th>\n",
       "      <th>customer_state</th>\n",
       "      <th>price</th>\n",
       "      <th>freight_value</th>\n",
       "      <th>product_category_name</th>\n",
       "      <th>product_photos_qty</th>\n",
       "      <th>seller_city</th>\n",
       "      <th>seller_state</th>\n",
       "    </tr>\n",
       "  </thead>\n",
       "  <tbody>\n",
       "    <tr>\n",
       "      <th>0</th>\n",
       "      <td>4</td>\n",
       "      <td>2</td>\n",
       "      <td>1</td>\n",
       "      <td>1</td>\n",
       "      <td>8</td>\n",
       "      <td>397.26</td>\n",
       "      <td>2559</td>\n",
       "      <td>25</td>\n",
       "      <td>185.0</td>\n",
       "      <td>13.63</td>\n",
       "      <td>32</td>\n",
       "      <td>1.0</td>\n",
       "      <td>503</td>\n",
       "      <td>22</td>\n",
       "    </tr>\n",
       "    <tr>\n",
       "      <th>1</th>\n",
       "      <td>4</td>\n",
       "      <td>2</td>\n",
       "      <td>1</td>\n",
       "      <td>1</td>\n",
       "      <td>8</td>\n",
       "      <td>397.26</td>\n",
       "      <td>2559</td>\n",
       "      <td>25</td>\n",
       "      <td>185.0</td>\n",
       "      <td>13.63</td>\n",
       "      <td>32</td>\n",
       "      <td>1.0</td>\n",
       "      <td>503</td>\n",
       "      <td>22</td>\n",
       "    </tr>\n",
       "    <tr>\n",
       "      <th>2</th>\n",
       "      <td>4</td>\n",
       "      <td>2</td>\n",
       "      <td>1</td>\n",
       "      <td>1</td>\n",
       "      <td>2</td>\n",
       "      <td>26.17</td>\n",
       "      <td>2559</td>\n",
       "      <td>25</td>\n",
       "      <td>17.9</td>\n",
       "      <td>8.27</td>\n",
       "      <td>73</td>\n",
       "      <td>3.0</td>\n",
       "      <td>466</td>\n",
       "      <td>22</td>\n",
       "    </tr>\n",
       "    <tr>\n",
       "      <th>3</th>\n",
       "      <td>3</td>\n",
       "      <td>2</td>\n",
       "      <td>1</td>\n",
       "      <td>1</td>\n",
       "      <td>1</td>\n",
       "      <td>16.39</td>\n",
       "      <td>2559</td>\n",
       "      <td>25</td>\n",
       "      <td>9.0</td>\n",
       "      <td>7.39</td>\n",
       "      <td>30</td>\n",
       "      <td>1.0</td>\n",
       "      <td>517</td>\n",
       "      <td>22</td>\n",
       "    </tr>\n",
       "    <tr>\n",
       "      <th>4</th>\n",
       "      <td>5</td>\n",
       "      <td>2</td>\n",
       "      <td>1</td>\n",
       "      <td>2</td>\n",
       "      <td>1</td>\n",
       "      <td>70.89</td>\n",
       "      <td>2559</td>\n",
       "      <td>25</td>\n",
       "      <td>49.9</td>\n",
       "      <td>20.99</td>\n",
       "      <td>40</td>\n",
       "      <td>2.0</td>\n",
       "      <td>507</td>\n",
       "      <td>22</td>\n",
       "    </tr>\n",
       "  </tbody>\n",
       "</table>\n",
       "</div>"
      ],
      "text/plain": [
       "   review_score  order_status  payment_sequential  payment_type  \\\n",
       "0             4             2                   1             1   \n",
       "1             4             2                   1             1   \n",
       "2             4             2                   1             1   \n",
       "3             3             2                   1             1   \n",
       "4             5             2                   1             2   \n",
       "\n",
       "   payment_installments  payment_value  customer_city  customer_state  price  \\\n",
       "0                     8         397.26           2559              25  185.0   \n",
       "1                     8         397.26           2559              25  185.0   \n",
       "2                     2          26.17           2559              25   17.9   \n",
       "3                     1          16.39           2559              25    9.0   \n",
       "4                     1          70.89           2559              25   49.9   \n",
       "\n",
       "   freight_value  product_category_name  product_photos_qty  seller_city  \\\n",
       "0          13.63                     32                 1.0          503   \n",
       "1          13.63                     32                 1.0          503   \n",
       "2           8.27                     73                 3.0          466   \n",
       "3           7.39                     30                 1.0          517   \n",
       "4          20.99                     40                 2.0          507   \n",
       "\n",
       "   seller_state  \n",
       "0            22  \n",
       "1            22  \n",
       "2            22  \n",
       "3            22  \n",
       "4            22  "
      ]
     },
     "execution_count": 112,
     "metadata": {},
     "output_type": "execute_result"
    }
   ],
   "source": [
    "df.head()"
   ]
  },
  {
   "cell_type": "code",
   "execution_count": 113,
   "id": "1cdc3dc5-f08d-4418-90b0-b09e272199a0",
   "metadata": {},
   "outputs": [],
   "source": [
    "df = data.copy()"
   ]
  },
  {
   "cell_type": "code",
   "execution_count": 114,
   "id": "9021336e-4ed3-47aa-8837-39708ade5a0b",
   "metadata": {},
   "outputs": [
    {
     "data": {
      "text/plain": [
       "(117013, 14)"
      ]
     },
     "execution_count": 114,
     "metadata": {},
     "output_type": "execute_result"
    }
   ],
   "source": [
    "df.shape"
   ]
  },
  {
   "cell_type": "markdown",
   "id": "bc248083-97f3-4411-a30b-65cf28819c20",
   "metadata": {},
   "source": [
    "#### Dataframe ready after feature engineering"
   ]
  },
  {
   "cell_type": "markdown",
   "id": "381d18e8-cc31-4372-923c-9037554fefa1",
   "metadata": {},
   "source": [
    "## Train Test Split"
   ]
  },
  {
   "cell_type": "code",
   "execution_count": 115,
   "id": "a91924e3-81e5-48cf-b90b-ef28321bed93",
   "metadata": {},
   "outputs": [],
   "source": [
    "X = df.drop('review_score', axis=1)\n",
    "y = df['review_score']"
   ]
  },
  {
   "cell_type": "code",
   "execution_count": 116,
   "id": "31291e2b-8e29-4bdf-8783-ce3ae255358a",
   "metadata": {},
   "outputs": [],
   "source": [
    "from sklearn.model_selection import train_test_split\n",
    "X_train, X_test, y_train, y_test = train_test_split(X, y, test_size=0.25, random_state=1)"
   ]
  },
  {
   "cell_type": "code",
   "execution_count": 117,
   "id": "7cc3a715-1b5a-4839-b00f-6b89c52de72f",
   "metadata": {},
   "outputs": [
    {
     "data": {
      "text/plain": [
       "(87759, 13)"
      ]
     },
     "execution_count": 117,
     "metadata": {},
     "output_type": "execute_result"
    }
   ],
   "source": [
    "X_train.shape"
   ]
  },
  {
   "cell_type": "code",
   "execution_count": 118,
   "id": "b2cc1674-5aad-4e30-8f1b-6db5b2ca8dc0",
   "metadata": {},
   "outputs": [
    {
     "data": {
      "text/plain": [
       "(29254, 13)"
      ]
     },
     "execution_count": 118,
     "metadata": {},
     "output_type": "execute_result"
    }
   ],
   "source": [
    "X_test.shape"
   ]
  },
  {
   "cell_type": "markdown",
   "id": "f12dd79e-13af-419b-8eb7-0c7f499d595f",
   "metadata": {},
   "source": [
    "### Model creation and training the model"
   ]
  },
  {
   "cell_type": "code",
   "execution_count": 116,
   "id": "2d0a9fb9-a9b3-4779-ac34-2c94d42720c1",
   "metadata": {},
   "outputs": [],
   "source": [
    "###from sklearn.preprocessing import StandardScaler\n",
    "sc = StandardScaler()\n",
    "X_train = sc.fit_transform(X_train)\n",
    "X_test = sc.transform(X_test)\n"
   ]
  },
  {
   "cell_type": "code",
   "execution_count": 119,
   "id": "c0ac1418-9584-41fa-90b3-c6432f0de429",
   "metadata": {},
   "outputs": [
    {
     "data": {
      "text/plain": [
       "RandomForestClassifier()"
      ]
     },
     "execution_count": 119,
     "metadata": {},
     "output_type": "execute_result"
    }
   ],
   "source": [
    "from sklearn.ensemble import RandomForestClassifier\n",
    "model = RandomForestClassifier()\n",
    "model.fit(X_train,y_train)"
   ]
  },
  {
   "cell_type": "code",
   "execution_count": 121,
   "id": "30718d47-748e-4a96-ac68-3665f81f4525",
   "metadata": {},
   "outputs": [],
   "source": [
    "y_pred = model.predict(X_test)"
   ]
  },
  {
   "cell_type": "code",
   "execution_count": 122,
   "id": "43474501-05be-4e20-900a-b2286b2c6e18",
   "metadata": {},
   "outputs": [
    {
     "data": {
      "text/plain": [
       "array([5, 5, 5, ..., 5, 5, 5], dtype=int64)"
      ]
     },
     "execution_count": 122,
     "metadata": {},
     "output_type": "execute_result"
    }
   ],
   "source": [
    "y_pred"
   ]
  },
  {
   "cell_type": "code",
   "execution_count": 123,
   "id": "5d2998ef-4d91-4eeb-8507-2331bc454463",
   "metadata": {},
   "outputs": [
    {
     "data": {
      "text/plain": [
       "0.6392630067683052"
      ]
     },
     "execution_count": 123,
     "metadata": {},
     "output_type": "execute_result"
    }
   ],
   "source": [
    "model.score(X_test, y_test)"
   ]
  },
  {
   "cell_type": "code",
   "execution_count": 124,
   "id": "efb62206-76c4-4d91-b3b0-447f06067635",
   "metadata": {},
   "outputs": [],
   "source": [
    "from sklearn.metrics import confusion_matrix\n",
    "from sklearn.metrics import classification_report\n",
    "from imblearn.combine import SMOTEENN"
   ]
  },
  {
   "cell_type": "code",
   "execution_count": 125,
   "id": "135875d3-8063-4259-ace4-b6947248b84f",
   "metadata": {},
   "outputs": [
    {
     "name": "stdout",
     "output_type": "stream",
     "text": [
      "              precision    recall  f1-score   support\n",
      "\n",
      "           0       0.00      0.00      0.00         0\n",
      "           1       0.74      0.40      0.52      3729\n",
      "\n",
      "   micro avg       0.74      0.40      0.52      3729\n",
      "   macro avg       0.37      0.20      0.26      3729\n",
      "weighted avg       0.74      0.40      0.52      3729\n",
      "\n"
     ]
    }
   ],
   "source": [
    "print(classification_report(y_test, y_pred, labels = [0,1]))"
   ]
  },
  {
   "cell_type": "code",
   "execution_count": 126,
   "id": "0d8bb2b6-a43d-4ce2-bd6a-602af45400f8",
   "metadata": {},
   "outputs": [
    {
     "name": "stdout",
     "output_type": "stream",
     "text": [
      "[[ 1492    18    35   104  2080]\n",
      " [   65   232     6    56   668]\n",
      " [   93     8   451   103  1805]\n",
      " [  105    16    61  1191  4213]\n",
      " [  265    20   147   685 15335]]\n"
     ]
    }
   ],
   "source": [
    "print(confusion_matrix(y_test, y_pred))"
   ]
  },
  {
   "cell_type": "code",
   "execution_count": 127,
   "id": "14a454d2-4a69-456b-8ed8-c71fd921d3ba",
   "metadata": {},
   "outputs": [],
   "source": [
    "sm = SMOTEENN()\n",
    "X_resampled, y_resampled = sm.fit_resample(X,y)"
   ]
  },
  {
   "cell_type": "code",
   "execution_count": 128,
   "id": "10613252-4d44-4780-bad9-cff4884b04ee",
   "metadata": {},
   "outputs": [],
   "source": [
    "Xr_train, Xr_test, yr_train, yr_test = train_test_split(X_resampled, y_resampled, test_size=0.25, random_state=5)"
   ]
  },
  {
   "cell_type": "code",
   "execution_count": 129,
   "id": "3c35d9e0-d426-42d2-b333-8d01dacd3cfb",
   "metadata": {},
   "outputs": [
    {
     "data": {
      "text/plain": [
       "(150706, 13)"
      ]
     },
     "execution_count": 129,
     "metadata": {},
     "output_type": "execute_result"
    }
   ],
   "source": [
    "Xr_train.shape"
   ]
  },
  {
   "cell_type": "code",
   "execution_count": 130,
   "id": "7240325c-645e-40e4-a777-9b6e739c3a38",
   "metadata": {},
   "outputs": [
    {
     "data": {
      "text/plain": [
       "(50236, 13)"
      ]
     },
     "execution_count": 130,
     "metadata": {},
     "output_type": "execute_result"
    }
   ],
   "source": [
    "Xr_test.shape"
   ]
  },
  {
   "cell_type": "code",
   "execution_count": 108,
   "id": "2f482c30-8f38-48fc-8014-92440d80167d",
   "metadata": {},
   "outputs": [],
   "source": [
    "#### from sklearn.preprocessing import StandardScaler\n",
    "sc = StandardScaler()\n",
    "Xr_train = sc.fit_transform(Xr_train)\n",
    "Xr_test = sc.transform(Xr_test)"
   ]
  },
  {
   "cell_type": "code",
   "execution_count": 131,
   "id": "e1a18eb4-dcaf-4cdf-ace7-ac14abd17482",
   "metadata": {},
   "outputs": [
    {
     "data": {
      "text/plain": [
       "RandomForestClassifier()"
      ]
     },
     "execution_count": 131,
     "metadata": {},
     "output_type": "execute_result"
    }
   ],
   "source": [
    "from sklearn.ensemble import RandomForestClassifier\n",
    "model_r = RandomForestClassifier()\n",
    "model_r.fit(Xr_train,yr_train)"
   ]
  },
  {
   "cell_type": "code",
   "execution_count": 132,
   "id": "089e38a8-a0e2-4041-9234-c3ce2f98fa01",
   "metadata": {},
   "outputs": [],
   "source": [
    "yr_pred = model_r.predict(Xr_test)"
   ]
  },
  {
   "cell_type": "code",
   "execution_count": 133,
   "id": "59f27a23-1257-4cf7-97f0-371eee795fbc",
   "metadata": {},
   "outputs": [
    {
     "data": {
      "text/plain": [
       "array([1, 3, 3, ..., 4, 3, 1], dtype=int64)"
      ]
     },
     "execution_count": 133,
     "metadata": {},
     "output_type": "execute_result"
    }
   ],
   "source": [
    "yr_pred"
   ]
  },
  {
   "cell_type": "code",
   "execution_count": 134,
   "id": "1ff627f9-22ff-4888-8a68-344de45fd520",
   "metadata": {},
   "outputs": [
    {
     "name": "stdout",
     "output_type": "stream",
     "text": [
      "              precision    recall  f1-score   support\n",
      "\n",
      "           0       0.00      0.00      0.00         0\n",
      "           1       0.91      0.90      0.90     11543\n",
      "\n",
      "   micro avg       0.91      0.90      0.90     11543\n",
      "   macro avg       0.46      0.45      0.45     11543\n",
      "weighted avg       0.91      0.90      0.90     11543\n",
      "\n"
     ]
    }
   ],
   "source": [
    "print(classification_report(yr_test, yr_pred, labels = [0,1]))"
   ]
  },
  {
   "cell_type": "code",
   "execution_count": 135,
   "id": "efaea38f-7764-4912-b17b-230e750dedfc",
   "metadata": {},
   "outputs": [
    {
     "data": {
      "text/plain": [
       "89.01385460625846"
      ]
     },
     "execution_count": 135,
     "metadata": {},
     "output_type": "execute_result"
    }
   ],
   "source": [
    "model_r.score(Xr_test, yr_test)*100"
   ]
  },
  {
   "cell_type": "markdown",
   "id": "e9e28270-6f2a-422d-949e-8fa0a8c378ba",
   "metadata": {},
   "source": [
    "#### Model created with 89% of accuracy rate"
   ]
  },
  {
   "cell_type": "markdown",
   "id": "4d1d07c0-50ae-4f6e-9074-5d41eaa36dc2",
   "metadata": {},
   "source": [
    "#### Saving the model"
   ]
  },
  {
   "cell_type": "code",
   "execution_count": 136,
   "id": "658ae17c-52fb-4c4a-8a9a-24bcfb5a3602",
   "metadata": {},
   "outputs": [],
   "source": [
    "import pickle"
   ]
  },
  {
   "cell_type": "code",
   "execution_count": 137,
   "id": "4d5f80b4-cd98-455f-8ecf-48329f077189",
   "metadata": {},
   "outputs": [],
   "source": [
    "filename = 'ecom_model.pkl'"
   ]
  },
  {
   "cell_type": "code",
   "execution_count": 138,
   "id": "a625066f-e7a3-413a-8e06-bd7596e0af24",
   "metadata": {},
   "outputs": [],
   "source": [
    "pickle.dump(model_r, open(filename, 'wb'))"
   ]
  },
  {
   "cell_type": "code",
   "execution_count": 140,
   "id": "a8ba68a3-bc24-460a-8b61-883d8a8ee46d",
   "metadata": {},
   "outputs": [],
   "source": [
    "load_model = pickle.load(open(filename, 'rb'))"
   ]
  },
  {
   "cell_type": "code",
   "execution_count": 141,
   "id": "dbc3838c-1d00-4218-8dcf-120765118792",
   "metadata": {},
   "outputs": [
    {
     "data": {
      "text/plain": [
       "0.8901385460625846"
      ]
     },
     "execution_count": 141,
     "metadata": {},
     "output_type": "execute_result"
    }
   ],
   "source": [
    "load_model.score(Xr_test, yr_test)"
   ]
  },
  {
   "cell_type": "code",
   "execution_count": 149,
   "id": "6c63bc43-3bd0-492c-9987-dbdd18c9bc9c",
   "metadata": {},
   "outputs": [],
   "source": [
    "data = [[2, 1, 1, 1, 16.39, 2559, 25, 9, 7.39, 30, 1.0, 517, 22]]\n",
    "\n",
    "# create the pandad dataframe\n",
    "new_df = pd.DataFrame(data, columns = ['order_status', 'payment_sequential', 'payment_type', 'payment_installments', 'payment_value','customer_city', 'customer_state', 'price', 'freight_value', 'product_category_name', 'product_photos_qty', 'seller_city', 'seller_state'])"
   ]
  },
  {
   "cell_type": "code",
   "execution_count": 150,
   "id": "3a75b97a-26ce-467b-9f9b-0ca0ea62aa40",
   "metadata": {},
   "outputs": [
    {
     "data": {
      "text/html": [
       "<div>\n",
       "<style scoped>\n",
       "    .dataframe tbody tr th:only-of-type {\n",
       "        vertical-align: middle;\n",
       "    }\n",
       "\n",
       "    .dataframe tbody tr th {\n",
       "        vertical-align: top;\n",
       "    }\n",
       "\n",
       "    .dataframe thead th {\n",
       "        text-align: right;\n",
       "    }\n",
       "</style>\n",
       "<table border=\"1\" class=\"dataframe\">\n",
       "  <thead>\n",
       "    <tr style=\"text-align: right;\">\n",
       "      <th></th>\n",
       "      <th>order_status</th>\n",
       "      <th>payment_sequential</th>\n",
       "      <th>payment_type</th>\n",
       "      <th>payment_installments</th>\n",
       "      <th>payment_value</th>\n",
       "      <th>customer_city</th>\n",
       "      <th>customer_state</th>\n",
       "      <th>price</th>\n",
       "      <th>freight_value</th>\n",
       "      <th>product_category_name</th>\n",
       "      <th>product_photos_qty</th>\n",
       "      <th>seller_city</th>\n",
       "      <th>seller_state</th>\n",
       "    </tr>\n",
       "  </thead>\n",
       "  <tbody>\n",
       "    <tr>\n",
       "      <th>0</th>\n",
       "      <td>2</td>\n",
       "      <td>1</td>\n",
       "      <td>1</td>\n",
       "      <td>1</td>\n",
       "      <td>16.39</td>\n",
       "      <td>2559</td>\n",
       "      <td>25</td>\n",
       "      <td>9</td>\n",
       "      <td>7.39</td>\n",
       "      <td>30</td>\n",
       "      <td>1.0</td>\n",
       "      <td>517</td>\n",
       "      <td>22</td>\n",
       "    </tr>\n",
       "  </tbody>\n",
       "</table>\n",
       "</div>"
      ],
      "text/plain": [
       "   order_status  payment_sequential  payment_type  payment_installments  \\\n",
       "0             2                   1             1                     1   \n",
       "\n",
       "   payment_value  customer_city  customer_state  price  freight_value  \\\n",
       "0          16.39           2559              25      9           7.39   \n",
       "\n",
       "   product_category_name  product_photos_qty  seller_city  seller_state  \n",
       "0                     30                 1.0          517            22  "
      ]
     },
     "execution_count": 150,
     "metadata": {},
     "output_type": "execute_result"
    }
   ],
   "source": [
    "new_df.head()"
   ]
  },
  {
   "cell_type": "code",
   "execution_count": 151,
   "id": "ce1103a5-938f-4826-b63b-d05e294454fa",
   "metadata": {},
   "outputs": [],
   "source": [
    "single = model_r.predict(new_df)"
   ]
  },
  {
   "cell_type": "code",
   "execution_count": 152,
   "id": "e2934a8a-a23c-43b8-bc10-559e7d9d149f",
   "metadata": {},
   "outputs": [
    {
     "name": "stdout",
     "output_type": "stream",
     "text": [
      "[3]\n"
     ]
    }
   ],
   "source": [
    "print(single)"
   ]
  },
  {
   "cell_type": "code",
   "execution_count": 157,
   "id": "4186183e-adce-41af-a764-46de2e0761a1",
   "metadata": {},
   "outputs": [],
   "source": [
    "probability = model_r.predict_proba(new_df)[:,1]"
   ]
  },
  {
   "cell_type": "code",
   "execution_count": 158,
   "id": "8f4becb0-2391-4ac0-b99d-5c6a902a1129",
   "metadata": {},
   "outputs": [
    {
     "data": {
      "text/plain": [
       "array([0.01])"
      ]
     },
     "execution_count": 158,
     "metadata": {},
     "output_type": "execute_result"
    }
   ],
   "source": [
    "probability"
   ]
  },
  {
   "cell_type": "code",
   "execution_count": 187,
   "id": "c4222a7a-7ef0-4ff5-beac-36e575d1df59",
   "metadata": {},
   "outputs": [
    {
     "name": "stdout",
     "output_type": "stream",
     "text": [
      "Customer not happy, review score: [1]\n"
     ]
    }
   ],
   "source": [
    "single = model_r.predict(new_df)\n",
    "\n",
    "if single==1:\n",
    "    print(\"Customer not happy, review score: {}\".format(single))\n",
    "    \n",
    "elif single==2:\n",
    "    print(\"Cutomer not happy, review score: {}\".format(single))\n",
    "    \n",
    "else: \n",
    "    print(\"Customer is satisfied, review score: {}\".format(single))"
   ]
  },
  {
   "cell_type": "code",
   "execution_count": null,
   "id": "5cfa274c-fe38-4cf9-af43-a27b1c42dbb0",
   "metadata": {},
   "outputs": [],
   "source": []
  },
  {
   "cell_type": "code",
   "execution_count": 148,
   "id": "7da6fe6f-1efe-41d0-9f30-4c3f84d0f671",
   "metadata": {},
   "outputs": [
    {
     "data": {
      "text/html": [
       "<div>\n",
       "<style scoped>\n",
       "    .dataframe tbody tr th:only-of-type {\n",
       "        vertical-align: middle;\n",
       "    }\n",
       "\n",
       "    .dataframe tbody tr th {\n",
       "        vertical-align: top;\n",
       "    }\n",
       "\n",
       "    .dataframe thead th {\n",
       "        text-align: right;\n",
       "    }\n",
       "</style>\n",
       "<table border=\"1\" class=\"dataframe\">\n",
       "  <thead>\n",
       "    <tr style=\"text-align: right;\">\n",
       "      <th></th>\n",
       "      <th>review_score</th>\n",
       "      <th>order_status</th>\n",
       "      <th>payment_sequential</th>\n",
       "      <th>payment_type</th>\n",
       "      <th>payment_installments</th>\n",
       "      <th>payment_value</th>\n",
       "      <th>customer_city</th>\n",
       "      <th>customer_state</th>\n",
       "      <th>price</th>\n",
       "      <th>freight_value</th>\n",
       "      <th>product_category_name</th>\n",
       "      <th>product_photos_qty</th>\n",
       "      <th>seller_city</th>\n",
       "      <th>seller_state</th>\n",
       "    </tr>\n",
       "  </thead>\n",
       "  <tbody>\n",
       "    <tr>\n",
       "      <th>0</th>\n",
       "      <td>4</td>\n",
       "      <td>2</td>\n",
       "      <td>1</td>\n",
       "      <td>1</td>\n",
       "      <td>8</td>\n",
       "      <td>397.26</td>\n",
       "      <td>2559</td>\n",
       "      <td>25</td>\n",
       "      <td>185.00</td>\n",
       "      <td>13.63</td>\n",
       "      <td>32</td>\n",
       "      <td>1.0</td>\n",
       "      <td>503</td>\n",
       "      <td>22</td>\n",
       "    </tr>\n",
       "    <tr>\n",
       "      <th>1</th>\n",
       "      <td>4</td>\n",
       "      <td>2</td>\n",
       "      <td>1</td>\n",
       "      <td>1</td>\n",
       "      <td>8</td>\n",
       "      <td>397.26</td>\n",
       "      <td>2559</td>\n",
       "      <td>25</td>\n",
       "      <td>185.00</td>\n",
       "      <td>13.63</td>\n",
       "      <td>32</td>\n",
       "      <td>1.0</td>\n",
       "      <td>503</td>\n",
       "      <td>22</td>\n",
       "    </tr>\n",
       "    <tr>\n",
       "      <th>2</th>\n",
       "      <td>4</td>\n",
       "      <td>2</td>\n",
       "      <td>1</td>\n",
       "      <td>1</td>\n",
       "      <td>2</td>\n",
       "      <td>26.17</td>\n",
       "      <td>2559</td>\n",
       "      <td>25</td>\n",
       "      <td>17.90</td>\n",
       "      <td>8.27</td>\n",
       "      <td>73</td>\n",
       "      <td>3.0</td>\n",
       "      <td>466</td>\n",
       "      <td>22</td>\n",
       "    </tr>\n",
       "    <tr>\n",
       "      <th>3</th>\n",
       "      <td>3</td>\n",
       "      <td>2</td>\n",
       "      <td>1</td>\n",
       "      <td>1</td>\n",
       "      <td>1</td>\n",
       "      <td>16.39</td>\n",
       "      <td>2559</td>\n",
       "      <td>25</td>\n",
       "      <td>9.00</td>\n",
       "      <td>7.39</td>\n",
       "      <td>30</td>\n",
       "      <td>1.0</td>\n",
       "      <td>517</td>\n",
       "      <td>22</td>\n",
       "    </tr>\n",
       "    <tr>\n",
       "      <th>4</th>\n",
       "      <td>5</td>\n",
       "      <td>2</td>\n",
       "      <td>1</td>\n",
       "      <td>2</td>\n",
       "      <td>1</td>\n",
       "      <td>70.89</td>\n",
       "      <td>2559</td>\n",
       "      <td>25</td>\n",
       "      <td>49.90</td>\n",
       "      <td>20.99</td>\n",
       "      <td>40</td>\n",
       "      <td>2.0</td>\n",
       "      <td>507</td>\n",
       "      <td>22</td>\n",
       "    </tr>\n",
       "    <tr>\n",
       "      <th>5</th>\n",
       "      <td>5</td>\n",
       "      <td>2</td>\n",
       "      <td>1</td>\n",
       "      <td>3</td>\n",
       "      <td>1</td>\n",
       "      <td>72.43</td>\n",
       "      <td>2559</td>\n",
       "      <td>25</td>\n",
       "      <td>59.00</td>\n",
       "      <td>13.43</td>\n",
       "      <td>40</td>\n",
       "      <td>2.0</td>\n",
       "      <td>507</td>\n",
       "      <td>22</td>\n",
       "    </tr>\n",
       "    <tr>\n",
       "      <th>6</th>\n",
       "      <td>5</td>\n",
       "      <td>2</td>\n",
       "      <td>1</td>\n",
       "      <td>1</td>\n",
       "      <td>1</td>\n",
       "      <td>41.96</td>\n",
       "      <td>2559</td>\n",
       "      <td>25</td>\n",
       "      <td>31.00</td>\n",
       "      <td>10.96</td>\n",
       "      <td>32</td>\n",
       "      <td>2.0</td>\n",
       "      <td>431</td>\n",
       "      <td>22</td>\n",
       "    </tr>\n",
       "    <tr>\n",
       "      <th>7</th>\n",
       "      <td>2</td>\n",
       "      <td>2</td>\n",
       "      <td>1</td>\n",
       "      <td>1</td>\n",
       "      <td>1</td>\n",
       "      <td>150.28</td>\n",
       "      <td>2559</td>\n",
       "      <td>25</td>\n",
       "      <td>138.90</td>\n",
       "      <td>11.38</td>\n",
       "      <td>73</td>\n",
       "      <td>1.0</td>\n",
       "      <td>507</td>\n",
       "      <td>22</td>\n",
       "    </tr>\n",
       "    <tr>\n",
       "      <th>8</th>\n",
       "      <td>5</td>\n",
       "      <td>2</td>\n",
       "      <td>1</td>\n",
       "      <td>1</td>\n",
       "      <td>4</td>\n",
       "      <td>89.32</td>\n",
       "      <td>2559</td>\n",
       "      <td>25</td>\n",
       "      <td>12.99</td>\n",
       "      <td>9.34</td>\n",
       "      <td>54</td>\n",
       "      <td>1.0</td>\n",
       "      <td>517</td>\n",
       "      <td>22</td>\n",
       "    </tr>\n",
       "    <tr>\n",
       "      <th>9</th>\n",
       "      <td>5</td>\n",
       "      <td>2</td>\n",
       "      <td>1</td>\n",
       "      <td>1</td>\n",
       "      <td>4</td>\n",
       "      <td>89.32</td>\n",
       "      <td>2559</td>\n",
       "      <td>25</td>\n",
       "      <td>12.99</td>\n",
       "      <td>9.34</td>\n",
       "      <td>54</td>\n",
       "      <td>1.0</td>\n",
       "      <td>517</td>\n",
       "      <td>22</td>\n",
       "    </tr>\n",
       "  </tbody>\n",
       "</table>\n",
       "</div>"
      ],
      "text/plain": [
       "   review_score  order_status  payment_sequential  payment_type  \\\n",
       "0             4             2                   1             1   \n",
       "1             4             2                   1             1   \n",
       "2             4             2                   1             1   \n",
       "3             3             2                   1             1   \n",
       "4             5             2                   1             2   \n",
       "5             5             2                   1             3   \n",
       "6             5             2                   1             1   \n",
       "7             2             2                   1             1   \n",
       "8             5             2                   1             1   \n",
       "9             5             2                   1             1   \n",
       "\n",
       "   payment_installments  payment_value  customer_city  customer_state   price  \\\n",
       "0                     8         397.26           2559              25  185.00   \n",
       "1                     8         397.26           2559              25  185.00   \n",
       "2                     2          26.17           2559              25   17.90   \n",
       "3                     1          16.39           2559              25    9.00   \n",
       "4                     1          70.89           2559              25   49.90   \n",
       "5                     1          72.43           2559              25   59.00   \n",
       "6                     1          41.96           2559              25   31.00   \n",
       "7                     1         150.28           2559              25  138.90   \n",
       "8                     4          89.32           2559              25   12.99   \n",
       "9                     4          89.32           2559              25   12.99   \n",
       "\n",
       "   freight_value  product_category_name  product_photos_qty  seller_city  \\\n",
       "0          13.63                     32                 1.0          503   \n",
       "1          13.63                     32                 1.0          503   \n",
       "2           8.27                     73                 3.0          466   \n",
       "3           7.39                     30                 1.0          517   \n",
       "4          20.99                     40                 2.0          507   \n",
       "5          13.43                     40                 2.0          507   \n",
       "6          10.96                     32                 2.0          431   \n",
       "7          11.38                     73                 1.0          507   \n",
       "8           9.34                     54                 1.0          517   \n",
       "9           9.34                     54                 1.0          517   \n",
       "\n",
       "   seller_state  \n",
       "0            22  \n",
       "1            22  \n",
       "2            22  \n",
       "3            22  \n",
       "4            22  \n",
       "5            22  \n",
       "6            22  \n",
       "7            22  \n",
       "8            22  \n",
       "9            22  "
      ]
     },
     "execution_count": 148,
     "metadata": {},
     "output_type": "execute_result"
    }
   ],
   "source": [
    "df.head(10)"
   ]
  },
  {
   "cell_type": "code",
   "execution_count": null,
   "id": "0aaa5ba4-9c1d-4516-a039-f3d64cce5f1d",
   "metadata": {},
   "outputs": [],
   "source": []
  },
  {
   "cell_type": "markdown",
   "id": "6b0c321d-749a-454d-a543-22c1cf3ce6e3",
   "metadata": {},
   "source": [
    "# Hyper Parameter Tuning\n",
    "### Random Search CV"
   ]
  },
  {
   "cell_type": "code",
   "execution_count": 122,
   "id": "d20b93e8-919b-47be-ba8f-e1284154859e",
   "metadata": {},
   "outputs": [],
   "source": [
    "from sklearn.model_selection import RandomizedSearchCV"
   ]
  },
  {
   "cell_type": "code",
   "execution_count": 123,
   "id": "51a38c1c-2b19-4e9b-b0a2-d7bd705312f8",
   "metadata": {},
   "outputs": [],
   "source": [
    "# RandomizedSearch CV\n",
    "# Number of trees in random forest\n",
    "n_estimators=[int(x) for x in np.linspace(start=100, stop=1200, num=12)]\n",
    "# Number of features to consider at every split\n",
    "max_features=['auto', 'sqrt']\n",
    "# Maximum number of levels in tree\n",
    "max_depth=[int(x) for x in np.linspace(5, 20, num=6)]\n",
    "# Minimum number of samples required to split a node\n",
    "min_samples_split=[2, 5, 10, 15, 100]\n",
    "# Minimum number of samples required at each leaf node\n",
    "min_samples_leaf=[1, 2, 5, 10]"
   ]
  },
  {
   "cell_type": "code",
   "execution_count": 124,
   "id": "105be714-253d-4a64-a025-0c92cddb0414",
   "metadata": {},
   "outputs": [],
   "source": [
    "# Create the random grid\n",
    "\n",
    "random_grid={'n_estimators': n_estimators,\n",
    "            'max_features': max_features,\n",
    "            'max_depth': max_depth,\n",
    "            'min_samples_split': min_samples_split,\n",
    "            'min_samples_leaf': min_samples_leaf}"
   ]
  },
  {
   "cell_type": "code",
   "execution_count": 125,
   "id": "d80472a5-8cee-4899-ad0d-2cfb3e054af0",
   "metadata": {},
   "outputs": [],
   "source": [
    "rf_random=RandomizedSearchCV(estimator=model, param_distributions=random_grid, scoring='neg_mean_squared_error', n_iter=10, cv=5, verbose=2, random_state=42, n_jobs=1)"
   ]
  },
  {
   "cell_type": "code",
   "execution_count": 126,
   "id": "3072ed61-6520-4790-b8b3-5cf201ed4085",
   "metadata": {},
   "outputs": [
    {
     "name": "stdout",
     "output_type": "stream",
     "text": [
      "Fitting 5 folds for each of 10 candidates, totalling 50 fits\n",
      "[CV] END max_depth=8, max_features=sqrt, min_samples_leaf=5, min_samples_split=5, n_estimators=900; total time= 1.3min\n",
      "[CV] END max_depth=8, max_features=sqrt, min_samples_leaf=5, min_samples_split=5, n_estimators=900; total time= 1.4min\n",
      "[CV] END max_depth=8, max_features=sqrt, min_samples_leaf=5, min_samples_split=5, n_estimators=900; total time= 1.4min\n",
      "[CV] END max_depth=8, max_features=sqrt, min_samples_leaf=5, min_samples_split=5, n_estimators=900; total time= 1.4min\n",
      "[CV] END max_depth=8, max_features=sqrt, min_samples_leaf=5, min_samples_split=5, n_estimators=900; total time= 1.6min\n",
      "[CV] END max_depth=11, max_features=sqrt, min_samples_leaf=2, min_samples_split=10, n_estimators=1100; total time= 2.4min\n",
      "[CV] END max_depth=11, max_features=sqrt, min_samples_leaf=2, min_samples_split=10, n_estimators=1100; total time= 2.6min\n",
      "[CV] END max_depth=11, max_features=sqrt, min_samples_leaf=2, min_samples_split=10, n_estimators=1100; total time= 2.2min\n",
      "[CV] END max_depth=11, max_features=sqrt, min_samples_leaf=2, min_samples_split=10, n_estimators=1100; total time= 2.2min\n",
      "[CV] END max_depth=11, max_features=sqrt, min_samples_leaf=2, min_samples_split=10, n_estimators=1100; total time= 2.2min\n",
      "[CV] END max_depth=11, max_features=auto, min_samples_leaf=5, min_samples_split=100, n_estimators=300; total time=  40.1s\n",
      "[CV] END max_depth=11, max_features=auto, min_samples_leaf=5, min_samples_split=100, n_estimators=300; total time=  41.8s\n",
      "[CV] END max_depth=11, max_features=auto, min_samples_leaf=5, min_samples_split=100, n_estimators=300; total time=  36.6s\n",
      "[CV] END max_depth=11, max_features=auto, min_samples_leaf=5, min_samples_split=100, n_estimators=300; total time=  38.8s\n",
      "[CV] END max_depth=11, max_features=auto, min_samples_leaf=5, min_samples_split=100, n_estimators=300; total time=  35.5s\n",
      "[CV] END max_depth=11, max_features=auto, min_samples_leaf=5, min_samples_split=5, n_estimators=400; total time=  48.5s\n",
      "[CV] END max_depth=11, max_features=auto, min_samples_leaf=5, min_samples_split=5, n_estimators=400; total time=  46.7s\n",
      "[CV] END max_depth=11, max_features=auto, min_samples_leaf=5, min_samples_split=5, n_estimators=400; total time=  47.1s\n",
      "[CV] END max_depth=11, max_features=auto, min_samples_leaf=5, min_samples_split=5, n_estimators=400; total time=  51.3s\n",
      "[CV] END max_depth=11, max_features=auto, min_samples_leaf=5, min_samples_split=5, n_estimators=400; total time=  51.1s\n",
      "[CV] END max_depth=14, max_features=auto, min_samples_leaf=10, min_samples_split=5, n_estimators=700; total time= 1.5min\n",
      "[CV] END max_depth=14, max_features=auto, min_samples_leaf=10, min_samples_split=5, n_estimators=700; total time= 1.6min\n",
      "[CV] END max_depth=14, max_features=auto, min_samples_leaf=10, min_samples_split=5, n_estimators=700; total time= 1.6min\n",
      "[CV] END max_depth=14, max_features=auto, min_samples_leaf=10, min_samples_split=5, n_estimators=700; total time= 1.6min\n",
      "[CV] END max_depth=14, max_features=auto, min_samples_leaf=10, min_samples_split=5, n_estimators=700; total time= 1.6min\n",
      "[CV] END max_depth=17, max_features=sqrt, min_samples_leaf=1, min_samples_split=2, n_estimators=1000; total time= 2.7min\n",
      "[CV] END max_depth=17, max_features=sqrt, min_samples_leaf=1, min_samples_split=2, n_estimators=1000; total time= 3.0min\n",
      "[CV] END max_depth=17, max_features=sqrt, min_samples_leaf=1, min_samples_split=2, n_estimators=1000; total time= 2.8min\n",
      "[CV] END max_depth=17, max_features=sqrt, min_samples_leaf=1, min_samples_split=2, n_estimators=1000; total time= 2.9min\n",
      "[CV] END max_depth=17, max_features=sqrt, min_samples_leaf=1, min_samples_split=2, n_estimators=1000; total time= 2.8min\n",
      "[CV] END max_depth=5, max_features=sqrt, min_samples_leaf=10, min_samples_split=15, n_estimators=1100; total time= 1.3min\n",
      "[CV] END max_depth=5, max_features=sqrt, min_samples_leaf=10, min_samples_split=15, n_estimators=1100; total time= 1.3min\n",
      "[CV] END max_depth=5, max_features=sqrt, min_samples_leaf=10, min_samples_split=15, n_estimators=1100; total time= 1.4min\n",
      "[CV] END max_depth=5, max_features=sqrt, min_samples_leaf=10, min_samples_split=15, n_estimators=1100; total time= 1.3min\n",
      "[CV] END max_depth=5, max_features=sqrt, min_samples_leaf=10, min_samples_split=15, n_estimators=1100; total time= 1.4min\n",
      "[CV] END max_depth=11, max_features=sqrt, min_samples_leaf=1, min_samples_split=15, n_estimators=300; total time=  43.9s\n",
      "[CV] END max_depth=11, max_features=sqrt, min_samples_leaf=1, min_samples_split=15, n_estimators=300; total time=  39.2s\n",
      "[CV] END max_depth=11, max_features=sqrt, min_samples_leaf=1, min_samples_split=15, n_estimators=300; total time=  35.5s\n",
      "[CV] END max_depth=11, max_features=sqrt, min_samples_leaf=1, min_samples_split=15, n_estimators=300; total time=  30.4s\n",
      "[CV] END max_depth=11, max_features=sqrt, min_samples_leaf=1, min_samples_split=15, n_estimators=300; total time=  34.6s\n",
      "[CV] END max_depth=5, max_features=sqrt, min_samples_leaf=2, min_samples_split=10, n_estimators=700; total time=  45.5s\n",
      "[CV] END max_depth=5, max_features=sqrt, min_samples_leaf=2, min_samples_split=10, n_estimators=700; total time=  46.3s\n",
      "[CV] END max_depth=5, max_features=sqrt, min_samples_leaf=2, min_samples_split=10, n_estimators=700; total time=  48.8s\n",
      "[CV] END max_depth=5, max_features=sqrt, min_samples_leaf=2, min_samples_split=10, n_estimators=700; total time=  45.6s\n",
      "[CV] END max_depth=5, max_features=sqrt, min_samples_leaf=2, min_samples_split=10, n_estimators=700; total time=  45.4s\n",
      "[CV] END max_depth=14, max_features=auto, min_samples_leaf=1, min_samples_split=15, n_estimators=700; total time= 1.8min\n",
      "[CV] END max_depth=14, max_features=auto, min_samples_leaf=1, min_samples_split=15, n_estimators=700; total time= 2.2min\n",
      "[CV] END max_depth=14, max_features=auto, min_samples_leaf=1, min_samples_split=15, n_estimators=700; total time= 1.6min\n",
      "[CV] END max_depth=14, max_features=auto, min_samples_leaf=1, min_samples_split=15, n_estimators=700; total time= 1.7min\n",
      "[CV] END max_depth=14, max_features=auto, min_samples_leaf=1, min_samples_split=15, n_estimators=700; total time= 1.7min\n"
     ]
    },
    {
     "data": {
      "text/plain": [
       "RandomizedSearchCV(cv=5, estimator=RandomForestClassifier(), n_jobs=1,\n",
       "                   param_distributions={'max_depth': [5, 8, 11, 14, 17, 20],\n",
       "                                        'max_features': ['auto', 'sqrt'],\n",
       "                                        'min_samples_leaf': [1, 2, 5, 10],\n",
       "                                        'min_samples_split': [2, 5, 10, 15,\n",
       "                                                              100],\n",
       "                                        'n_estimators': [100, 200, 300, 400,\n",
       "                                                         500, 600, 700, 800,\n",
       "                                                         900, 1000, 1100,\n",
       "                                                         1200]},\n",
       "                   random_state=42, scoring='neg_mean_squared_error',\n",
       "                   verbose=2)"
      ]
     },
     "execution_count": 126,
     "metadata": {},
     "output_type": "execute_result"
    }
   ],
   "source": [
    "rf_random.fit(x_train, y_train)"
   ]
  },
  {
   "cell_type": "code",
   "execution_count": 127,
   "id": "4f213351-cce5-4fae-87bc-a915543515b8",
   "metadata": {},
   "outputs": [
    {
     "data": {
      "text/plain": [
       "{'n_estimators': 1000,\n",
       " 'min_samples_split': 2,\n",
       " 'min_samples_leaf': 1,\n",
       " 'max_features': 'sqrt',\n",
       " 'max_depth': 17}"
      ]
     },
     "execution_count": 127,
     "metadata": {},
     "output_type": "execute_result"
    }
   ],
   "source": [
    "rf_random.best_params_"
   ]
  },
  {
   "cell_type": "code",
   "execution_count": 128,
   "id": "69976698-4de8-4dd2-aece-ea6299c24d85",
   "metadata": {},
   "outputs": [
    {
     "data": {
      "text/plain": [
       "-233.41765228686677"
      ]
     },
     "execution_count": 128,
     "metadata": {},
     "output_type": "execute_result"
    }
   ],
   "source": [
    "rf_random.score(x_test,y_test)*100"
   ]
  },
  {
   "cell_type": "code",
   "execution_count": 129,
   "id": "874b0c5b-40e5-46cc-ada9-a9f62d03f75b",
   "metadata": {},
   "outputs": [
    {
     "data": {
      "text/plain": [
       "RandomForestClassifier(max_depth=17, max_features='sqrt', n_estimators=1000)"
      ]
     },
     "execution_count": 129,
     "metadata": {},
     "output_type": "execute_result"
    }
   ],
   "source": [
    "rf_random.best_estimator_"
   ]
  },
  {
   "cell_type": "code",
   "execution_count": 132,
   "id": "f9977882-fd1e-499a-80cd-9b4a679ed3fd",
   "metadata": {},
   "outputs": [],
   "source": [
    "model1 = RandomForestClassifier(n_estimators=1000, min_samples_split=2, min_samples_leaf=1, max_features='sqrt', max_depth=17)"
   ]
  },
  {
   "cell_type": "code",
   "execution_count": 133,
   "id": "b8bc09d8-b9bc-47f5-9a82-a545aae682e2",
   "metadata": {},
   "outputs": [
    {
     "data": {
      "text/plain": [
       "RandomForestClassifier(max_depth=17, max_features='sqrt', n_estimators=1000)"
      ]
     },
     "execution_count": 133,
     "metadata": {},
     "output_type": "execute_result"
    }
   ],
   "source": [
    "model1.fit(x_train, y_train)"
   ]
  },
  {
   "cell_type": "code",
   "execution_count": 134,
   "id": "e1928cd5-436b-4be0-b12c-d6e6f41a5bce",
   "metadata": {},
   "outputs": [
    {
     "data": {
      "text/plain": [
       "61.171121897860125"
      ]
     },
     "execution_count": 134,
     "metadata": {},
     "output_type": "execute_result"
    }
   ],
   "source": [
    "model1.score(x_test, y_test)*100"
   ]
  },
  {
   "cell_type": "code",
   "execution_count": 135,
   "id": "d88a15a5-414f-492f-9a6b-ab3c56b159a5",
   "metadata": {},
   "outputs": [
    {
     "data": {
      "text/plain": [
       "64.02201408354414"
      ]
     },
     "execution_count": 135,
     "metadata": {},
     "output_type": "execute_result"
    }
   ],
   "source": [
    "model.score(x_test, y_test)*100"
   ]
  },
  {
   "cell_type": "code",
   "execution_count": null,
   "id": "3d34077f-67ea-46e7-8c6b-3c1cd3f8a4a6",
   "metadata": {},
   "outputs": [],
   "source": []
  },
  {
   "cell_type": "code",
   "execution_count": null,
   "id": "f9142d3e-06b4-4222-ab75-d410772c1343",
   "metadata": {},
   "outputs": [],
   "source": []
  }
 ],
 "metadata": {
  "kernelspec": {
   "display_name": "Python 3 (ipykernel)",
   "language": "python",
   "name": "python3"
  },
  "language_info": {
   "codemirror_mode": {
    "name": "ipython",
    "version": 3
   },
   "file_extension": ".py",
   "mimetype": "text/x-python",
   "name": "python",
   "nbconvert_exporter": "python",
   "pygments_lexer": "ipython3",
   "version": "3.7.1"
  }
 },
 "nbformat": 4,
 "nbformat_minor": 5
}
